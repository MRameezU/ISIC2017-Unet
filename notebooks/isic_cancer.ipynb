{
  "cells": [
    {
      "cell_type": "markdown",
      "metadata": {
        "id": "view-in-github",
        "colab_type": "text"
      },
      "source": [
        "<a href=\"https://colab.research.google.com/github/MRameezU/ISIC2017-Unet/blob/main/notebooks/isic_cancer.ipynb\" target=\"_parent\"><img src=\"https://colab.research.google.com/assets/colab-badge.svg\" alt=\"Open In Colab\"/></a>"
      ]
    },
    {
      "cell_type": "code",
      "execution_count": 1,
      "metadata": {
        "colab": {
          "base_uri": "https://localhost:8080/"
        },
        "id": "5q621Tar8oaF",
        "outputId": "28758b36-ef4e-453a-c02f-369c40d407d2"
      },
      "outputs": [
        {
          "output_type": "stream",
          "name": "stdout",
          "text": [
            "/bin/bash: line 1: nvidia-smi: command not found\n"
          ]
        }
      ],
      "source": [
        "!nvidia-smi"
      ]
    },
    {
      "cell_type": "markdown",
      "metadata": {
        "id": "cqpposRHAZ2v"
      },
      "source": [
        "## 0- Get Setup"
      ]
    },
    {
      "cell_type": "code",
      "execution_count": 2,
      "metadata": {
        "colab": {
          "base_uri": "https://localhost:8080/"
        },
        "id": "3QrZrTI0AYos",
        "outputId": "c1f2d9bb-83b2-4d56-f231-58f93bc85b2d"
      },
      "outputs": [
        {
          "output_type": "stream",
          "name": "stdout",
          "text": [
            "Requirement already satisfied: torch in /usr/local/lib/python3.10/dist-packages (2.5.1+cu121)\n",
            "Requirement already satisfied: filelock in /usr/local/lib/python3.10/dist-packages (from torch) (3.16.1)\n",
            "Requirement already satisfied: typing-extensions>=4.8.0 in /usr/local/lib/python3.10/dist-packages (from torch) (4.12.2)\n",
            "Requirement already satisfied: networkx in /usr/local/lib/python3.10/dist-packages (from torch) (3.4.2)\n",
            "Requirement already satisfied: jinja2 in /usr/local/lib/python3.10/dist-packages (from torch) (3.1.4)\n",
            "Requirement already satisfied: fsspec in /usr/local/lib/python3.10/dist-packages (from torch) (2024.10.0)\n",
            "Requirement already satisfied: sympy==1.13.1 in /usr/local/lib/python3.10/dist-packages (from torch) (1.13.1)\n",
            "Requirement already satisfied: mpmath<1.4,>=1.1.0 in /usr/local/lib/python3.10/dist-packages (from sympy==1.13.1->torch) (1.3.0)\n",
            "Requirement already satisfied: MarkupSafe>=2.0 in /usr/local/lib/python3.10/dist-packages (from jinja2->torch) (3.0.2)\n",
            "Requirement already satisfied: torchvision in /usr/local/lib/python3.10/dist-packages (0.20.1+cu121)\n",
            "Requirement already satisfied: numpy in /usr/local/lib/python3.10/dist-packages (from torchvision) (1.26.4)\n",
            "Requirement already satisfied: torch==2.5.1 in /usr/local/lib/python3.10/dist-packages (from torchvision) (2.5.1+cu121)\n",
            "Requirement already satisfied: pillow!=8.3.*,>=5.3.0 in /usr/local/lib/python3.10/dist-packages (from torchvision) (11.0.0)\n",
            "Requirement already satisfied: filelock in /usr/local/lib/python3.10/dist-packages (from torch==2.5.1->torchvision) (3.16.1)\n",
            "Requirement already satisfied: typing-extensions>=4.8.0 in /usr/local/lib/python3.10/dist-packages (from torch==2.5.1->torchvision) (4.12.2)\n",
            "Requirement already satisfied: networkx in /usr/local/lib/python3.10/dist-packages (from torch==2.5.1->torchvision) (3.4.2)\n",
            "Requirement already satisfied: jinja2 in /usr/local/lib/python3.10/dist-packages (from torch==2.5.1->torchvision) (3.1.4)\n",
            "Requirement already satisfied: fsspec in /usr/local/lib/python3.10/dist-packages (from torch==2.5.1->torchvision) (2024.10.0)\n",
            "Requirement already satisfied: sympy==1.13.1 in /usr/local/lib/python3.10/dist-packages (from torch==2.5.1->torchvision) (1.13.1)\n",
            "Requirement already satisfied: mpmath<1.4,>=1.1.0 in /usr/local/lib/python3.10/dist-packages (from sympy==1.13.1->torch==2.5.1->torchvision) (1.3.0)\n",
            "Requirement already satisfied: MarkupSafe>=2.0 in /usr/local/lib/python3.10/dist-packages (from jinja2->torch==2.5.1->torchvision) (3.0.2)\n",
            "torch version: 2.5.1+cu121\n",
            "torchvision version: 0.20.1+cu121\n"
          ]
        }
      ],
      "source": [
        "!pip install --upgrade torch\n",
        "!pip install --upgrade torchvision\n",
        "\n",
        "import torch\n",
        "import torchvision\n",
        "print(f\"torch version: {torch.__version__}\")\n",
        "print(f\"torchvision version: {torchvision.__version__}\")"
      ]
    },
    {
      "cell_type": "markdown",
      "metadata": {
        "id": "mKyWSzwRA870"
      },
      "source": [
        "device agnostic code"
      ]
    },
    {
      "cell_type": "code",
      "execution_count": 3,
      "metadata": {
        "id": "hlW2JJNeA_3C",
        "colab": {
          "base_uri": "https://localhost:8080/",
          "height": 35
        },
        "outputId": "32c76739-7b47-4666-a969-cc3dc53bf910"
      },
      "outputs": [
        {
          "output_type": "execute_result",
          "data": {
            "text/plain": [
              "'cpu'"
            ],
            "application/vnd.google.colaboratory.intrinsic+json": {
              "type": "string"
            }
          },
          "metadata": {},
          "execution_count": 3
        }
      ],
      "source": [
        "device= \"cuda\" if torch.cuda.is_available() else \"cpu\"\n",
        "device"
      ]
    },
    {
      "cell_type": "markdown",
      "metadata": {
        "id": "NAC6C5n8BNL9"
      },
      "source": [
        "## 1 - Gettting Data"
      ]
    },
    {
      "cell_type": "markdown",
      "source": [
        "### 1.0 - Downloading and Reorganizing training data"
      ],
      "metadata": {
        "id": "r7EF3r-5UuPr"
      }
    },
    {
      "cell_type": "code",
      "execution_count": 4,
      "metadata": {
        "id": "DrgctOIJGAYu"
      },
      "outputs": [],
      "source": [
        "import requests\n",
        "import zipfile\n",
        "from pathlib import Path\n",
        "from tqdm.notebook import tqdm\n",
        "# training data\n",
        "# path to data folder\n",
        "data_path = Path(\"data/\")\n",
        "train_data_path = data_path / \"train\"\n",
        "binary_mask_data_path = data_path / \"binary\"\n",
        "train_zip_url = \"https://isic-challenge-data.s3.amazonaws.com/2017/ISIC-2017_Training_Data.zip\"\n",
        "train_zip_file = data_path / \"ISIC-2017_Training_Data.zip\"\n",
        "# binary mask\n",
        "train_binary_zip_url = \"https://isic-challenge-data.s3.amazonaws.com/2017/ISIC-2017_Training_Part1_GroundTruth.zip\"\n",
        "train_binary_zip_file = data_path / \"ISIC-2017_Training_Part1_GroundTruth.zip\"\n",
        "\n",
        "\n",
        "\n",
        "def download_file(url, dest_path):\n",
        "    \"\"\"Downloads a file from a URL to a destination path with progress bar.\"\"\"\n",
        "    response = requests.get(url, stream=True)\n",
        "    response.raise_for_status()  # Raise an error for bad responses\n",
        "    total_size = int(response.headers.get('content-length', 0))\n",
        "    with open(dest_path, \"wb\") as file, tqdm(\n",
        "        desc=f\"Downloading {dest_path.name}\",\n",
        "        total=total_size,\n",
        "        unit=\"B\",\n",
        "        unit_scale=True,\n",
        "        unit_divisor=1024,\n",
        "    ) as bar:\n",
        "        for chunk in response.iter_content(chunk_size=1024):\n",
        "            file.write(chunk)\n",
        "            bar.update(len(chunk))\n",
        "    print(f\"Download Complete: {dest_path}\")\n",
        "\n",
        "def extract_zip(file_path, extract_to):\n",
        "    \"\"\"Extracts a zip file to the specified directory.\"\"\"\n",
        "    with zipfile.ZipFile(file_path, mode=\"r\") as zip_file:\n",
        "        print(f\"Extracting {file_path.name} to {extract_to}\")\n",
        "        zip_file.extractall(extract_to)\n",
        "    print(f\"Extraction Complete: {extract_to}\")\n"
      ]
    },
    {
      "cell_type": "code",
      "execution_count": 5,
      "metadata": {
        "colab": {
          "base_uri": "https://localhost:8080/",
          "height": 237,
          "referenced_widgets": [
            "790f89c0f5d3446bb93c625ab50bd7b6",
            "628f6ddf22e0440684f4bf1b8c97f091",
            "f1a524add1d842a9b5baa2efb0e4895f",
            "79a3442b0c9545cd8ea80a3d0792f5d3",
            "3c6b6113be284a83b0b9fb09d7ce56a5",
            "3836531ebb994b97b76c8146cad100c3",
            "0613ec503f5549fc9d401d1e36c957d7",
            "e6165ffd55b245eda552096b62b74d76",
            "77c81513bdc94575aa3e8c2eb6016a80",
            "0254039fe4e44b8485ed79f99452e85f",
            "20ef24f8eef84039a901bbe2117032bf",
            "92b2f18bf9804fdb8e6f70d6ccc3abdc",
            "8e1699f4ac5248c4b1d1d2b5cde41bc6",
            "c08b0f7377af49508484849d630b7201",
            "7182260f3ab14335a48e432738724c51",
            "754ac99334c24e4e9c43906c0269a476",
            "4ed60d443a244d9c960a2b6fd073794a",
            "c91678b18be64313a7b890b6cf58dc68",
            "aa484277cb1f41968c710c9b8e109b06",
            "0e9d00b1c2ee4f7bbe447658b44f82ee",
            "a11b2ef901e2477793e3c172a0f90393",
            "49ec8f535ff349c7ba518b1097d27d9c"
          ]
        },
        "id": "wKpRiks2GAYv",
        "outputId": "e000f9c9-a08e-403d-b6c3-dcc2be8d6772"
      },
      "outputs": [
        {
          "output_type": "stream",
          "name": "stdout",
          "text": [
            "Preparing data directories at data\n",
            "Downloading Training Data from: https://isic-challenge-data.s3.amazonaws.com/2017/ISIC-2017_Training_Data.zip\n"
          ]
        },
        {
          "output_type": "display_data",
          "data": {
            "text/plain": [
              "Downloading ISIC-2017_Training_Data.zip:   0%|          | 0.00/5.80G [00:00<?, ?B/s]"
            ],
            "application/vnd.jupyter.widget-view+json": {
              "version_major": 2,
              "version_minor": 0,
              "model_id": "790f89c0f5d3446bb93c625ab50bd7b6"
            }
          },
          "metadata": {}
        },
        {
          "output_type": "stream",
          "name": "stdout",
          "text": [
            "Download Complete: data/ISIC-2017_Training_Data.zip\n",
            "Extracting ISIC-2017_Training_Data.zip to data/train\n",
            "Extraction Complete: data/train\n",
            "Downloading Binary Mask Data from: https://isic-challenge-data.s3.amazonaws.com/2017/ISIC-2017_Training_Part1_GroundTruth.zip\n"
          ]
        },
        {
          "output_type": "display_data",
          "data": {
            "text/plain": [
              "Downloading ISIC-2017_Training_Part1_GroundTruth.zip:   0%|          | 0.00/8.89M [00:00<?, ?B/s]"
            ],
            "application/vnd.jupyter.widget-view+json": {
              "version_major": 2,
              "version_minor": 0,
              "model_id": "92b2f18bf9804fdb8e6f70d6ccc3abdc"
            }
          },
          "metadata": {}
        },
        {
          "output_type": "stream",
          "name": "stdout",
          "text": [
            "Download Complete: data/ISIC-2017_Training_Part1_GroundTruth.zip\n",
            "Extracting ISIC-2017_Training_Part1_GroundTruth.zip to data/binary\n",
            "Extraction Complete: data/binary\n"
          ]
        }
      ],
      "source": [
        "# Main script\n",
        "if train_data_path.is_dir() and binary_mask_data_path.is_dir():\n",
        "    print(f\"{train_data_path} and {binary_mask_data_path} directories already exist.\")\n",
        "else:\n",
        "    print(f\"Preparing data directories at {data_path}\")\n",
        "    train_data_path.mkdir(parents=True, exist_ok=True)\n",
        "\n",
        "    # Download training data\n",
        "    print(f\"Downloading Training Data from: {train_zip_url}\")\n",
        "    download_file(train_zip_url, train_zip_file)\n",
        "\n",
        "    # Extract the zip file\n",
        "    extract_zip(train_zip_file, train_data_path)\n",
        "\n",
        "    binary_mask_data_path.mkdir(parents=True,exist_ok=True)\n",
        "    # Download training data\n",
        "    print(f\"Downloading Binary Mask Data from: {train_binary_zip_url}\")\n",
        "    download_file(train_binary_zip_url, train_binary_zip_file)\n",
        "\n",
        "    # Extract the zip file\n",
        "    extract_zip(train_binary_zip_file, binary_mask_data_path)"
      ]
    },
    {
      "cell_type": "markdown",
      "metadata": {
        "id": "SpbR4FGDGAYw"
      },
      "source": [
        "the data contain the Images and their respective Superpixel mask and we have to download Binary mask seperately"
      ]
    },
    {
      "cell_type": "markdown",
      "metadata": {
        "id": "QVCs8M53GQY5"
      },
      "source": [
        "#### Seperating the Inputs and Ouputs\n",
        "our train data folder contain both Training Images and SuperPixel mask therfore seperating them into different folders"
      ]
    },
    {
      "cell_type": "code",
      "execution_count": 6,
      "metadata": {
        "colab": {
          "base_uri": "https://localhost:8080/"
        },
        "id": "iABOH3KcGmu0",
        "outputId": "e55b8ffd-b1f2-4aba-d6e2-abd5ba5cdd80"
      },
      "outputs": [
        {
          "output_type": "stream",
          "name": "stdout",
          "text": [
            "Files have been organized. Images moved to ISIC-2017_Data/train/Images, masks to ISIC-2017_Data/train/Superpixel.\n"
          ]
        }
      ],
      "source": [
        "import os\n",
        "from pathlib import Path\n",
        "import shutil\n",
        "\n",
        "\n",
        "def organize_files(dataset_folder, image_output_folder, superpixel_output_folder):\n",
        "    \"\"\"\n",
        "    Organize files by separating images and superpixel masks into different folders.\n",
        "\n",
        "    Args:\n",
        "        dataset_folder (str or Path): Path to the folder containing both images and masks.\n",
        "        image_output_folder (str or Path): Path to the folder where images will be moved.\n",
        "        superpixel_output_folder (str or Path): Path to the folder where superpixel masks will be moved.\n",
        "    \"\"\"\n",
        "    # Convert paths to Path objects\n",
        "    dataset_folder = Path(dataset_folder)\n",
        "    image_output_folder = Path(image_output_folder)\n",
        "    superpixel_output_folder = Path(superpixel_output_folder)\n",
        "\n",
        "    # Create output folders if they don't exist\n",
        "    image_output_folder.mkdir(parents=True, exist_ok=True)\n",
        "    superpixel_output_folder.mkdir(parents=True, exist_ok=True)\n",
        "\n",
        "    # Iterate through all files in the dataset folder\n",
        "    for file in dataset_folder.iterdir():\n",
        "        if file.is_file():\n",
        "            if file.name.endswith(\".jpg\"):\n",
        "                # Move image file\n",
        "                shutil.move(str(file), str(image_output_folder / file.name))\n",
        "            elif file.name.endswith(\"_superpixels.png\"):\n",
        "                # Move superpixel mask file\n",
        "                shutil.move(str(file), str(superpixel_output_folder / file.name))\n",
        "\n",
        "    print(f\"Files have been organized. Images moved to {image_output_folder}, masks to {superpixel_output_folder}.\")\n",
        "\n",
        "if __name__ == \"__main__\":\n",
        "    dataset_folder=train_data_path / \"ISIC-2017_Training_Data\"   #\"data/train/ISIC-2017_Data\"\n",
        "    image_output_folder=\"ISIC-2017_Data/train/Images\"\n",
        "    superpixel_output_folder=\"ISIC-2017_Data/train/Superpixel\"\n",
        "\n",
        "    organize_files(dataset_folder=dataset_folder,\n",
        "                   image_output_folder=image_output_folder,\n",
        "                   superpixel_output_folder=superpixel_output_folder)\n"
      ]
    },
    {
      "cell_type": "markdown",
      "metadata": {
        "id": "jZe4lYgoIjTb"
      },
      "source": [
        "Moving Binary masks"
      ]
    },
    {
      "cell_type": "code",
      "execution_count": 7,
      "metadata": {
        "id": "DFV5Y5mxKZD6"
      },
      "outputs": [],
      "source": [
        "import shutil\n",
        "# moving file to a consolidated location\n",
        "source_dir = binary_mask_data_path / \"ISIC-2017_Training_Part1_GroundTruth\" #Path(\"data/train/ISIC-2017_Training_Part1_GroundTruth\")\n",
        "destination_dir = Path(\"ISIC-2017_Data/train/Binary\")\n",
        "# Create the destination directory if it doesn't exist\n",
        "destination_dir.mkdir(parents=True, exist_ok=True)\n",
        "for file in source_dir.iterdir():\n",
        "  if file.is_file():\n",
        "    shutil.move(str(file),str(destination_dir/file.name))"
      ]
    },
    {
      "cell_type": "markdown",
      "metadata": {
        "id": "_YKNO7ODdu-w"
      },
      "source": [
        "#### Deleting the Extras\n",
        "Deleting the `data_path` folder to save storage"
      ]
    },
    {
      "cell_type": "code",
      "execution_count": 8,
      "metadata": {
        "colab": {
          "base_uri": "https://localhost:8080/"
        },
        "id": "v5lyaxEYVRoL",
        "outputId": "3d04d518-7a17-4385-a955-20e117363e21"
      },
      "outputs": [
        {
          "output_type": "stream",
          "name": "stdout",
          "text": [
            "Folder 'data' and all its subdirectories have been deleted.\n"
          ]
        }
      ],
      "source": [
        "# Deleting our data_path after getting our desizerd ouput to free storage\n",
        "if data_path.exists() and data_path.is_dir():\n",
        "    shutil.rmtree(data_path)\n",
        "    print(f\"Folder '{data_path}' and all its subdirectories have been deleted.\")\n",
        "else:\n",
        "    print(f\"Folder '{data_path}' does not exist.\")"
      ]
    },
    {
      "cell_type": "markdown",
      "metadata": {
        "id": "-T9Liv6oGAYy"
      },
      "source": [
        "#### Result\n",
        " ISIC-2017_Data This folder contains the dataset for the ISIC 2017 skin cancer segmentation project. The dataset is organized into the following subfolders:\n",
        " ## Structure\n",
        "\n",
        "### Subfolders\n",
        "\n",
        "1. **Images/**\n",
        "   - Contains the original images used for training and validation.\n",
        "\n",
        "2. **Superpixel/**\n",
        "   - Contains the superpixel masks generated for each image.\n",
        "\n",
        "3. **Binary/**\n",
        "   - Contains the binary masks indicating the regions of interest in each image.\n"
      ]
    },
    {
      "cell_type": "markdown",
      "source": [
        "### 1.1 - Downloading reorganizing Validation data"
      ],
      "metadata": {
        "id": "f9ZoDRT6QNYD"
      }
    },
    {
      "cell_type": "code",
      "source": [
        "# path to data folder\n",
        "data_path = Path(\"data/\")\n",
        "validaiton_data_path = data_path / \"valid\"\n",
        "binary_mask_data_path = data_path / \"binary\"\n",
        "valid_zip_url = \"https://isic-challenge-data.s3.amazonaws.com/2017/ISIC-2017_Validation_Data.zip\"\n",
        "valid_zip_file = data_path / \"ISIC-2017_Validation_Data.zip\"\n",
        "# binary mask\n",
        "valid_binary_zip_url = \"https://isic-challenge-data.s3.amazonaws.com/2017/ISIC-2017_Validation_Part1_GroundTruth.zip\"\n",
        "valid_binary_zip_file = data_path / \"ISIC-2017_Training_Part1_GroundTruth.zip\"\n",
        "\n"
      ],
      "metadata": {
        "id": "FiKofLxSVD3c"
      },
      "execution_count": 9,
      "outputs": []
    },
    {
      "cell_type": "code",
      "source": [
        "if validaiton_data_path.is_dir() and binary_mask_data_path.is_dir():\n",
        "    print(f\"{validaiton_data_path} and {binary_mask_data_path} directories already exist.\")\n",
        "else:\n",
        "    print(f\"Preparing data directories at {data_path}\")\n",
        "    validaiton_data_path.mkdir(parents=True, exist_ok=True)\n",
        "\n",
        "    # Download training data\n",
        "    print(f\"Downloading validation Data from: {valid_zip_url}\")\n",
        "    download_file(valid_zip_url, valid_zip_file)\n",
        "\n",
        "    # Extract the zip file\n",
        "    extract_zip(valid_zip_file, validaiton_data_path)\n",
        "\n",
        "    binary_mask_data_path.mkdir(parents=True,exist_ok=True)\n",
        "    # Download training data\n",
        "    print(f\"Downloading Binary Mask Data from: {train_binary_zip_url}\")\n",
        "    download_file(valid_binary_zip_url, valid_binary_zip_file)\n",
        "\n",
        "    # Extract the zip file\n",
        "    extract_zip(valid_binary_zip_file, binary_mask_data_path)"
      ],
      "metadata": {
        "colab": {
          "base_uri": "https://localhost:8080/",
          "height": 237,
          "referenced_widgets": [
            "f1e9479a7eeb4ed7bea481e062e1f348",
            "09631f462aab42ab858bf988f26fd2b5",
            "99c556633562454da093028106ac7acc",
            "9e182331b1a94ddcbf48f3700b7fee08",
            "29dbc36111c2426092ee7dda6f191891",
            "432d36f0d1474cfebf16520058711bc8",
            "7b2b10fafe244ca39e20244458e34c0b",
            "5415beafa7274df09eaaebee66d81bd0",
            "0bde2dcd636c49e88d3cca548e196e17",
            "60bcba4eaa6148849054e5ba4e61174f",
            "27e533353afd4a448801d8c1c97a7012",
            "cb713e9334b0411f8f807ef4da336db8",
            "6aea51f140ec4eba9413134f02e7d2b1",
            "44208c4de78441e69577d766d98aded8",
            "d1637a49303140d7a4616df478411db3",
            "19325b994ee64e05ace13d79cbcb2109",
            "4099d28adfee47299cfb25083ad7492e",
            "4b1b9b9d5ca045ada18fc8d105cc562f",
            "425e04f7a5a948f0a5fd03492d74959b",
            "ab25df3228ad44268e5cdda5660b2f24",
            "3e4cdda76f4b44f5bebc3eecf9fecf7e",
            "2e0351f5fb8c471090aafbfa07747791"
          ]
        },
        "id": "4zmQVG2WfxOY",
        "outputId": "afd8d0e9-10cc-4fd5-e3ac-c00ea92e6c66"
      },
      "execution_count": 10,
      "outputs": [
        {
          "output_type": "stream",
          "name": "stdout",
          "text": [
            "Preparing data directories at data\n",
            "Downloading validation Data from: https://isic-challenge-data.s3.amazonaws.com/2017/ISIC-2017_Validation_Data.zip\n"
          ]
        },
        {
          "output_type": "display_data",
          "data": {
            "text/plain": [
              "Downloading ISIC-2017_Validation_Data.zip:   0%|          | 0.00/878M [00:00<?, ?B/s]"
            ],
            "application/vnd.jupyter.widget-view+json": {
              "version_major": 2,
              "version_minor": 0,
              "model_id": "f1e9479a7eeb4ed7bea481e062e1f348"
            }
          },
          "metadata": {}
        },
        {
          "output_type": "stream",
          "name": "stdout",
          "text": [
            "Download Complete: data/ISIC-2017_Validation_Data.zip\n",
            "Extracting ISIC-2017_Validation_Data.zip to data/valid\n",
            "Extraction Complete: data/valid\n",
            "Downloading Binary Mask Data from: https://isic-challenge-data.s3.amazonaws.com/2017/ISIC-2017_Training_Part1_GroundTruth.zip\n"
          ]
        },
        {
          "output_type": "display_data",
          "data": {
            "text/plain": [
              "Downloading ISIC-2017_Training_Part1_GroundTruth.zip:   0%|          | 0.00/559k [00:00<?, ?B/s]"
            ],
            "application/vnd.jupyter.widget-view+json": {
              "version_major": 2,
              "version_minor": 0,
              "model_id": "cb713e9334b0411f8f807ef4da336db8"
            }
          },
          "metadata": {}
        },
        {
          "output_type": "stream",
          "name": "stdout",
          "text": [
            "Download Complete: data/ISIC-2017_Training_Part1_GroundTruth.zip\n",
            "Extracting ISIC-2017_Training_Part1_GroundTruth.zip to data/binary\n",
            "Extraction Complete: data/binary\n"
          ]
        }
      ]
    },
    {
      "cell_type": "code",
      "source": [
        "dataset_folder=validaiton_data_path / \"ISIC-2017_Validation_Data\"   #\"/content/data/valid/ISIC-2017_Validation_Data\"\n",
        "image_output_folder=\"ISIC-2017_Data/valid/Images\"\n",
        "superpixel_output_folder=\"ISIC-2017_Data/valid/Superpixel\"\n",
        "\n",
        "organize_files(dataset_folder=dataset_folder,\n",
        "                   image_output_folder=image_output_folder,\n",
        "                   superpixel_output_folder=superpixel_output_folder)"
      ],
      "metadata": {
        "colab": {
          "base_uri": "https://localhost:8080/"
        },
        "id": "7gCZEp10g-V_",
        "outputId": "80aaa592-cdf1-44dc-8d85-84c977c77352"
      },
      "execution_count": 11,
      "outputs": [
        {
          "output_type": "stream",
          "name": "stdout",
          "text": [
            "Files have been organized. Images moved to ISIC-2017_Data/valid/Images, masks to ISIC-2017_Data/valid/Superpixel.\n"
          ]
        }
      ]
    },
    {
      "cell_type": "code",
      "source": [
        "import shutil\n",
        "# moving file to a consolidated location\n",
        "source_dir = binary_mask_data_path / \"ISIC-2017_Validation_Part1_GroundTruth\" #Path(\"/content/data/binary/ISIC-2017_Validation_Part1_GroundTruth\")\n",
        "destination_dir = Path(\"ISIC-2017_Data/valid/Binary\")\n",
        "# Create the destination directory if it doesn't exist\n",
        "destination_dir.mkdir(parents=True, exist_ok=True)\n",
        "for file in source_dir.iterdir():\n",
        "  if file.is_file():\n",
        "    shutil.move(str(file),str(destination_dir/file.name))"
      ],
      "metadata": {
        "id": "_-hTly_Mhv5T"
      },
      "execution_count": 12,
      "outputs": []
    },
    {
      "cell_type": "code",
      "source": [
        "# Deleting our data_path after getting our desizerd ouput to free storage\n",
        "if data_path.exists() and data_path.is_dir():\n",
        "    shutil.rmtree(data_path)\n",
        "    print(f\"Folder '{data_path}' and all its subdirectories have been deleted.\")\n",
        "else:\n",
        "    print(f\"Folder '{data_path}' does not exist.\")"
      ],
      "metadata": {
        "colab": {
          "base_uri": "https://localhost:8080/"
        },
        "id": "nIJxe-aTiUvD",
        "outputId": "41e7e9f2-3988-476e-8575-0a5aa97f73ab"
      },
      "execution_count": 13,
      "outputs": [
        {
          "output_type": "stream",
          "name": "stdout",
          "text": [
            "Folder 'data' and all its subdirectories have been deleted.\n"
          ]
        }
      ]
    },
    {
      "cell_type": "markdown",
      "metadata": {
        "id": "QhFwyiB0h5WX"
      },
      "source": [
        "## 2 - Become one with the data (data preparation and exploration)"
      ]
    },
    {
      "cell_type": "code",
      "execution_count": 14,
      "metadata": {
        "id": "BjJghcgqh-aD"
      },
      "outputs": [],
      "source": [
        "import os\n",
        "def walk_through(dir_path:str):\n",
        "  for dirpath, dirnames, filenames in os.walk(dir_path):\n",
        "    print(f\"There are {len(dirnames)} directories and {len(filenames)} images in '{dirpath}'.\")"
      ]
    },
    {
      "cell_type": "code",
      "execution_count": 15,
      "metadata": {
        "colab": {
          "base_uri": "https://localhost:8080/"
        },
        "id": "e5I0LWzFiAmw",
        "outputId": "46ca07ba-6962-41b1-a3ca-af68bc65a01b"
      },
      "outputs": [
        {
          "output_type": "stream",
          "name": "stdout",
          "text": [
            "There are 2 directories and 0 images in 'ISIC-2017_Data'.\n",
            "There are 3 directories and 0 images in 'ISIC-2017_Data/valid'.\n",
            "There are 0 directories and 150 images in 'ISIC-2017_Data/valid/Binary'.\n",
            "There are 0 directories and 150 images in 'ISIC-2017_Data/valid/Superpixel'.\n",
            "There are 0 directories and 150 images in 'ISIC-2017_Data/valid/Images'.\n",
            "There are 3 directories and 0 images in 'ISIC-2017_Data/train'.\n",
            "There are 0 directories and 2000 images in 'ISIC-2017_Data/train/Binary'.\n",
            "There are 0 directories and 2000 images in 'ISIC-2017_Data/train/Superpixel'.\n",
            "There are 0 directories and 2000 images in 'ISIC-2017_Data/train/Images'.\n"
          ]
        }
      ],
      "source": [
        "data_path=Path(\"ISIC-2017_Data\")\n",
        "walk_through(data_path)"
      ]
    },
    {
      "cell_type": "markdown",
      "metadata": {
        "id": "-gTqd6KYif3X"
      },
      "source": [
        "### 2.1 Visualize Images\n",
        "Let's write some code to:\n",
        "\n",
        "1. Get all of the image paths using `pathlib.Path.glob()` to find all of the files ending in .jpg.\n",
        "2. Pick a random image path using Python's `random.choice()`.\n",
        "3. And since we're working with images, we'll open the random image path using `PIL.Image.open()` (PIL stands for Python Image Library).\n"
      ]
    },
    {
      "cell_type": "code",
      "execution_count": null,
      "metadata": {
        "id": "6NmCDxeUjdsg"
      },
      "outputs": [],
      "source": [
        "import random\n",
        "from PIL import Image\n",
        "\n",
        "# creating a list of all the images\n",
        "image_path_list=list(data_path.glob(\"**/*.jpg\"))\n",
        "len(image_path_list)\n",
        "\n",
        "# select a random image path\n",
        "random_image_path = random.choice(image_path_list)\n",
        "\n",
        "# open Image\n",
        "img = Image.open(fp=random_image_path)\n",
        "print(f\"Random Image Path: {random_image_path}\")\n",
        "print(f\"Image height: {img.height}\")\n",
        "print(f\"Image width: {img.width}\")\n",
        "\n",
        "# Display the image\n",
        "img"
      ]
    },
    {
      "cell_type": "code",
      "execution_count": 17,
      "metadata": {
        "id": "BIJrb-pglHvB",
        "colab": {
          "base_uri": "https://localhost:8080/"
        },
        "outputId": "1373c02e-5497-43da-fcca-7747f95869fd"
      },
      "outputs": [
        {
          "output_type": "execute_result",
          "data": {
            "text/plain": [
              "[1524, 1378, 1278]"
            ]
          },
          "metadata": {},
          "execution_count": 17
        }
      ],
      "source": [
        "random_images_path_idx=random.sample(population=range(len(image_path_list)),k=3)\n",
        "random_images_path_idx"
      ]
    },
    {
      "cell_type": "code",
      "source": [
        "# list for inut images\n",
        "image_path_list=sorted(list(data_path.glob(\"**/*.jpg\")))\n",
        "# list for binary masks\n",
        "binary_mask_list=sorted(list(data_path.glob(\"**/Binary/*.png\")))\n",
        "# list for superpixel mask\n",
        "superpixel_mask_list=sorted(list(data_path.glob(\"**/Superpixel/*.png\")))\n",
        "len(binary_mask_list),len(superpixel_mask_list)"
      ],
      "metadata": {
        "id": "Xmbz1UViqG2N",
        "colab": {
          "base_uri": "https://localhost:8080/"
        },
        "outputId": "13d8f91b-5475-4964-d08a-8ab04b90e347"
      },
      "execution_count": 18,
      "outputs": [
        {
          "output_type": "execute_result",
          "data": {
            "text/plain": [
              "(2150, 2150)"
            ]
          },
          "metadata": {},
          "execution_count": 18
        }
      ]
    },
    {
      "cell_type": "code",
      "source": [
        "import random\n",
        "from PIL import Image\n",
        "import matplotlib.pyplot as plt\n",
        "from typing import List\n",
        "\n",
        "def plot_random_images(\n",
        "    image_list: List[str],\n",
        "    binary_mask_list: List[str],\n",
        "    superpixel_mask_list: List[str],\n",
        "    num_samples: int = 3\n",
        "):\n",
        "    \"\"\"\n",
        "    Plots a specified number of random images alongside their binary and superpixel masks.\n",
        "\n",
        "    Args:\n",
        "        image_list (List[str]): List of file paths to input images.\n",
        "        binary_mask_list (List[str]): List of file paths to binary mask images.\n",
        "        superpixel_mask_list (List[str]): List of file paths to superpixel mask images.\n",
        "        num_samples (int, optional): Number of random samples to display. Defaults to 3.\n",
        "\n",
        "    Raises:\n",
        "        ValueError: If the lengths of `image_list`, `binary_mask_list`, and `superpixel_mask_list` are not equal.\n",
        "        ValueError: If `num_samples` is greater than the number of available images.\n",
        "\n",
        "    Example:\n",
        "        ```python\n",
        "        plot_random_images(\n",
        "            image_list=[\"image1.jpg\", \"image2.jpg\"],\n",
        "            binary_mask_list=[\"binary1.png\", \"binary2.png\"],\n",
        "            superpixel_mask_list=[\"superpixel1.png\", \"superpixel2.png\"],\n",
        "            num_samples=2\n",
        "        )\n",
        "        ```\n",
        "    \"\"\"\n",
        "    # Check for consistency in list lengths\n",
        "    if len(image_list) != len(binary_mask_list) or len(image_list) != len(superpixel_mask_list):\n",
        "        raise ValueError(\"All input lists must have the same length.\")\n",
        "\n",
        "    # Ensure the number of samples is valid\n",
        "    if num_samples > len(image_list):\n",
        "        raise ValueError(\"num_samples cannot be greater than the number of images available.\")\n",
        "\n",
        "    # Randomly sample indices\n",
        "    idx = random.sample(range(len(image_list)), num_samples)\n",
        "\n",
        "    # Create subplots\n",
        "    fig, axes = plt.subplots(nrows=num_samples, ncols=3, figsize=(15, 5 * num_samples))\n",
        "\n",
        "    # Ensure axes is a list of lists, even for single sample\n",
        "    if num_samples == 1:\n",
        "        axes = [axes]\n",
        "\n",
        "    for i, sample_idx in enumerate(idx):\n",
        "        # Open images and masks\n",
        "        img = Image.open(image_list[sample_idx])\n",
        "        superpixel_mask = Image.open(superpixel_mask_list[sample_idx])\n",
        "        binary_mask = Image.open(binary_mask_list[sample_idx])\n",
        "\n",
        "        # Plot the original image\n",
        "        axes[i][0].imshow(img)\n",
        "        axes[i][0].set_title(f\"Image: {sample_idx},Size:{img.size}\")\n",
        "        axes[i][0].axis(\"off\")\n",
        "\n",
        "        # Plot the binary mask\n",
        "        axes[i][1].imshow(binary_mask)\n",
        "        axes[i][1].set_title(f\"Binary Mask: {sample_idx},Size:{binary_mask.size}\")\n",
        "        axes[i][1].axis(\"off\")\n",
        "\n",
        "        # Plot the superpixel mask\n",
        "        axes[i][2].imshow(superpixel_mask)\n",
        "        axes[i][2].set_title(f\"Superpixel Mask: {sample_idx},Size:{superpixel_mask.size}\")\n",
        "        axes[i][2].axis(\"off\")\n",
        "\n",
        "    # Adjust layout and display\n",
        "    plt.tight_layout()\n",
        "    plt.show()\n"
      ],
      "metadata": {
        "id": "Wt-W8GxksGMS"
      },
      "execution_count": 19,
      "outputs": []
    },
    {
      "cell_type": "code",
      "source": [
        "plot_random_images(image_list=image_path_list,\n",
        "                   binary_mask_list=binary_mask_list,\n",
        "                   superpixel_mask_list=superpixel_mask_list,\n",
        "                   num_samples=3)"
      ],
      "metadata": {
        "id": "uNJnt8eUwRSB"
      },
      "execution_count": null,
      "outputs": []
    },
    {
      "cell_type": "markdown",
      "source": [
        "### 2.2 - Combining Masks\n",
        "1. Weighted Average or Overlaying\n",
        "2. Union\n",
        "3. Intersection\n",
        "4. Boundary Enhancement"
      ],
      "metadata": {
        "id": "wUFrpvNS6gF3"
      }
    },
    {
      "cell_type": "code",
      "source": [
        "import cv2\n",
        "def load_masks(binary_mask_path_list, superpixel_mask_path_list,):\n",
        "  # Randomly sample indices\n",
        "  # Check for consistency in list lengths\n",
        "  if len(binary_mask_path_list) != len(superpixel_mask_path_list):\n",
        "      raise ValueError(\"The binary and superpixel mask lists must have the same length.\")\n",
        "\n",
        "  # Randomly select a single index\n",
        "  idx = random.choice(range(len(binary_mask_path_list)))\n",
        "\n",
        "  # Load masks as grayscale images\n",
        "  binary_mask = cv2.imread(binary_mask_path_list[idx], cv2.IMREAD_GRAYSCALE)\n",
        "  superpixel_mask = cv2.imread(superpixel_mask_path_list[idx], cv2.IMREAD_GRAYSCALE)\n",
        "\n",
        "  return binary_mask, superpixel_mask\n",
        "\n",
        "bm, sm = load_masks(\n",
        "    binary_mask_path_list=binary_mask_list,\n",
        "    superpixel_mask_path_list=superpixel_mask_list\n",
        ")"
      ],
      "metadata": {
        "id": "YBQZsca38u2h"
      },
      "execution_count": 21,
      "outputs": []
    },
    {
      "cell_type": "code",
      "source": [
        "from google.colab.patches import cv2_imshow\n",
        "cv2_imshow(bm)"
      ],
      "metadata": {
        "id": "nkn-4yYF_OK3"
      },
      "execution_count": null,
      "outputs": []
    },
    {
      "cell_type": "code",
      "source": [
        "from google.colab.patches import cv2_imshow\n",
        "cv2_imshow(sm)"
      ],
      "metadata": {
        "id": "S6Sz0pjg98KE"
      },
      "execution_count": null,
      "outputs": []
    },
    {
      "cell_type": "markdown",
      "source": [
        "### 2.3 - Weighted average or Overlaying"
      ],
      "metadata": {
        "id": "RHJ1tQ_o6_8Q"
      }
    },
    {
      "cell_type": "code",
      "source": [
        "import cv2\n",
        "import numpy as np\n",
        "from pathlib import Path\n",
        "\n",
        "def weighted_average_combination(binary_mask,superpixel_mask,alpha=0.5):\n",
        "  # Normalize masks to range [0, 1]\n",
        "  binary_mask = binary_mask.astype(np.float32) / 255.0\n",
        "  superpixel_mask = superpixel_mask.astype(np.float32) / 255.0\n",
        "\n",
        "  # Compute weighted average\n",
        "  combined_mask = alpha * binary_mask + (1 - alpha) * superpixel_mask\n",
        "\n",
        "  # Clip values to [0, 1] and scale back to [0, 255]\n",
        "  combined_mask = np.clip(combined_mask, 0, 1)\n",
        "  return (combined_mask * 255).astype(np.uint8)"
      ],
      "metadata": {
        "id": "hnuz2Hr_7RYX"
      },
      "execution_count": 24,
      "outputs": []
    },
    {
      "cell_type": "code",
      "source": [
        "wac=weighted_average_combination(bm,sm)\n",
        "cv2_imshow(wac)"
      ],
      "metadata": {
        "id": "rNAdsGO9_k5h"
      },
      "execution_count": null,
      "outputs": []
    },
    {
      "cell_type": "markdown",
      "source": [
        "lets try and overlay the orignal image with each mask and try to better understand our data"
      ],
      "metadata": {
        "id": "C4p6b1NLJekV"
      }
    },
    {
      "cell_type": "markdown",
      "source": [
        "overlaying binary mask with orignal image"
      ],
      "metadata": {
        "id": "ZVivYDe8Jy-x"
      }
    },
    {
      "cell_type": "code",
      "source": [
        "bm,img=load_masks(\n",
        "    binary_mask_path_list=binary_mask_list,\n",
        "    superpixel_mask_path_list=image_path_list,#insted of superpixel_mask_path_list we are send the image paths list\n",
        ")"
      ],
      "metadata": {
        "id": "-CA-EeuGKGdF"
      },
      "execution_count": 26,
      "outputs": []
    },
    {
      "cell_type": "code",
      "source": [
        "cv2_imshow(img)"
      ],
      "metadata": {
        "id": "CoSNWRzUKR8q"
      },
      "execution_count": null,
      "outputs": []
    },
    {
      "cell_type": "code",
      "source": [
        "wac=weighted_average_combination(bm,img)\n",
        "cv2_imshow(wac)"
      ],
      "metadata": {
        "id": "ELyFy4q1Ktiz"
      },
      "execution_count": null,
      "outputs": []
    },
    {
      "cell_type": "markdown",
      "source": [
        "overlaying subinaryperpixel mask with orignal image"
      ],
      "metadata": {
        "id": "iLCeFbEeLYx3"
      }
    },
    {
      "cell_type": "code",
      "source": [
        "img,sm=load_masks(\n",
        "    binary_mask_path_list=image_path_list,#insted of binary_mask_path_list we are send the image paths list\n",
        "    superpixel_mask_path_list=superpixel_mask_list)"
      ],
      "metadata": {
        "id": "cCVVmnJsLh3M"
      },
      "execution_count": 29,
      "outputs": []
    },
    {
      "cell_type": "code",
      "source": [
        "wac=weighted_average_combination(img,sm)\n",
        "cv2_imshow(wac)"
      ],
      "metadata": {
        "id": "VvEQrQyHMAhy"
      },
      "execution_count": null,
      "outputs": []
    },
    {
      "cell_type": "markdown",
      "source": [
        "## 3 - Creating our (UNET) model class"
      ],
      "metadata": {
        "id": "f9Gxh9j8UEet"
      }
    },
    {
      "cell_type": "code",
      "source": [
        "from collections import OrderedDict\n",
        "import torch\n",
        "import torch.nn as nn\n",
        "\n",
        "class UNET (nn.Module):\n",
        "  def __init__(self,in_channels=3,out_channels=1,init_features=32):\n",
        "    super().__init__()\n",
        "\n",
        "    features=init_features\n",
        "    self.encoder1=UNET._block(in_channels,features,name=\"encoder_1\")\n",
        "    self.pool1=nn.MaxPool2d(kernel_size=2,stride=2)\n",
        "    self.encoder2=UNET._block(features,features*2,name=\"encoder_2\")\n",
        "    self.pool2=nn.MaxPool2d(kernel_size=2,stride=2)\n",
        "    self.encoder3=UNET._block(features*2,features*4,name=\"encoder_3\")\n",
        "    self.pool3=nn.MaxPool2d(kernel_size=2,stride=2)\n",
        "    self.encoder4=UNET._block(features*4,features*8,name=\"encoder_4\")\n",
        "    self.pool4=nn.MaxPool2d(kernel_size=2,stride=2)\n",
        "\n",
        "    # bottle neck\n",
        "    self.bottleneck=UNET._block(features*8,features*16,name=\"bottleneck\")\n",
        "\n",
        "    # Decoer\n",
        "    self.upconv4=nn.ConvTranspose2d(in_channels=features*16,out_channels=features*8,kernel_size=2,stride=2)\n",
        "    self.decoder4=UNET._block((features*8)*2,features*8,name=\"decoder_4\")\n",
        "\n",
        "    self.upconv3=nn.ConvTranspose2d(in_channels=features*8,out_channels=features*4,kernel_size=2,stride=2)\n",
        "    self.decoder3=UNET._block((features*4)*2,features*4,name=\"decoder_3\")\n",
        "\n",
        "    self.upconv2=nn.ConvTranspose2d(in_channels=features*4,out_channels=features*2,kernel_size=2,stride=2)\n",
        "    self.decoder2=UNET._block((features*2)*2,features*2,name=\"decoder_2\")\n",
        "\n",
        "    self.upconv1=nn.ConvTranspose2d(in_channels=features*2,out_channels=features,kernel_size=2,stride=2)\n",
        "    self.decoder1=UNET._block(features*2,features,name=\"decoder_1\")\n",
        "\n",
        "    # output\n",
        "    self.conv=nn.Conv2d(in_channels=features,out_channels=out_channels,kernel_size=1)\n",
        "\n",
        "  def forward(self,x):\n",
        "    # encoder\n",
        "    encoder_1=self.encoder1(x)\n",
        "    encoder_2=self.encoder2(self.pool1(encoder_1))\n",
        "    encoder_3=self.encoder3(self.pool2(encoder_2))\n",
        "    encoder_4=self.encoder4(self.pool3(encoder_3))\n",
        "    # bottleneck\n",
        "    bottleneck=self.bottleneck(self.pool4(encoder_4))\n",
        "    # decoder\n",
        "    decoder_4=self.upconv4(bottleneck)\n",
        "    decoder_4=torch.cat((decoder_4,encoder_4),dim=1)\n",
        "    decoder_4=self.decoder4(decoder_4)\n",
        "\n",
        "    decoder_3=self.upconv3(decoder_4)\n",
        "    decoder_3=torch.cat(tensors=(decoder_3,encoder_3),dim=1)\n",
        "    decoder_3=self.decoder3(decoder_3)\n",
        "\n",
        "    decoder_2=self.upconv2(decoder_3)\n",
        "    decoder_2=torch.cat(tensors=(decoder_2,encoder_2),dim=1)\n",
        "    decoder_2=self.decoder2(decoder_2)\n",
        "\n",
        "    decoder_1=self.upconv1(decoder_2)\n",
        "    decoder_1=torch.cat(tensors=(decoder_1,encoder_1),dim=1)\n",
        "    decoder_1=self.decoder1(decoder_1)\n",
        "    # final segmentation map\n",
        "    return torch.sigmoid(self.conv(decoder_1))\n",
        "\n",
        "  def _block(in_channels,features,name):\n",
        "\n",
        "    seq=nn.Sequential(\n",
        "        OrderedDict([\n",
        "            (name + \"conv1\",nn.Conv2d(in_channels=in_channels,out_channels=features,kernel_size=3,padding=1,bias=False)),\n",
        "            (name + \"norm1\",nn.BatchNorm2d(num_features=features)),\n",
        "            (name + \"relu1\",nn.ReLU(inplace=True)),\n",
        "\n",
        "            (name + \"conv2\",nn.Conv2d(in_channels=features,out_channels=features,kernel_size=3,padding=1,bias=False)),\n",
        "            (name + \"norm2\",nn.BatchNorm2d(num_features=features)),\n",
        "            (name + \"relu2\",nn.ReLU(inplace=True)),\n",
        "        ])\n",
        "    )\n",
        "    return seq\n",
        "\n"
      ],
      "metadata": {
        "id": "V7poyfhLoOlb"
      },
      "execution_count": 31,
      "outputs": []
    },
    {
      "cell_type": "markdown",
      "source": [
        "💀 **Error Made**\n",
        "\n",
        " *What Happened with the Input Size of (244, 244)?*\n",
        "\n",
        "\n",
        ">`# creating transform\n",
        "  transform=transforms.Compose([transforms.Resize(size=(244,244)),\n",
        "                                      transforms.ToTensor()])`\"\n",
        "                                      \n",
        "                                      \n",
        "When the input size was (244, 244), you encountered the error because the spatial dimension was not divisible by 16 (after 4 downsampling operations). Let's break it down:\n",
        "\n",
        "1. Initial Input: 244x244\n",
        "2. After 1st MaxPool: 244 / 2 = 122\n",
        "3. After 2nd MaxPool: 122 / 2 = 61\n",
        "4. After 3rd MaxPool: 61 / 2 = 30.5 (not an integer)\n",
        "\n",
        "Since the dimensions after the pooling steps should always be integers, the fact that 244 / 2^4 = 15.25 (i.e., a non-integer) causes the model to fail, especially during upsampling, which uses a ConvTranspose2d (up-conv) layer that requires the output size to match the input size during concatenation.\"\n",
        "\n",
        "\n"
      ],
      "metadata": {
        "id": "xUAT4R4f5tLI"
      }
    },
    {
      "cell_type": "code",
      "source": [
        "# wil result in error\n",
        "model_0=UNET()\n",
        "dummy_in=torch.rand(size=(1,3,244,244))\n",
        "output=model_0(dummy_in)\n",
        "print(output)"
      ],
      "metadata": {
        "id": "CLWJ_jGl8yxp",
        "colab": {
          "base_uri": "https://localhost:8080/",
          "height": 339
        },
        "outputId": "5de31f49-1fd5-4c7c-aaa6-e6f188bf1414"
      },
      "execution_count": 32,
      "outputs": [
        {
          "output_type": "error",
          "ename": "RuntimeError",
          "evalue": "Sizes of tensors must match except in dimension 1. Expected size 60 but got size 61 for tensor number 1 in the list.",
          "traceback": [
            "\u001b[0;31m---------------------------------------------------------------------------\u001b[0m",
            "\u001b[0;31mRuntimeError\u001b[0m                              Traceback (most recent call last)",
            "\u001b[0;32m<ipython-input-32-dd2b7bad0ecb>\u001b[0m in \u001b[0;36m<cell line: 4>\u001b[0;34m()\u001b[0m\n\u001b[1;32m      2\u001b[0m \u001b[0mmodel_0\u001b[0m\u001b[0;34m=\u001b[0m\u001b[0mUNET\u001b[0m\u001b[0;34m(\u001b[0m\u001b[0;34m)\u001b[0m\u001b[0;34m\u001b[0m\u001b[0;34m\u001b[0m\u001b[0m\n\u001b[1;32m      3\u001b[0m \u001b[0mdummy_in\u001b[0m\u001b[0;34m=\u001b[0m\u001b[0mtorch\u001b[0m\u001b[0;34m.\u001b[0m\u001b[0mrand\u001b[0m\u001b[0;34m(\u001b[0m\u001b[0msize\u001b[0m\u001b[0;34m=\u001b[0m\u001b[0;34m(\u001b[0m\u001b[0;36m1\u001b[0m\u001b[0;34m,\u001b[0m\u001b[0;36m3\u001b[0m\u001b[0;34m,\u001b[0m\u001b[0;36m244\u001b[0m\u001b[0;34m,\u001b[0m\u001b[0;36m244\u001b[0m\u001b[0;34m)\u001b[0m\u001b[0;34m)\u001b[0m\u001b[0;34m\u001b[0m\u001b[0;34m\u001b[0m\u001b[0m\n\u001b[0;32m----> 4\u001b[0;31m \u001b[0moutput\u001b[0m\u001b[0;34m=\u001b[0m\u001b[0mmodel_0\u001b[0m\u001b[0;34m(\u001b[0m\u001b[0mdummy_in\u001b[0m\u001b[0;34m)\u001b[0m\u001b[0;34m\u001b[0m\u001b[0;34m\u001b[0m\u001b[0m\n\u001b[0m\u001b[1;32m      5\u001b[0m \u001b[0mprint\u001b[0m\u001b[0;34m(\u001b[0m\u001b[0moutput\u001b[0m\u001b[0;34m)\u001b[0m\u001b[0;34m\u001b[0m\u001b[0;34m\u001b[0m\u001b[0m\n",
            "\u001b[0;32m/usr/local/lib/python3.10/dist-packages/torch/nn/modules/module.py\u001b[0m in \u001b[0;36m_wrapped_call_impl\u001b[0;34m(self, *args, **kwargs)\u001b[0m\n\u001b[1;32m   1734\u001b[0m             \u001b[0;32mreturn\u001b[0m \u001b[0mself\u001b[0m\u001b[0;34m.\u001b[0m\u001b[0m_compiled_call_impl\u001b[0m\u001b[0;34m(\u001b[0m\u001b[0;34m*\u001b[0m\u001b[0margs\u001b[0m\u001b[0;34m,\u001b[0m \u001b[0;34m**\u001b[0m\u001b[0mkwargs\u001b[0m\u001b[0;34m)\u001b[0m  \u001b[0;31m# type: ignore[misc]\u001b[0m\u001b[0;34m\u001b[0m\u001b[0;34m\u001b[0m\u001b[0m\n\u001b[1;32m   1735\u001b[0m         \u001b[0;32melse\u001b[0m\u001b[0;34m:\u001b[0m\u001b[0;34m\u001b[0m\u001b[0;34m\u001b[0m\u001b[0m\n\u001b[0;32m-> 1736\u001b[0;31m             \u001b[0;32mreturn\u001b[0m \u001b[0mself\u001b[0m\u001b[0;34m.\u001b[0m\u001b[0m_call_impl\u001b[0m\u001b[0;34m(\u001b[0m\u001b[0;34m*\u001b[0m\u001b[0margs\u001b[0m\u001b[0;34m,\u001b[0m \u001b[0;34m**\u001b[0m\u001b[0mkwargs\u001b[0m\u001b[0;34m)\u001b[0m\u001b[0;34m\u001b[0m\u001b[0;34m\u001b[0m\u001b[0m\n\u001b[0m\u001b[1;32m   1737\u001b[0m \u001b[0;34m\u001b[0m\u001b[0m\n\u001b[1;32m   1738\u001b[0m     \u001b[0;31m# torchrec tests the code consistency with the following code\u001b[0m\u001b[0;34m\u001b[0m\u001b[0;34m\u001b[0m\u001b[0m\n",
            "\u001b[0;32m/usr/local/lib/python3.10/dist-packages/torch/nn/modules/module.py\u001b[0m in \u001b[0;36m_call_impl\u001b[0;34m(self, *args, **kwargs)\u001b[0m\n\u001b[1;32m   1745\u001b[0m                 \u001b[0;32mor\u001b[0m \u001b[0m_global_backward_pre_hooks\u001b[0m \u001b[0;32mor\u001b[0m \u001b[0m_global_backward_hooks\u001b[0m\u001b[0;34m\u001b[0m\u001b[0;34m\u001b[0m\u001b[0m\n\u001b[1;32m   1746\u001b[0m                 or _global_forward_hooks or _global_forward_pre_hooks):\n\u001b[0;32m-> 1747\u001b[0;31m             \u001b[0;32mreturn\u001b[0m \u001b[0mforward_call\u001b[0m\u001b[0;34m(\u001b[0m\u001b[0;34m*\u001b[0m\u001b[0margs\u001b[0m\u001b[0;34m,\u001b[0m \u001b[0;34m**\u001b[0m\u001b[0mkwargs\u001b[0m\u001b[0;34m)\u001b[0m\u001b[0;34m\u001b[0m\u001b[0;34m\u001b[0m\u001b[0m\n\u001b[0m\u001b[1;32m   1748\u001b[0m \u001b[0;34m\u001b[0m\u001b[0m\n\u001b[1;32m   1749\u001b[0m         \u001b[0mresult\u001b[0m \u001b[0;34m=\u001b[0m \u001b[0;32mNone\u001b[0m\u001b[0;34m\u001b[0m\u001b[0;34m\u001b[0m\u001b[0m\n",
            "\u001b[0;32m<ipython-input-31-bf7e732afb9e>\u001b[0m in \u001b[0;36mforward\u001b[0;34m(self, x)\u001b[0m\n\u001b[1;32m     50\u001b[0m \u001b[0;34m\u001b[0m\u001b[0m\n\u001b[1;32m     51\u001b[0m     \u001b[0mdecoder_3\u001b[0m\u001b[0;34m=\u001b[0m\u001b[0mself\u001b[0m\u001b[0;34m.\u001b[0m\u001b[0mupconv3\u001b[0m\u001b[0;34m(\u001b[0m\u001b[0mdecoder_4\u001b[0m\u001b[0;34m)\u001b[0m\u001b[0;34m\u001b[0m\u001b[0;34m\u001b[0m\u001b[0m\n\u001b[0;32m---> 52\u001b[0;31m     \u001b[0mdecoder_3\u001b[0m\u001b[0;34m=\u001b[0m\u001b[0mtorch\u001b[0m\u001b[0;34m.\u001b[0m\u001b[0mcat\u001b[0m\u001b[0;34m(\u001b[0m\u001b[0mtensors\u001b[0m\u001b[0;34m=\u001b[0m\u001b[0;34m(\u001b[0m\u001b[0mdecoder_3\u001b[0m\u001b[0;34m,\u001b[0m\u001b[0mencoder_3\u001b[0m\u001b[0;34m)\u001b[0m\u001b[0;34m,\u001b[0m\u001b[0mdim\u001b[0m\u001b[0;34m=\u001b[0m\u001b[0;36m1\u001b[0m\u001b[0;34m)\u001b[0m\u001b[0;34m\u001b[0m\u001b[0;34m\u001b[0m\u001b[0m\n\u001b[0m\u001b[1;32m     53\u001b[0m     \u001b[0mdecoder_3\u001b[0m\u001b[0;34m=\u001b[0m\u001b[0mself\u001b[0m\u001b[0;34m.\u001b[0m\u001b[0mdecoder3\u001b[0m\u001b[0;34m(\u001b[0m\u001b[0mdecoder_3\u001b[0m\u001b[0;34m)\u001b[0m\u001b[0;34m\u001b[0m\u001b[0;34m\u001b[0m\u001b[0m\n\u001b[1;32m     54\u001b[0m \u001b[0;34m\u001b[0m\u001b[0m\n",
            "\u001b[0;31mRuntimeError\u001b[0m: Sizes of tensors must match except in dimension 1. Expected size 60 but got size 61 for tensor number 1 in the list."
          ]
        }
      ]
    },
    {
      "cell_type": "markdown",
      "source": [
        "🟢 **Error Corrected:**\n",
        "\n",
        "*Why (224, 224) Works:*\n",
        "\n",
        "> `transform=transforms.Compose([transforms.Resize(size=(224,224)),\n",
        "                                      transforms.ToTensor()])`\n",
        "\n",
        "When you change the input size to (224, 224):\n",
        "\n",
        "1. Initial Input: 224x224\n",
        "2. After 1st MaxPool: 224 / 2 = 112\n",
        "3. After 2nd MaxPool: 112 / 2 = 56\n",
        "4. After 3rd MaxPool: 56 / 2 = 28\n",
        "5. After 4th MaxPool: 28 / 2 = 14\n",
        "\n",
        "Here, 224 is divisible by 16, meaning that after 4 downsampling operations, the spatial dimension (14x14) is compatible for the decoder's upsampling. The size of the feature maps at each stage remains consistent, and the skip connections can concatenate without issues."
      ],
      "metadata": {
        "id": "_x0sUcZm844a"
      }
    },
    {
      "cell_type": "code",
      "source": [
        "# will not result in error\n",
        "dummy_in=torch.rand(size=(1,3,224,224))\n",
        "output=model_0(dummy_in)\n",
        "print(output)"
      ],
      "metadata": {
        "id": "QVPLD3Yj889i",
        "colab": {
          "base_uri": "https://localhost:8080/"
        },
        "outputId": "098799bb-ecce-456d-f4b3-68085940caac"
      },
      "execution_count": 33,
      "outputs": [
        {
          "output_type": "stream",
          "name": "stdout",
          "text": [
            "tensor([[[[0.5786, 0.6916, 0.4981,  ..., 0.6016, 0.4918, 0.5503],\n",
            "          [0.5001, 0.5878, 0.6085,  ..., 0.5776, 0.4926, 0.5875],\n",
            "          [0.5641, 0.6890, 0.6911,  ..., 0.6621, 0.5988, 0.6193],\n",
            "          ...,\n",
            "          [0.4745, 0.5280, 0.5316,  ..., 0.4948, 0.5358, 0.5513],\n",
            "          [0.5699, 0.5271, 0.6643,  ..., 0.4981, 0.5069, 0.6614],\n",
            "          [0.4898, 0.5282, 0.7331,  ..., 0.5955, 0.5964, 0.5928]]]],\n",
            "       grad_fn=<SigmoidBackward0>)\n"
          ]
        }
      ]
    },
    {
      "cell_type": "markdown",
      "source": [
        "### 3.1 Use `torchinfo` to get an idea of the shapes going through our model"
      ],
      "metadata": {
        "id": "NcGU52LT9bCG"
      }
    },
    {
      "cell_type": "code",
      "source": [
        "try:\n",
        "  from torchinfo import summary\n",
        "except:\n",
        "  !pip install torchinfo\n",
        "  from torchinfo import summary"
      ],
      "metadata": {
        "id": "GDYRvdYx-B3V",
        "colab": {
          "base_uri": "https://localhost:8080/"
        },
        "outputId": "7f816aa5-043d-44c1-aa1f-f09fdd47cddc"
      },
      "execution_count": 34,
      "outputs": [
        {
          "output_type": "stream",
          "name": "stdout",
          "text": [
            "Collecting torchinfo\n",
            "  Downloading torchinfo-1.8.0-py3-none-any.whl.metadata (21 kB)\n",
            "Downloading torchinfo-1.8.0-py3-none-any.whl (23 kB)\n",
            "Installing collected packages: torchinfo\n",
            "Successfully installed torchinfo-1.8.0\n"
          ]
        }
      ]
    },
    {
      "cell_type": "code",
      "source": [
        "summary(model=model_0,input_size=(1,3,224,224))"
      ],
      "metadata": {
        "id": "sA7DRGy6-Ecw",
        "colab": {
          "base_uri": "https://localhost:8080/"
        },
        "outputId": "f193efac-d75f-4927-cdd2-8fdd4a1d460c"
      },
      "execution_count": 35,
      "outputs": [
        {
          "output_type": "execute_result",
          "data": {
            "text/plain": [
              "==========================================================================================\n",
              "Layer (type:depth-idx)                   Output Shape              Param #\n",
              "==========================================================================================\n",
              "UNET                                     [1, 1, 224, 224]          --\n",
              "├─Sequential: 1-1                        [1, 32, 224, 224]         --\n",
              "│    └─Conv2d: 2-1                       [1, 32, 224, 224]         864\n",
              "│    └─BatchNorm2d: 2-2                  [1, 32, 224, 224]         64\n",
              "│    └─ReLU: 2-3                         [1, 32, 224, 224]         --\n",
              "│    └─Conv2d: 2-4                       [1, 32, 224, 224]         9,216\n",
              "│    └─BatchNorm2d: 2-5                  [1, 32, 224, 224]         64\n",
              "│    └─ReLU: 2-6                         [1, 32, 224, 224]         --\n",
              "├─MaxPool2d: 1-2                         [1, 32, 112, 112]         --\n",
              "├─Sequential: 1-3                        [1, 64, 112, 112]         --\n",
              "│    └─Conv2d: 2-7                       [1, 64, 112, 112]         18,432\n",
              "│    └─BatchNorm2d: 2-8                  [1, 64, 112, 112]         128\n",
              "│    └─ReLU: 2-9                         [1, 64, 112, 112]         --\n",
              "│    └─Conv2d: 2-10                      [1, 64, 112, 112]         36,864\n",
              "│    └─BatchNorm2d: 2-11                 [1, 64, 112, 112]         128\n",
              "│    └─ReLU: 2-12                        [1, 64, 112, 112]         --\n",
              "├─MaxPool2d: 1-4                         [1, 64, 56, 56]           --\n",
              "├─Sequential: 1-5                        [1, 128, 56, 56]          --\n",
              "│    └─Conv2d: 2-13                      [1, 128, 56, 56]          73,728\n",
              "│    └─BatchNorm2d: 2-14                 [1, 128, 56, 56]          256\n",
              "│    └─ReLU: 2-15                        [1, 128, 56, 56]          --\n",
              "│    └─Conv2d: 2-16                      [1, 128, 56, 56]          147,456\n",
              "│    └─BatchNorm2d: 2-17                 [1, 128, 56, 56]          256\n",
              "│    └─ReLU: 2-18                        [1, 128, 56, 56]          --\n",
              "├─MaxPool2d: 1-6                         [1, 128, 28, 28]          --\n",
              "├─Sequential: 1-7                        [1, 256, 28, 28]          --\n",
              "│    └─Conv2d: 2-19                      [1, 256, 28, 28]          294,912\n",
              "│    └─BatchNorm2d: 2-20                 [1, 256, 28, 28]          512\n",
              "│    └─ReLU: 2-21                        [1, 256, 28, 28]          --\n",
              "│    └─Conv2d: 2-22                      [1, 256, 28, 28]          589,824\n",
              "│    └─BatchNorm2d: 2-23                 [1, 256, 28, 28]          512\n",
              "│    └─ReLU: 2-24                        [1, 256, 28, 28]          --\n",
              "├─MaxPool2d: 1-8                         [1, 256, 14, 14]          --\n",
              "├─Sequential: 1-9                        [1, 512, 14, 14]          --\n",
              "│    └─Conv2d: 2-25                      [1, 512, 14, 14]          1,179,648\n",
              "│    └─BatchNorm2d: 2-26                 [1, 512, 14, 14]          1,024\n",
              "│    └─ReLU: 2-27                        [1, 512, 14, 14]          --\n",
              "│    └─Conv2d: 2-28                      [1, 512, 14, 14]          2,359,296\n",
              "│    └─BatchNorm2d: 2-29                 [1, 512, 14, 14]          1,024\n",
              "│    └─ReLU: 2-30                        [1, 512, 14, 14]          --\n",
              "├─ConvTranspose2d: 1-10                  [1, 256, 28, 28]          524,544\n",
              "├─Sequential: 1-11                       [1, 256, 28, 28]          --\n",
              "│    └─Conv2d: 2-31                      [1, 256, 28, 28]          1,179,648\n",
              "│    └─BatchNorm2d: 2-32                 [1, 256, 28, 28]          512\n",
              "│    └─ReLU: 2-33                        [1, 256, 28, 28]          --\n",
              "│    └─Conv2d: 2-34                      [1, 256, 28, 28]          589,824\n",
              "│    └─BatchNorm2d: 2-35                 [1, 256, 28, 28]          512\n",
              "│    └─ReLU: 2-36                        [1, 256, 28, 28]          --\n",
              "├─ConvTranspose2d: 1-12                  [1, 128, 56, 56]          131,200\n",
              "├─Sequential: 1-13                       [1, 128, 56, 56]          --\n",
              "│    └─Conv2d: 2-37                      [1, 128, 56, 56]          294,912\n",
              "│    └─BatchNorm2d: 2-38                 [1, 128, 56, 56]          256\n",
              "│    └─ReLU: 2-39                        [1, 128, 56, 56]          --\n",
              "│    └─Conv2d: 2-40                      [1, 128, 56, 56]          147,456\n",
              "│    └─BatchNorm2d: 2-41                 [1, 128, 56, 56]          256\n",
              "│    └─ReLU: 2-42                        [1, 128, 56, 56]          --\n",
              "├─ConvTranspose2d: 1-14                  [1, 64, 112, 112]         32,832\n",
              "├─Sequential: 1-15                       [1, 64, 112, 112]         --\n",
              "│    └─Conv2d: 2-43                      [1, 64, 112, 112]         73,728\n",
              "│    └─BatchNorm2d: 2-44                 [1, 64, 112, 112]         128\n",
              "│    └─ReLU: 2-45                        [1, 64, 112, 112]         --\n",
              "│    └─Conv2d: 2-46                      [1, 64, 112, 112]         36,864\n",
              "│    └─BatchNorm2d: 2-47                 [1, 64, 112, 112]         128\n",
              "│    └─ReLU: 2-48                        [1, 64, 112, 112]         --\n",
              "├─ConvTranspose2d: 1-16                  [1, 32, 224, 224]         8,224\n",
              "├─Sequential: 1-17                       [1, 32, 224, 224]         --\n",
              "│    └─Conv2d: 2-49                      [1, 32, 224, 224]         18,432\n",
              "│    └─BatchNorm2d: 2-50                 [1, 32, 224, 224]         64\n",
              "│    └─ReLU: 2-51                        [1, 32, 224, 224]         --\n",
              "│    └─Conv2d: 2-52                      [1, 32, 224, 224]         9,216\n",
              "│    └─BatchNorm2d: 2-53                 [1, 32, 224, 224]         64\n",
              "│    └─ReLU: 2-54                        [1, 32, 224, 224]         --\n",
              "├─Conv2d: 1-18                           [1, 1, 224, 224]          33\n",
              "==========================================================================================\n",
              "Total params: 7,763,041\n",
              "Trainable params: 7,763,041\n",
              "Non-trainable params: 0\n",
              "Total mult-adds (G): 10.48\n",
              "==========================================================================================\n",
              "Input size (MB): 0.60\n",
              "Forward/backward pass size (MB): 220.37\n",
              "Params size (MB): 31.05\n",
              "Estimated Total Size (MB): 252.03\n",
              "=========================================================================================="
            ]
          },
          "metadata": {},
          "execution_count": 35
        }
      ]
    },
    {
      "cell_type": "markdown",
      "source": [
        "## 4 - Custom Dataset"
      ],
      "metadata": {
        "id": "Fws_45w93yi_"
      }
    },
    {
      "cell_type": "code",
      "source": [
        "from torch.utils.data import Dataset\n",
        "from PIL import Image\n",
        "from torchvision import transforms\n",
        "from typing import Tuple,Dict,List\n",
        "import torch\n",
        "from pathlib import Path\n",
        "from torchvision.transforms import ToTensor\n",
        "\n",
        "class ISICDataset(Dataset):\n",
        "  def __init__(self,image_dir_path,binarymasks_dir_path,transform=transforms.ToTensor()):\n",
        "    self.image_paths=sorted(list(Path(image_dir_path).glob(\"*.jpg\")))\n",
        "    self.binarymask_paths=sorted(list(Path(binarymasks_dir_path).glob(\"*.png\")))\n",
        "    self.transform=transform\n",
        "\n",
        "    assert len(self.image_paths) == len(self.binarymask_paths), (\n",
        "            \"Number of images and binary masks do not match.\"\n",
        "        )\n",
        "\n",
        "  def load_image(self,index:int)->Image.Image:\n",
        "    image_path=self.image_paths[index]\n",
        "    return Image.open(image_path)\n",
        "  def load_binarymask(self,index:int)->Image.Image:\n",
        "    binarymask_path=self.binarymask_paths[index]\n",
        "    return Image.open(binarymask_path).convert(\"1\") #load mask as binary image\n",
        "  def __len__(self)->int:\n",
        "    return len(self.image_paths)\n",
        "  def __getitem__(self,index:int)->Tuple[torch.Tensor,torch.Tensor]:\n",
        "    img=self.load_image(index)\n",
        "    mask=self.load_binarymask(index)\n",
        "\n",
        "\n",
        "    if self.transform:\n",
        "      return self.transform(img),self.transform(mask)\n",
        "    else:\n",
        "      return img,mask"
      ],
      "metadata": {
        "id": "V3Qb6AXsSpmw"
      },
      "execution_count": 57,
      "outputs": []
    },
    {
      "cell_type": "markdown",
      "source": [
        "## 5 - Dataset and Dataloaders"
      ],
      "metadata": {
        "id": "TSXuzsk7ii9e"
      }
    },
    {
      "cell_type": "code",
      "source": [
        "# error transform\n",
        "# transform=transforms.Compose([transforms.Resize(size=(244,244)),\n",
        "#                                       transforms.ToTensor()])\n",
        "\n",
        "# creating right transform\n",
        "transform=transforms.Compose([transforms.Resize(size=(224,224)),\n",
        "                                      transforms.ToTensor()])"
      ],
      "metadata": {
        "id": "UR-z-RawnZrM"
      },
      "execution_count": 58,
      "outputs": []
    },
    {
      "cell_type": "code",
      "source": [
        "# creating our training datasets\n",
        "train_dataset=ISICDataset(image_dir_path=\"ISIC-2017_Data/train/Images\",binarymasks_dir_path=\"ISIC-2017_Data/train/Binary\",transform=transform)\n",
        "img,mask=train_dataset[0]\n",
        "print(img.shape,mask.shape)"
      ],
      "metadata": {
        "id": "ccWSvtnBblag",
        "colab": {
          "base_uri": "https://localhost:8080/"
        },
        "outputId": "d8b2252a-1f42-4a6d-9350-a6fd46e91b94"
      },
      "execution_count": 60,
      "outputs": [
        {
          "output_type": "stream",
          "name": "stdout",
          "text": [
            "torch.Size([3, 224, 224]) torch.Size([1, 224, 224])\n"
          ]
        }
      ]
    },
    {
      "cell_type": "code",
      "source": [
        "# creating our validation datasets\n",
        "valid_dataset=ISICDataset(image_dir_path=\"ISIC-2017_Data/valid/Images\",binarymasks_dir_path=\"ISIC-2017_Data/valid/Binary\",transform=transform)\n",
        "img,mask=valid_dataset[0]\n",
        "print(img.shape,mask.shape)"
      ],
      "metadata": {
        "id": "1xUOSVRRw9_R",
        "colab": {
          "base_uri": "https://localhost:8080/"
        },
        "outputId": "9e4f7fe2-d842-4818-ec82-b33560cd32ea"
      },
      "execution_count": 61,
      "outputs": [
        {
          "output_type": "stream",
          "name": "stdout",
          "text": [
            "torch.Size([3, 224, 224]) torch.Size([1, 224, 224])\n"
          ]
        }
      ]
    },
    {
      "cell_type": "code",
      "source": [
        "import numpy as np\n",
        "import matplotlib.pyplot as plt\n",
        "import cv2\n",
        "\n",
        "# Convert tensors to numpy arrays, resize mask to match image dimensions, and repeat mask channels\n",
        "img = img.permute(1, 2, 0).numpy()\n",
        "mask = mask.permute(1, 2, 0).squeeze().numpy()\n",
        "mask = cv2.resize(mask, (img.shape[1], img.shape[0]))\n",
        "mask = np.repeat(mask[:, :, np.newaxis], 3, axis=2)\n",
        "\n",
        "# Concatenate image and mask side by side\n",
        "concatenated_img = np.concatenate((img, mask), axis=1)\n",
        "\n",
        "# Display image and mask\n",
        "plt.imshow(concatenated_img)\n",
        "plt.title('Image & Mask', loc='center')\n",
        "plt.axis('off')  # Remove axis ticks\n",
        "plt.show()\n"
      ],
      "metadata": {
        "id": "ThqKnJkJxTBS",
        "colab": {
          "base_uri": "https://localhost:8080/",
          "height": 307
        },
        "outputId": "c445f23c-2d2d-408d-edc1-7cece6a5c569"
      },
      "execution_count": 62,
      "outputs": [
        {
          "output_type": "display_data",
          "data": {
            "text/plain": [
              "<Figure size 640x480 with 1 Axes>"
            ],
            "image/png": "[encoded data removed]"
          },
          "metadata": {}
        }
      ]
    },
    {
      "cell_type": "code",
      "source": [
        "len(train_dataset),len(valid_dataset)"
      ],
      "metadata": {
        "id": "vg7yTwkHunkL",
        "colab": {
          "base_uri": "https://localhost:8080/"
        },
        "outputId": "e6686e5e-929c-46f0-fae7-aa94c05f19d8"
      },
      "execution_count": 63,
      "outputs": [
        {
          "output_type": "execute_result",
          "data": {
            "text/plain": [
              "(2000, 150)"
            ]
          },
          "metadata": {},
          "execution_count": 63
        }
      ]
    },
    {
      "cell_type": "code",
      "source": [
        "# Creating dataloaders\n",
        "import os\n",
        "from torch.utils.data import DataLoader\n",
        "BATCH_SIZE=32\n",
        "NUM_WORKERS=os.cpu_count()\n",
        "\n",
        "train_dataloader=DataLoader(dataset=train_dataset,batch_size=BATCH_SIZE,\n",
        "                            shuffle=True,num_workers=NUM_WORKERS,\n",
        "                            pin_memory=True)\n",
        "valid_dataloader=DataLoader(dataset=valid_dataset,batch_size=32,\n",
        "                            shuffle=False,num_workers=NUM_WORKERS,\n",
        "                            pin_memory=True)\n",
        "train_dataloader,valid_dataloader"
      ],
      "metadata": {
        "id": "sGlD7vxUkWX0",
        "colab": {
          "base_uri": "https://localhost:8080/"
        },
        "outputId": "52b48a5b-4b54-45f1-bfc0-c4f79670031b"
      },
      "execution_count": 64,
      "outputs": [
        {
          "output_type": "execute_result",
          "data": {
            "text/plain": [
              "(<torch.utils.data.dataloader.DataLoader at 0x78aec2fff580>,\n",
              " <torch.utils.data.dataloader.DataLoader at 0x78aec2ffd510>)"
            ]
          },
          "metadata": {},
          "execution_count": 64
        }
      ]
    },
    {
      "cell_type": "code",
      "source": [
        "# checking our dataloaders\n",
        "img,mask=next(iter(train_dataloader))\n",
        "\n",
        "img.shape,mask.shape"
      ],
      "metadata": {
        "id": "3fFixAtSmBzM",
        "colab": {
          "base_uri": "https://localhost:8080/"
        },
        "outputId": "6612be08-763f-4709-da26-c8dbcf1c6309"
      },
      "execution_count": 65,
      "outputs": [
        {
          "output_type": "execute_result",
          "data": {
            "text/plain": [
              "(torch.Size([32, 3, 224, 224]), torch.Size([32, 1, 224, 224]))"
            ]
          },
          "metadata": {},
          "execution_count": 65
        }
      ]
    },
    {
      "cell_type": "code",
      "source": [
        "# lets see if mask contain only bonary values?\n",
        "mask"
      ],
      "metadata": {
        "id": "1WCorS-m01xM",
        "colab": {
          "base_uri": "https://localhost:8080/"
        },
        "outputId": "e58b1118-7089-4d25-e802-accd19f94770"
      },
      "execution_count": 66,
      "outputs": [
        {
          "output_type": "execute_result",
          "data": {
            "text/plain": [
              "tensor([[[[0., 0., 0.,  ..., 0., 0., 0.],\n",
              "          [0., 0., 0.,  ..., 0., 0., 0.],\n",
              "          [0., 0., 0.,  ..., 0., 0., 0.],\n",
              "          ...,\n",
              "          [0., 0., 0.,  ..., 0., 0., 0.],\n",
              "          [0., 0., 0.,  ..., 0., 0., 0.],\n",
              "          [0., 0., 0.,  ..., 0., 0., 0.]]],\n",
              "\n",
              "\n",
              "        [[[0., 0., 0.,  ..., 0., 0., 0.],\n",
              "          [0., 0., 0.,  ..., 0., 0., 0.],\n",
              "          [0., 0., 0.,  ..., 0., 0., 0.],\n",
              "          ...,\n",
              "          [0., 0., 0.,  ..., 0., 0., 0.],\n",
              "          [0., 0., 0.,  ..., 0., 0., 0.],\n",
              "          [0., 0., 0.,  ..., 0., 0., 0.]]],\n",
              "\n",
              "\n",
              "        [[[0., 0., 0.,  ..., 0., 0., 0.],\n",
              "          [0., 0., 0.,  ..., 0., 0., 0.],\n",
              "          [0., 0., 0.,  ..., 0., 0., 0.],\n",
              "          ...,\n",
              "          [0., 0., 0.,  ..., 0., 0., 0.],\n",
              "          [0., 0., 0.,  ..., 0., 0., 0.],\n",
              "          [0., 0., 0.,  ..., 0., 0., 0.]]],\n",
              "\n",
              "\n",
              "        ...,\n",
              "\n",
              "\n",
              "        [[[0., 0., 0.,  ..., 0., 0., 0.],\n",
              "          [0., 0., 0.,  ..., 0., 0., 0.],\n",
              "          [0., 0., 0.,  ..., 0., 0., 0.],\n",
              "          ...,\n",
              "          [0., 0., 0.,  ..., 0., 0., 0.],\n",
              "          [0., 0., 0.,  ..., 0., 0., 0.],\n",
              "          [0., 0., 0.,  ..., 0., 0., 0.]]],\n",
              "\n",
              "\n",
              "        [[[0., 0., 0.,  ..., 0., 0., 0.],\n",
              "          [0., 0., 0.,  ..., 0., 0., 0.],\n",
              "          [0., 0., 0.,  ..., 0., 0., 0.],\n",
              "          ...,\n",
              "          [0., 0., 0.,  ..., 0., 0., 0.],\n",
              "          [0., 0., 0.,  ..., 0., 0., 0.],\n",
              "          [0., 0., 0.,  ..., 0., 0., 0.]]],\n",
              "\n",
              "\n",
              "        [[[0., 0., 0.,  ..., 0., 0., 0.],\n",
              "          [0., 0., 0.,  ..., 0., 0., 0.],\n",
              "          [0., 0., 0.,  ..., 0., 0., 0.],\n",
              "          ...,\n",
              "          [0., 0., 0.,  ..., 0., 0., 0.],\n",
              "          [0., 0., 0.,  ..., 0., 0., 0.],\n",
              "          [0., 0., 0.,  ..., 0., 0., 0.]]]])"
            ]
          },
          "metadata": {},
          "execution_count": 66
        }
      ]
    },
    {
      "cell_type": "markdown",
      "source": [
        "## 6 - Create train and test\n"
      ],
      "metadata": {
        "id": "Nx0KDf74qd4-"
      }
    },
    {
      "cell_type": "markdown",
      "source": [
        "### 6.1 - Creating trainig and test step\n",
        "* `train_step()` - takes in a model and dataloader and trains the model on the dataloader.\n",
        "* `validation_step()` - takes in a model and dataloader and evaluates the model on the dataloader."
      ],
      "metadata": {
        "id": "gr9iZiqKOGow"
      }
    },
    {
      "cell_type": "code",
      "source": [
        "try:\n",
        "  import torchmetrics\n",
        "except:\n",
        "  !pip install torchmetrics\n",
        "  import torchmetrics"
      ],
      "metadata": {
        "id": "6_3MYGw-PQTY"
      },
      "execution_count": 67,
      "outputs": []
    },
    {
      "cell_type": "code",
      "source": [
        "def train_step(model:nn.Module,dataloader:torch.utils.data.DataLoader,\n",
        "               loss_fn:nn.Module,optimizer:torch.optim.Optimizer,\n",
        "               acc_fn:torchmetrics.Accuracy,device):\n",
        "  model.train()\n",
        "\n",
        "  train_loss=0\n",
        "  train_acc=0\n",
        "\n",
        "  for batch,(img,mask) in enumerate(dataloader):\n",
        "    img,mask = img.to(device),mask.to(device)\n",
        "\n",
        "    # Convert mask to integers (binary)\n",
        "    # mask = mask.int()\n",
        "\n",
        "    # forward pass\n",
        "    y_pred=model(img)\n",
        "\n",
        "    # calculate the loss\n",
        "    loss=loss_fn(y_pred,mask)\n",
        "    train_loss += loss.item()\n",
        "    # calculate acc\n",
        "    acc=acc_fn((torch.sigmoid(y_pred)>0.5),mask)\n",
        "    train_acc+=acc.item()\n",
        "\n",
        "    # optimizer zero grad\n",
        "    optimizer.zero_grad()\n",
        "    # optimizer step\n",
        "    optimizer.step()\n",
        "\n",
        "  # calculate average loss and acc\n",
        "  train_loss=train_loss/len(dataloader)\n",
        "  train_acc=train_acc/len(dataloader)\n",
        "\n",
        "  return train_loss,train_acc\n",
        "\n",
        "\n",
        "def validation_step(model: nn.Module, dataloader: torch.utils.data.DataLoader,\n",
        "                    loss_fn: nn.Module, acc_fn:torchmetrics.Accuracy,\n",
        "                    device=device):\n",
        "  # set model model to eval\n",
        "  model.eval()\n",
        "\n",
        "  # val loss and accuracy\n",
        "  val_loss=0\n",
        "  val_acc=0\n",
        "\n",
        "  # turn off the gradeient tracking\n",
        "  with torch.inference_mode():\n",
        "    for batch,(img,mask) in enumerate(dataloader):\n",
        "      img,mask=img.to(device),mask.to(device)\n",
        "\n",
        "      # forward pass\n",
        "      val_logits=model(img)\n",
        "      # calculate the loss\n",
        "      loss=loss_fn(val_logits,mask)\n",
        "      val_loss+=loss\n",
        "\n",
        "      acc=acc_fn((torch.sigmoid(val_logits)>0.5),mask)\n",
        "      val_acc+=acc\n",
        "\n",
        "    val_loss=val_loss/len(dataloader)\n",
        "    val_acc=val_acc/len(dataloader)\n",
        "\n",
        "    return val_loss,val_acc\n"
      ],
      "metadata": {
        "id": "TTYGvy_d4B_t"
      },
      "execution_count": 68,
      "outputs": []
    },
    {
      "cell_type": "markdown",
      "source": [
        "### 6.2 - Creating `train()` to combine trainig and validation step"
      ],
      "metadata": {
        "id": "lvxvJh7WN2ld"
      }
    },
    {
      "cell_type": "code",
      "source": [
        "from tqdm.auto import tqdm\n",
        "\n",
        "def train(model:nn.Module,train_dataloader:torch.utils.data.DataLoader,\n",
        "          test_dataloader:torch.utils.data.DataLoader,\n",
        "          optimizer:torch.optim.Optimizer,loss_fn:nn.Module,\n",
        "          acc_fn:torchmetrics.Accuracy,epochs,device):\n",
        "  results={\"train_loss\":[],\n",
        "           \"train_acc\":[],\n",
        "           \"val_loss\":[],\n",
        "           \"val_acc\":[]}\n",
        "  for epoch in tqdm(range(epochs)):\n",
        "    train_loss,train_acc=train_step(model,dataloader=train_dataloader,\n",
        "                                    loss_fn=loss_fn,optimizer=optimizer,\n",
        "                                    acc_fn=acc_fn,device=device)\n",
        "    val_loss,val_acc=validation_step(model,dataloader=test_dataloader,\n",
        "                                     loss_fn=loss_fn,acc_fn=acc_fn,\n",
        "                                     device=device)\n",
        "\n",
        "    # 4. Print out what's happening\n",
        "    print(f\"Epoch: {epoch} | Train loss: {train_loss:.4f} | Train acc: {train_acc:.4f} | val loss: {val_loss:.4f} | val acc: {val_acc:.4f}\")\n",
        "\n",
        "    # 5. Update results dictionary\n",
        "    results[\"train_loss\"].append(train_loss)\n",
        "    results[\"train_acc\"].append(train_acc)\n",
        "    results[\"val_loss\"].append(val_loss)\n",
        "    results[\"val_acc\"].append(val_acc)\n",
        "\n",
        "  # 6. Return the filled results at the end of the epochs\n",
        "  return results\n"
      ],
      "metadata": {
        "id": "mJFBCH18OYux"
      },
      "execution_count": 69,
      "outputs": []
    },
    {
      "cell_type": "markdown",
      "source": [
        "## test loops"
      ],
      "metadata": {
        "id": "hLOlnziMTPh9"
      }
    },
    {
      "cell_type": "code",
      "source": [
        "# from tqdm.auto import tqdm\n",
        "# import torch\n",
        "\n",
        "# def train_step(\n",
        "#     model: nn.Module,\n",
        "#     dataloader: torch.utils.data.DataLoader,\n",
        "#     loss_fn: nn.Module,\n",
        "#     optimizer: torch.optim.Optimizer,\n",
        "#     acc_fn: torchmetrics.Accuracy,\n",
        "#     device,\n",
        "#     scaler: torch.cuda.amp.GradScaler,  # Added scaler for mixed precision\n",
        "# ):\n",
        "#     model.train()\n",
        "\n",
        "#     train_loss = 0\n",
        "#     train_acc = 0\n",
        "\n",
        "#     loop = tqdm(enumerate(dataloader), total=len(dataloader), leave=False)\n",
        "\n",
        "#     for batch, (img, mask) in loop:\n",
        "#         img, mask = img.to(device), mask.to(device)\n",
        "\n",
        "#         # Forward pass with mixed precision\n",
        "#         with torch.cuda.amp.autocast():\n",
        "#             y_pred = model(img)\n",
        "#             loss = loss_fn(y_pred, mask)\n",
        "\n",
        "#         train_loss += loss.item()\n",
        "\n",
        "#         # Calculate accuracy\n",
        "#         train_acc += acc_fn((torch.sigmoid(y_pred) > 0.5), mask).item()\n",
        "\n",
        "#         # Backward pass\n",
        "#         optimizer.zero_grad()\n",
        "#         scaler.scale(loss).backward()\n",
        "#         scaler.step(optimizer)\n",
        "#         scaler.update()\n",
        "\n",
        "#         # Update tqdm progress bar\n",
        "#         loop.set_postfix(loss=loss.item())\n",
        "\n",
        "#     # Calculate average loss and accuracy\n",
        "#     train_loss = train_loss / len(dataloader)\n",
        "#     train_acc = train_acc / len(dataloader)\n",
        "\n",
        "#     return train_loss, train_acc\n",
        "\n",
        "\n",
        "# def validation_step(\n",
        "#     model: nn.Module,\n",
        "#     dataloader: torch.utils.data.DataLoader,\n",
        "#     loss_fn: nn.Module,\n",
        "#     acc_fn: torchmetrics.Accuracy,\n",
        "#     device,\n",
        "# ):\n",
        "#     model.eval()\n",
        "\n",
        "#     val_loss = 0\n",
        "#     val_acc = 0\n",
        "\n",
        "#     # Turn off gradient tracking\n",
        "#     with torch.inference_mode():\n",
        "#         for batch, (img, mask) in enumerate(dataloader):\n",
        "#             img, mask = img.to(device), mask.to(device)\n",
        "\n",
        "#             # Forward pass\n",
        "#             val_logits = model(img)\n",
        "#             loss = loss_fn(val_logits, mask)\n",
        "#             val_loss += loss.item()\n",
        "\n",
        "#             # Calculate accuracy\n",
        "#             val_acc += acc_fn((torch.sigmoid(val_logits) > 0.5), mask).item()\n",
        "\n",
        "#     # Calculate average loss and accuracy\n",
        "#     val_loss = val_loss / len(dataloader)\n",
        "#     val_acc = val_acc / len(dataloader)\n",
        "\n",
        "#     return val_loss, val_acc\n",
        "\n",
        "\n",
        "# def train(\n",
        "#     model: nn.Module,\n",
        "#     train_dataloader: torch.utils.data.DataLoader,\n",
        "#     test_dataloader: torch.utils.data.DataLoader,\n",
        "#     optimizer: torch.optim.Optimizer,\n",
        "#     loss_fn: nn.Module,\n",
        "#     acc_fn: torchmetrics.Accuracy,\n",
        "#     epochs: int,\n",
        "#     device,\n",
        "# ):\n",
        "#     # Initialize GradScaler for mixed precision training\n",
        "#     scaler = torch.cuda.amp.GradScaler()\n",
        "\n",
        "#     results = {\"train_loss\": [], \"train_acc\": [], \"val_loss\": [], \"val_acc\": []}\n",
        "\n",
        "#     for epoch in tqdm(range(epochs)):\n",
        "#         print(f\"\\nEpoch {epoch + 1}/{epochs}:\")\n",
        "\n",
        "#         # Training step\n",
        "#         train_loss, train_acc = train_step(\n",
        "#             model,\n",
        "#             dataloader=train_dataloader,\n",
        "#             loss_fn=loss_fn,\n",
        "#             optimizer=optimizer,\n",
        "#             acc_fn=acc_fn,\n",
        "#             device=device,\n",
        "#             scaler=scaler,\n",
        "#         )\n",
        "\n",
        "#         # Validation step\n",
        "#         val_loss, val_acc = validation_step(\n",
        "#             model,\n",
        "#             dataloader=test_dataloader,\n",
        "#             loss_fn=loss_fn,\n",
        "#             acc_fn=acc_fn,\n",
        "#             device=device,\n",
        "#         )\n",
        "\n",
        "#         # Save periodic checkpoints\n",
        "#         if epoch % 5 == 0 and epoch != 0:\n",
        "#             checkpoint = {\n",
        "#                 \"state_dict\": model.state_dict(),\n",
        "#                 \"optimizer\": optimizer.state_dict(),\n",
        "#                 \"epoch\": epoch,\n",
        "#             }\n",
        "#             torch.save(checkpoint, f\"checkpoint_epoch_{epoch}.pth.tar\")\n",
        "\n",
        "#         # Log epoch results\n",
        "#         print(\n",
        "#             f\"Train Loss: {train_loss:.4f}, Train Acc: {train_acc:.4f} | \"\n",
        "#             f\"Val Loss: {val_loss:.4f}, Val Acc: {val_acc:.4f}\"\n",
        "#         )\n",
        "\n",
        "#         # Update results dictionary\n",
        "#         results[\"train_loss\"].append(train_loss)\n",
        "#         results[\"train_acc\"].append(train_acc)\n",
        "#         results[\"val_loss\"].append(val_loss)\n",
        "#         results[\"val_acc\"].append(val_acc)\n",
        "\n",
        "#     # Save the final checkpoint\n",
        "#     torch.save(\n",
        "#         {\n",
        "#             \"state_dict\": model.state_dict(),\n",
        "#             \"optimizer\": optimizer.state_dict(),\n",
        "#             \"epoch\": epochs,\n",
        "#         },\n",
        "#         \"final_checkpoint.pth.tar\",\n",
        "#     )\n",
        "\n",
        "#     return results\n"
      ],
      "metadata": {
        "id": "eoJ5BEt9Wa2u"
      },
      "execution_count": 70,
      "outputs": []
    },
    {
      "cell_type": "markdown",
      "source": [
        "## 7 - Configuring model for training"
      ],
      "metadata": {
        "id": "MrxsB0elXWqP"
      }
    },
    {
      "cell_type": "code",
      "source": [
        "torch.manual_seed(42)\n",
        "torch.cuda.manual_seed(42)\n",
        "\n",
        "Epochs=25\n",
        "\n",
        "model_0=UNET(in_channels=3,out_channels=1).to(device)\n",
        "loss_fn=torch.nn.BCEWithLogitsLoss()\n",
        "optimizer=torch.optim.Adam(model_0.parameters(),lr=0.001)\n",
        "scaler=torch.cuda.amp.GradScaler\n",
        "acc_fn=torchmetrics.Accuracy(task=\"binary\").to(device)"
      ],
      "metadata": {
        "id": "D5Lpz9H9XnIj"
      },
      "execution_count": 71,
      "outputs": []
    },
    {
      "cell_type": "code",
      "source": [
        "import torch\n",
        "import torch.nn as nn\n",
        "\n",
        "def setup_device_and_train(\n",
        "    model: nn.Module,\n",
        "    train_dataloader: torch.utils.data.DataLoader,\n",
        "    test_dataloader: torch.utils.data.DataLoader,\n",
        "    optimizer: torch.optim.Optimizer,\n",
        "    loss_fn: nn.Module,\n",
        "    acc_fn: torchmetrics.Accuracy,\n",
        "    epochs: int,\n",
        "):\n",
        "    \"\"\"\n",
        "    Sets up the device, enables multi-GPU support if available, and trains the model.\n",
        "\n",
        "    Args:\n",
        "        model (nn.Module): The model to train.\n",
        "        train_dataloader (torch.utils.data.DataLoader): DataLoader for training data.\n",
        "        test_dataloader (torch.utils.data.DataLoader): DataLoader for validation data.\n",
        "        optimizer (torch.optim.Optimizer): Optimizer for training.\n",
        "        loss_fn (nn.Module): Loss function.\n",
        "        acc_fn (torchmetrics.Accuracy): Accuracy function.\n",
        "        epochs (int): Number of training epochs.\n",
        "    \"\"\"\n",
        "    # Check for available GPUs\n",
        "    if torch.cuda.device_count() > 1:\n",
        "        print(f\"Multiple GPUs detected: {torch.cuda.device_count()} GPUs\")\n",
        "        model = nn.DataParallel(model)  # Wrap model for multi-GPU training\n",
        "        device = torch.device(\"cuda:0\")  # Primary GPU for coordination\n",
        "    elif torch.cuda.is_available():\n",
        "        print(\"Using a single GPU\")\n",
        "        device = torch.device(\"cuda:0\")\n",
        "    else:\n",
        "        print(\"No GPU detected, using CPU\")\n",
        "        device = torch.device(\"cpu\")\n",
        "\n",
        "    # Move model to the appropriate device\n",
        "    model = model.to(device)\n",
        "\n",
        "    # Start training\n",
        "    results = train(\n",
        "        model=model,\n",
        "        train_dataloader=train_dataloader,\n",
        "        test_dataloader=test_dataloader,\n",
        "        optimizer=optimizer,\n",
        "        loss_fn=loss_fn,\n",
        "        acc_fn=acc_fn,\n",
        "        epochs=epochs,\n",
        "        device=device,\n",
        "    )\n",
        "\n",
        "    return results\n"
      ],
      "metadata": {
        "id": "1iz3AuDOY9jv"
      },
      "execution_count": 72,
      "outputs": []
    },
    {
      "cell_type": "code",
      "source": [
        "results=setup_device_and_train(model_0,train_dataloader,valid_dataloader,optimizer,loss_fn,acc_fn,2)"
      ],
      "metadata": {
        "id": "bbQxwV4vZETH",
        "colab": {
          "base_uri": "https://localhost:8080/",
          "height": 66,
          "referenced_widgets": [
            "a1f7b037106f4cd894797c281a7a67c3",
            "0b27c0a6f41d479a8929cd880c4e5283",
            "3adc53c2ad144dd88c2511213c2e1304",
            "aa2ef4da2dd148ddb57f6a0b0813f843",
            "d8a4f33518a54f999aa0fe0b8fd8836e",
            "99c9d8d12b684c1aba639626fd48c056",
            "2ea628b7bbe7452c8e12245e08f9fde8",
            "0bc8c9791086402aad5b1ee84a3d8c4c",
            "f9b9f38e42d849cd8cb9cda4e7502bd7",
            "a55637dbc65742c6844b668eb7b174ae",
            "ee829598969a4b3891f2b94dd5d9f748"
          ]
        },
        "outputId": "2669ebb9-7fb4-4d3c-9c49-cdc028dd3085"
      },
      "execution_count": null,
      "outputs": [
        {
          "output_type": "stream",
          "name": "stdout",
          "text": [
            "No GPU detected, using CPU\n"
          ]
        },
        {
          "output_type": "display_data",
          "data": {
            "text/plain": [
              "  0%|          | 0/2 [00:00<?, ?it/s]"
            ],
            "application/vnd.jupyter.widget-view+json": {
              "version_major": 2,
              "version_minor": 0,
              "model_id": "a1f7b037106f4cd894797c281a7a67c3"
            }
          },
          "metadata": {}
        }
      ]
    },
    {
      "cell_type": "code",
      "source": [],
      "metadata": {
        "id": "_WeAZdUAN46N"
      },
      "execution_count": null,
      "outputs": []
    }
  ],
  "metadata": {
    "colab": {
      "provenance": [],
      "include_colab_link": true
    },
    "kaggle": {
      "accelerator": "none",
      "dataSources": [],
      "dockerImageVersionId": 30786,
      "isGpuEnabled": false,
      "isInternetEnabled": true,
      "language": "python",
      "sourceType": "notebook"
    },
    "kernelspec": {
      "display_name": "Python 3",
      "language": "python",
      "name": "python3"
    },
    "language_info": {
      "codemirror_mode": {
        "name": "ipython",
        "version": 3
      },
      "file_extension": ".py",
      "mimetype": "text/x-python",
      "name": "python",
      "nbconvert_exporter": "python",
      "pygments_lexer": "ipython3",
      "version": "3.10.14"
    },
    "widgets": {
      "application/vnd.jupyter.widget-state+json": {
        "790f89c0f5d3446bb93c625ab50bd7b6": {
          "model_module": "@jupyter-widgets/controls",
          "model_name": "HBoxModel",
          "model_module_version": "1.5.0",
          "state": {
            "_dom_classes": [],
            "_model_module": "@jupyter-widgets/controls",
            "_model_module_version": "1.5.0",
            "_model_name": "HBoxModel",
            "_view_count": null,
            "_view_module": "@jupyter-widgets/controls",
            "_view_module_version": "1.5.0",
            "_view_name": "HBoxView",
            "box_style": "",
            "children": [
              "IPY_MODEL_628f6ddf22e0440684f4bf1b8c97f091",
              "IPY_MODEL_f1a524add1d842a9b5baa2efb0e4895f",
              "IPY_MODEL_79a3442b0c9545cd8ea80a3d0792f5d3"
            ],
            "layout": "IPY_MODEL_3c6b6113be284a83b0b9fb09d7ce56a5"
          }
        },
        "628f6ddf22e0440684f4bf1b8c97f091": {
          "model_module": "@jupyter-widgets/controls",
          "model_name": "HTMLModel",
          "model_module_version": "1.5.0",
          "state": {
            "_dom_classes": [],
            "_model_module": "@jupyter-widgets/controls",
            "_model_module_version": "1.5.0",
            "_model_name": "HTMLModel",
            "_view_count": null,
            "_view_module": "@jupyter-widgets/controls",
            "_view_module_version": "1.5.0",
            "_view_name": "HTMLView",
            "description": "",
            "description_tooltip": null,
            "layout": "IPY_MODEL_3836531ebb994b97b76c8146cad100c3",
            "placeholder": "​",
            "style": "IPY_MODEL_0613ec503f5549fc9d401d1e36c957d7",
            "value": "Downloading ISIC-2017_Training_Data.zip: 100%"
          }
        },
        "f1a524add1d842a9b5baa2efb0e4895f": {
          "model_module": "@jupyter-widgets/controls",
          "model_name": "FloatProgressModel",
          "model_module_version": "1.5.0",
          "state": {
            "_dom_classes": [],
            "_model_module": "@jupyter-widgets/controls",
            "_model_module_version": "1.5.0",
            "_model_name": "FloatProgressModel",
            "_view_count": null,
            "_view_module": "@jupyter-widgets/controls",
            "_view_module_version": "1.5.0",
            "_view_name": "ProgressView",
            "bar_style": "success",
            "description": "",
            "description_tooltip": null,
            "layout": "IPY_MODEL_e6165ffd55b245eda552096b62b74d76",
            "max": 6229496702,
            "min": 0,
            "orientation": "horizontal",
            "style": "IPY_MODEL_77c81513bdc94575aa3e8c2eb6016a80",
            "value": 6229496702
          }
        },
        "79a3442b0c9545cd8ea80a3d0792f5d3": {
          "model_module": "@jupyter-widgets/controls",
          "model_name": "HTMLModel",
          "model_module_version": "1.5.0",
          "state": {
            "_dom_classes": [],
            "_model_module": "@jupyter-widgets/controls",
            "_model_module_version": "1.5.0",
            "_model_name": "HTMLModel",
            "_view_count": null,
            "_view_module": "@jupyter-widgets/controls",
            "_view_module_version": "1.5.0",
            "_view_name": "HTMLView",
            "description": "",
            "description_tooltip": null,
            "layout": "IPY_MODEL_0254039fe4e44b8485ed79f99452e85f",
            "placeholder": "​",
            "style": "IPY_MODEL_20ef24f8eef84039a901bbe2117032bf",
            "value": " 5.80G/5.80G [02:15&lt;00:00, 51.3MB/s]"
          }
        },
        "3c6b6113be284a83b0b9fb09d7ce56a5": {
          "model_module": "@jupyter-widgets/base",
          "model_name": "LayoutModel",
          "model_module_version": "1.2.0",
          "state": {
            "_model_module": "@jupyter-widgets/base",
            "_model_module_version": "1.2.0",
            "_model_name": "LayoutModel",
            "_view_count": null,
            "_view_module": "@jupyter-widgets/base",
            "_view_module_version": "1.2.0",
            "_view_name": "LayoutView",
            "align_content": null,
            "align_items": null,
            "align_self": null,
            "border": null,
            "bottom": null,
            "display": null,
            "flex": null,
            "flex_flow": null,
            "grid_area": null,
            "grid_auto_columns": null,
            "grid_auto_flow": null,
            "grid_auto_rows": null,
            "grid_column": null,
            "grid_gap": null,
            "grid_row": null,
            "grid_template_areas": null,
            "grid_template_columns": null,
            "grid_template_rows": null,
            "height": null,
            "justify_content": null,
            "justify_items": null,
            "left": null,
            "margin": null,
            "max_height": null,
            "max_width": null,
            "min_height": null,
            "min_width": null,
            "object_fit": null,
            "object_position": null,
            "order": null,
            "overflow": null,
            "overflow_x": null,
            "overflow_y": null,
            "padding": null,
            "right": null,
            "top": null,
            "visibility": null,
            "width": null
          }
        },
        "3836531ebb994b97b76c8146cad100c3": {
          "model_module": "@jupyter-widgets/base",
          "model_name": "LayoutModel",
          "model_module_version": "1.2.0",
          "state": {
            "_model_module": "@jupyter-widgets/base",
            "_model_module_version": "1.2.0",
            "_model_name": "LayoutModel",
            "_view_count": null,
            "_view_module": "@jupyter-widgets/base",
            "_view_module_version": "1.2.0",
            "_view_name": "LayoutView",
            "align_content": null,
            "align_items": null,
            "align_self": null,
            "border": null,
            "bottom": null,
            "display": null,
            "flex": null,
            "flex_flow": null,
            "grid_area": null,
            "grid_auto_columns": null,
            "grid_auto_flow": null,
            "grid_auto_rows": null,
            "grid_column": null,
            "grid_gap": null,
            "grid_row": null,
            "grid_template_areas": null,
            "grid_template_columns": null,
            "grid_template_rows": null,
            "height": null,
            "justify_content": null,
            "justify_items": null,
            "left": null,
            "margin": null,
            "max_height": null,
            "max_width": null,
            "min_height": null,
            "min_width": null,
            "object_fit": null,
            "object_position": null,
            "order": null,
            "overflow": null,
            "overflow_x": null,
            "overflow_y": null,
            "padding": null,
            "right": null,
            "top": null,
            "visibility": null,
            "width": null
          }
        },
        "0613ec503f5549fc9d401d1e36c957d7": {
          "model_module": "@jupyter-widgets/controls",
          "model_name": "DescriptionStyleModel",
          "model_module_version": "1.5.0",
          "state": {
            "_model_module": "@jupyter-widgets/controls",
            "_model_module_version": "1.5.0",
            "_model_name": "DescriptionStyleModel",
            "_view_count": null,
            "_view_module": "@jupyter-widgets/base",
            "_view_module_version": "1.2.0",
            "_view_name": "StyleView",
            "description_width": ""
          }
        },
        "e6165ffd55b245eda552096b62b74d76": {
          "model_module": "@jupyter-widgets/base",
          "model_name": "LayoutModel",
          "model_module_version": "1.2.0",
          "state": {
            "_model_module": "@jupyter-widgets/base",
            "_model_module_version": "1.2.0",
            "_model_name": "LayoutModel",
            "_view_count": null,
            "_view_module": "@jupyter-widgets/base",
            "_view_module_version": "1.2.0",
            "_view_name": "LayoutView",
            "align_content": null,
            "align_items": null,
            "align_self": null,
            "border": null,
            "bottom": null,
            "display": null,
            "flex": null,
            "flex_flow": null,
            "grid_area": null,
            "grid_auto_columns": null,
            "grid_auto_flow": null,
            "grid_auto_rows": null,
            "grid_column": null,
            "grid_gap": null,
            "grid_row": null,
            "grid_template_areas": null,
            "grid_template_columns": null,
            "grid_template_rows": null,
            "height": null,
            "justify_content": null,
            "justify_items": null,
            "left": null,
            "margin": null,
            "max_height": null,
            "max_width": null,
            "min_height": null,
            "min_width": null,
            "object_fit": null,
            "object_position": null,
            "order": null,
            "overflow": null,
            "overflow_x": null,
            "overflow_y": null,
            "padding": null,
            "right": null,
            "top": null,
            "visibility": null,
            "width": null
          }
        },
        "77c81513bdc94575aa3e8c2eb6016a80": {
          "model_module": "@jupyter-widgets/controls",
          "model_name": "ProgressStyleModel",
          "model_module_version": "1.5.0",
          "state": {
            "_model_module": "@jupyter-widgets/controls",
            "_model_module_version": "1.5.0",
            "_model_name": "ProgressStyleModel",
            "_view_count": null,
            "_view_module": "@jupyter-widgets/base",
            "_view_module_version": "1.2.0",
            "_view_name": "StyleView",
            "bar_color": null,
            "description_width": ""
          }
        },
        "0254039fe4e44b8485ed79f99452e85f": {
          "model_module": "@jupyter-widgets/base",
          "model_name": "LayoutModel",
          "model_module_version": "1.2.0",
          "state": {
            "_model_module": "@jupyter-widgets/base",
            "_model_module_version": "1.2.0",
            "_model_name": "LayoutModel",
            "_view_count": null,
            "_view_module": "@jupyter-widgets/base",
            "_view_module_version": "1.2.0",
            "_view_name": "LayoutView",
            "align_content": null,
            "align_items": null,
            "align_self": null,
            "border": null,
            "bottom": null,
            "display": null,
            "flex": null,
            "flex_flow": null,
            "grid_area": null,
            "grid_auto_columns": null,
            "grid_auto_flow": null,
            "grid_auto_rows": null,
            "grid_column": null,
            "grid_gap": null,
            "grid_row": null,
            "grid_template_areas": null,
            "grid_template_columns": null,
            "grid_template_rows": null,
            "height": null,
            "justify_content": null,
            "justify_items": null,
            "left": null,
            "margin": null,
            "max_height": null,
            "max_width": null,
            "min_height": null,
            "min_width": null,
            "object_fit": null,
            "object_position": null,
            "order": null,
            "overflow": null,
            "overflow_x": null,
            "overflow_y": null,
            "padding": null,
            "right": null,
            "top": null,
            "visibility": null,
            "width": null
          }
        },
        "20ef24f8eef84039a901bbe2117032bf": {
          "model_module": "@jupyter-widgets/controls",
          "model_name": "DescriptionStyleModel",
          "model_module_version": "1.5.0",
          "state": {
            "_model_module": "@jupyter-widgets/controls",
            "_model_module_version": "1.5.0",
            "_model_name": "DescriptionStyleModel",
            "_view_count": null,
            "_view_module": "@jupyter-widgets/base",
            "_view_module_version": "1.2.0",
            "_view_name": "StyleView",
            "description_width": ""
          }
        },
        "92b2f18bf9804fdb8e6f70d6ccc3abdc": {
          "model_module": "@jupyter-widgets/controls",
          "model_name": "HBoxModel",
          "model_module_version": "1.5.0",
          "state": {
            "_dom_classes": [],
            "_model_module": "@jupyter-widgets/controls",
            "_model_module_version": "1.5.0",
            "_model_name": "HBoxModel",
            "_view_count": null,
            "_view_module": "@jupyter-widgets/controls",
            "_view_module_version": "1.5.0",
            "_view_name": "HBoxView",
            "box_style": "",
            "children": [
              "IPY_MODEL_8e1699f4ac5248c4b1d1d2b5cde41bc6",
              "IPY_MODEL_c08b0f7377af49508484849d630b7201",
              "IPY_MODEL_7182260f3ab14335a48e432738724c51"
            ],
            "layout": "IPY_MODEL_754ac99334c24e4e9c43906c0269a476"
          }
        },
        "8e1699f4ac5248c4b1d1d2b5cde41bc6": {
          "model_module": "@jupyter-widgets/controls",
          "model_name": "HTMLModel",
          "model_module_version": "1.5.0",
          "state": {
            "_dom_classes": [],
            "_model_module": "@jupyter-widgets/controls",
            "_model_module_version": "1.5.0",
            "_model_name": "HTMLModel",
            "_view_count": null,
            "_view_module": "@jupyter-widgets/controls",
            "_view_module_version": "1.5.0",
            "_view_name": "HTMLView",
            "description": "",
            "description_tooltip": null,
            "layout": "IPY_MODEL_4ed60d443a244d9c960a2b6fd073794a",
            "placeholder": "​",
            "style": "IPY_MODEL_c91678b18be64313a7b890b6cf58dc68",
            "value": "Downloading ISIC-2017_Training_Part1_GroundTruth.zip: 100%"
          }
        },
        "c08b0f7377af49508484849d630b7201": {
          "model_module": "@jupyter-widgets/controls",
          "model_name": "FloatProgressModel",
          "model_module_version": "1.5.0",
          "state": {
            "_dom_classes": [],
            "_model_module": "@jupyter-widgets/controls",
            "_model_module_version": "1.5.0",
            "_model_name": "FloatProgressModel",
            "_view_count": null,
            "_view_module": "@jupyter-widgets/controls",
            "_view_module_version": "1.5.0",
            "_view_name": "ProgressView",
            "bar_style": "success",
            "description": "",
            "description_tooltip": null,
            "layout": "IPY_MODEL_aa484277cb1f41968c710c9b8e109b06",
            "max": 9321981,
            "min": 0,
            "orientation": "horizontal",
            "style": "IPY_MODEL_0e9d00b1c2ee4f7bbe447658b44f82ee",
            "value": 9321981
          }
        },
        "7182260f3ab14335a48e432738724c51": {
          "model_module": "@jupyter-widgets/controls",
          "model_name": "HTMLModel",
          "model_module_version": "1.5.0",
          "state": {
            "_dom_classes": [],
            "_model_module": "@jupyter-widgets/controls",
            "_model_module_version": "1.5.0",
            "_model_name": "HTMLModel",
            "_view_count": null,
            "_view_module": "@jupyter-widgets/controls",
            "_view_module_version": "1.5.0",
            "_view_name": "HTMLView",
            "description": "",
            "description_tooltip": null,
            "layout": "IPY_MODEL_a11b2ef901e2477793e3c172a0f90393",
            "placeholder": "​",
            "style": "IPY_MODEL_49ec8f535ff349c7ba518b1097d27d9c",
            "value": " 8.89M/8.89M [00:00&lt;00:00, 16.8MB/s]"
          }
        },
        "754ac99334c24e4e9c43906c0269a476": {
          "model_module": "@jupyter-widgets/base",
          "model_name": "LayoutModel",
          "model_module_version": "1.2.0",
          "state": {
            "_model_module": "@jupyter-widgets/base",
            "_model_module_version": "1.2.0",
            "_model_name": "LayoutModel",
            "_view_count": null,
            "_view_module": "@jupyter-widgets/base",
            "_view_module_version": "1.2.0",
            "_view_name": "LayoutView",
            "align_content": null,
            "align_items": null,
            "align_self": null,
            "border": null,
            "bottom": null,
            "display": null,
            "flex": null,
            "flex_flow": null,
            "grid_area": null,
            "grid_auto_columns": null,
            "grid_auto_flow": null,
            "grid_auto_rows": null,
            "grid_column": null,
            "grid_gap": null,
            "grid_row": null,
            "grid_template_areas": null,
            "grid_template_columns": null,
            "grid_template_rows": null,
            "height": null,
            "justify_content": null,
            "justify_items": null,
            "left": null,
            "margin": null,
            "max_height": null,
            "max_width": null,
            "min_height": null,
            "min_width": null,
            "object_fit": null,
            "object_position": null,
            "order": null,
            "overflow": null,
            "overflow_x": null,
            "overflow_y": null,
            "padding": null,
            "right": null,
            "top": null,
            "visibility": null,
            "width": null
          }
        },
        "4ed60d443a244d9c960a2b6fd073794a": {
          "model_module": "@jupyter-widgets/base",
          "model_name": "LayoutModel",
          "model_module_version": "1.2.0",
          "state": {
            "_model_module": "@jupyter-widgets/base",
            "_model_module_version": "1.2.0",
            "_model_name": "LayoutModel",
            "_view_count": null,
            "_view_module": "@jupyter-widgets/base",
            "_view_module_version": "1.2.0",
            "_view_name": "LayoutView",
            "align_content": null,
            "align_items": null,
            "align_self": null,
            "border": null,
            "bottom": null,
            "display": null,
            "flex": null,
            "flex_flow": null,
            "grid_area": null,
            "grid_auto_columns": null,
            "grid_auto_flow": null,
            "grid_auto_rows": null,
            "grid_column": null,
            "grid_gap": null,
            "grid_row": null,
            "grid_template_areas": null,
            "grid_template_columns": null,
            "grid_template_rows": null,
            "height": null,
            "justify_content": null,
            "justify_items": null,
            "left": null,
            "margin": null,
            "max_height": null,
            "max_width": null,
            "min_height": null,
            "min_width": null,
            "object_fit": null,
            "object_position": null,
            "order": null,
            "overflow": null,
            "overflow_x": null,
            "overflow_y": null,
            "padding": null,
            "right": null,
            "top": null,
            "visibility": null,
            "width": null
          }
        },
        "c91678b18be64313a7b890b6cf58dc68": {
          "model_module": "@jupyter-widgets/controls",
          "model_name": "DescriptionStyleModel",
          "model_module_version": "1.5.0",
          "state": {
            "_model_module": "@jupyter-widgets/controls",
            "_model_module_version": "1.5.0",
            "_model_name": "DescriptionStyleModel",
            "_view_count": null,
            "_view_module": "@jupyter-widgets/base",
            "_view_module_version": "1.2.0",
            "_view_name": "StyleView",
            "description_width": ""
          }
        },
        "aa484277cb1f41968c710c9b8e109b06": {
          "model_module": "@jupyter-widgets/base",
          "model_name": "LayoutModel",
          "model_module_version": "1.2.0",
          "state": {
            "_model_module": "@jupyter-widgets/base",
            "_model_module_version": "1.2.0",
            "_model_name": "LayoutModel",
            "_view_count": null,
            "_view_module": "@jupyter-widgets/base",
            "_view_module_version": "1.2.0",
            "_view_name": "LayoutView",
            "align_content": null,
            "align_items": null,
            "align_self": null,
            "border": null,
            "bottom": null,
            "display": null,
            "flex": null,
            "flex_flow": null,
            "grid_area": null,
            "grid_auto_columns": null,
            "grid_auto_flow": null,
            "grid_auto_rows": null,
            "grid_column": null,
            "grid_gap": null,
            "grid_row": null,
            "grid_template_areas": null,
            "grid_template_columns": null,
            "grid_template_rows": null,
            "height": null,
            "justify_content": null,
            "justify_items": null,
            "left": null,
            "margin": null,
            "max_height": null,
            "max_width": null,
            "min_height": null,
            "min_width": null,
            "object_fit": null,
            "object_position": null,
            "order": null,
            "overflow": null,
            "overflow_x": null,
            "overflow_y": null,
            "padding": null,
            "right": null,
            "top": null,
            "visibility": null,
            "width": null
          }
        },
        "0e9d00b1c2ee4f7bbe447658b44f82ee": {
          "model_module": "@jupyter-widgets/controls",
          "model_name": "ProgressStyleModel",
          "model_module_version": "1.5.0",
          "state": {
            "_model_module": "@jupyter-widgets/controls",
            "_model_module_version": "1.5.0",
            "_model_name": "ProgressStyleModel",
            "_view_count": null,
            "_view_module": "@jupyter-widgets/base",
            "_view_module_version": "1.2.0",
            "_view_name": "StyleView",
            "bar_color": null,
            "description_width": ""
          }
        },
        "a11b2ef901e2477793e3c172a0f90393": {
          "model_module": "@jupyter-widgets/base",
          "model_name": "LayoutModel",
          "model_module_version": "1.2.0",
          "state": {
            "_model_module": "@jupyter-widgets/base",
            "_model_module_version": "1.2.0",
            "_model_name": "LayoutModel",
            "_view_count": null,
            "_view_module": "@jupyter-widgets/base",
            "_view_module_version": "1.2.0",
            "_view_name": "LayoutView",
            "align_content": null,
            "align_items": null,
            "align_self": null,
            "border": null,
            "bottom": null,
            "display": null,
            "flex": null,
            "flex_flow": null,
            "grid_area": null,
            "grid_auto_columns": null,
            "grid_auto_flow": null,
            "grid_auto_rows": null,
            "grid_column": null,
            "grid_gap": null,
            "grid_row": null,
            "grid_template_areas": null,
            "grid_template_columns": null,
            "grid_template_rows": null,
            "height": null,
            "justify_content": null,
            "justify_items": null,
            "left": null,
            "margin": null,
            "max_height": null,
            "max_width": null,
            "min_height": null,
            "min_width": null,
            "object_fit": null,
            "object_position": null,
            "order": null,
            "overflow": null,
            "overflow_x": null,
            "overflow_y": null,
            "padding": null,
            "right": null,
            "top": null,
            "visibility": null,
            "width": null
          }
        },
        "49ec8f535ff349c7ba518b1097d27d9c": {
          "model_module": "@jupyter-widgets/controls",
          "model_name": "DescriptionStyleModel",
          "model_module_version": "1.5.0",
          "state": {
            "_model_module": "@jupyter-widgets/controls",
            "_model_module_version": "1.5.0",
            "_model_name": "DescriptionStyleModel",
            "_view_count": null,
            "_view_module": "@jupyter-widgets/base",
            "_view_module_version": "1.2.0",
            "_view_name": "StyleView",
            "description_width": ""
          }
        },
        "f1e9479a7eeb4ed7bea481e062e1f348": {
          "model_module": "@jupyter-widgets/controls",
          "model_name": "HBoxModel",
          "model_module_version": "1.5.0",
          "state": {
            "_dom_classes": [],
            "_model_module": "@jupyter-widgets/controls",
            "_model_module_version": "1.5.0",
            "_model_name": "HBoxModel",
            "_view_count": null,
            "_view_module": "@jupyter-widgets/controls",
            "_view_module_version": "1.5.0",
            "_view_name": "HBoxView",
            "box_style": "",
            "children": [
              "IPY_MODEL_09631f462aab42ab858bf988f26fd2b5",
              "IPY_MODEL_99c556633562454da093028106ac7acc",
              "IPY_MODEL_9e182331b1a94ddcbf48f3700b7fee08"
            ],
            "layout": "IPY_MODEL_29dbc36111c2426092ee7dda6f191891"
          }
        },
        "09631f462aab42ab858bf988f26fd2b5": {
          "model_module": "@jupyter-widgets/controls",
          "model_name": "HTMLModel",
          "model_module_version": "1.5.0",
          "state": {
            "_dom_classes": [],
            "_model_module": "@jupyter-widgets/controls",
            "_model_module_version": "1.5.0",
            "_model_name": "HTMLModel",
            "_view_count": null,
            "_view_module": "@jupyter-widgets/controls",
            "_view_module_version": "1.5.0",
            "_view_name": "HTMLView",
            "description": "",
            "description_tooltip": null,
            "layout": "IPY_MODEL_432d36f0d1474cfebf16520058711bc8",
            "placeholder": "​",
            "style": "IPY_MODEL_7b2b10fafe244ca39e20244458e34c0b",
            "value": "Downloading ISIC-2017_Validation_Data.zip: 100%"
          }
        },
        "99c556633562454da093028106ac7acc": {
          "model_module": "@jupyter-widgets/controls",
          "model_name": "FloatProgressModel",
          "model_module_version": "1.5.0",
          "state": {
            "_dom_classes": [],
            "_model_module": "@jupyter-widgets/controls",
            "_model_module_version": "1.5.0",
            "_model_name": "FloatProgressModel",
            "_view_count": null,
            "_view_module": "@jupyter-widgets/controls",
            "_view_module_version": "1.5.0",
            "_view_name": "ProgressView",
            "bar_style": "success",
            "description": "",
            "description_tooltip": null,
            "layout": "IPY_MODEL_5415beafa7274df09eaaebee66d81bd0",
            "max": 920895119,
            "min": 0,
            "orientation": "horizontal",
            "style": "IPY_MODEL_0bde2dcd636c49e88d3cca548e196e17",
            "value": 920895119
          }
        },
        "9e182331b1a94ddcbf48f3700b7fee08": {
          "model_module": "@jupyter-widgets/controls",
          "model_name": "HTMLModel",
          "model_module_version": "1.5.0",
          "state": {
            "_dom_classes": [],
            "_model_module": "@jupyter-widgets/controls",
            "_model_module_version": "1.5.0",
            "_model_name": "HTMLModel",
            "_view_count": null,
            "_view_module": "@jupyter-widgets/controls",
            "_view_module_version": "1.5.0",
            "_view_name": "HTMLView",
            "description": "",
            "description_tooltip": null,
            "layout": "IPY_MODEL_60bcba4eaa6148849054e5ba4e61174f",
            "placeholder": "​",
            "style": "IPY_MODEL_27e533353afd4a448801d8c1c97a7012",
            "value": " 878M/878M [00:28&lt;00:00, 59.6MB/s]"
          }
        },
        "29dbc36111c2426092ee7dda6f191891": {
          "model_module": "@jupyter-widgets/base",
          "model_name": "LayoutModel",
          "model_module_version": "1.2.0",
          "state": {
            "_model_module": "@jupyter-widgets/base",
            "_model_module_version": "1.2.0",
            "_model_name": "LayoutModel",
            "_view_count": null,
            "_view_module": "@jupyter-widgets/base",
            "_view_module_version": "1.2.0",
            "_view_name": "LayoutView",
            "align_content": null,
            "align_items": null,
            "align_self": null,
            "border": null,
            "bottom": null,
            "display": null,
            "flex": null,
            "flex_flow": null,
            "grid_area": null,
            "grid_auto_columns": null,
            "grid_auto_flow": null,
            "grid_auto_rows": null,
            "grid_column": null,
            "grid_gap": null,
            "grid_row": null,
            "grid_template_areas": null,
            "grid_template_columns": null,
            "grid_template_rows": null,
            "height": null,
            "justify_content": null,
            "justify_items": null,
            "left": null,
            "margin": null,
            "max_height": null,
            "max_width": null,
            "min_height": null,
            "min_width": null,
            "object_fit": null,
            "object_position": null,
            "order": null,
            "overflow": null,
            "overflow_x": null,
            "overflow_y": null,
            "padding": null,
            "right": null,
            "top": null,
            "visibility": null,
            "width": null
          }
        },
        "432d36f0d1474cfebf16520058711bc8": {
          "model_module": "@jupyter-widgets/base",
          "model_name": "LayoutModel",
          "model_module_version": "1.2.0",
          "state": {
            "_model_module": "@jupyter-widgets/base",
            "_model_module_version": "1.2.0",
            "_model_name": "LayoutModel",
            "_view_count": null,
            "_view_module": "@jupyter-widgets/base",
            "_view_module_version": "1.2.0",
            "_view_name": "LayoutView",
            "align_content": null,
            "align_items": null,
            "align_self": null,
            "border": null,
            "bottom": null,
            "display": null,
            "flex": null,
            "flex_flow": null,
            "grid_area": null,
            "grid_auto_columns": null,
            "grid_auto_flow": null,
            "grid_auto_rows": null,
            "grid_column": null,
            "grid_gap": null,
            "grid_row": null,
            "grid_template_areas": null,
            "grid_template_columns": null,
            "grid_template_rows": null,
            "height": null,
            "justify_content": null,
            "justify_items": null,
            "left": null,
            "margin": null,
            "max_height": null,
            "max_width": null,
            "min_height": null,
            "min_width": null,
            "object_fit": null,
            "object_position": null,
            "order": null,
            "overflow": null,
            "overflow_x": null,
            "overflow_y": null,
            "padding": null,
            "right": null,
            "top": null,
            "visibility": null,
            "width": null
          }
        },
        "7b2b10fafe244ca39e20244458e34c0b": {
          "model_module": "@jupyter-widgets/controls",
          "model_name": "DescriptionStyleModel",
          "model_module_version": "1.5.0",
          "state": {
            "_model_module": "@jupyter-widgets/controls",
            "_model_module_version": "1.5.0",
            "_model_name": "DescriptionStyleModel",
            "_view_count": null,
            "_view_module": "@jupyter-widgets/base",
            "_view_module_version": "1.2.0",
            "_view_name": "StyleView",
            "description_width": ""
          }
        },
        "5415beafa7274df09eaaebee66d81bd0": {
          "model_module": "@jupyter-widgets/base",
          "model_name": "LayoutModel",
          "model_module_version": "1.2.0",
          "state": {
            "_model_module": "@jupyter-widgets/base",
            "_model_module_version": "1.2.0",
            "_model_name": "LayoutModel",
            "_view_count": null,
            "_view_module": "@jupyter-widgets/base",
            "_view_module_version": "1.2.0",
            "_view_name": "LayoutView",
            "align_content": null,
            "align_items": null,
            "align_self": null,
            "border": null,
            "bottom": null,
            "display": null,
            "flex": null,
            "flex_flow": null,
            "grid_area": null,
            "grid_auto_columns": null,
            "grid_auto_flow": null,
            "grid_auto_rows": null,
            "grid_column": null,
            "grid_gap": null,
            "grid_row": null,
            "grid_template_areas": null,
            "grid_template_columns": null,
            "grid_template_rows": null,
            "height": null,
            "justify_content": null,
            "justify_items": null,
            "left": null,
            "margin": null,
            "max_height": null,
            "max_width": null,
            "min_height": null,
            "min_width": null,
            "object_fit": null,
            "object_position": null,
            "order": null,
            "overflow": null,
            "overflow_x": null,
            "overflow_y": null,
            "padding": null,
            "right": null,
            "top": null,
            "visibility": null,
            "width": null
          }
        },
        "0bde2dcd636c49e88d3cca548e196e17": {
          "model_module": "@jupyter-widgets/controls",
          "model_name": "ProgressStyleModel",
          "model_module_version": "1.5.0",
          "state": {
            "_model_module": "@jupyter-widgets/controls",
            "_model_module_version": "1.5.0",
            "_model_name": "ProgressStyleModel",
            "_view_count": null,
            "_view_module": "@jupyter-widgets/base",
            "_view_module_version": "1.2.0",
            "_view_name": "StyleView",
            "bar_color": null,
            "description_width": ""
          }
        },
        "60bcba4eaa6148849054e5ba4e61174f": {
          "model_module": "@jupyter-widgets/base",
          "model_name": "LayoutModel",
          "model_module_version": "1.2.0",
          "state": {
            "_model_module": "@jupyter-widgets/base",
            "_model_module_version": "1.2.0",
            "_model_name": "LayoutModel",
            "_view_count": null,
            "_view_module": "@jupyter-widgets/base",
            "_view_module_version": "1.2.0",
            "_view_name": "LayoutView",
            "align_content": null,
            "align_items": null,
            "align_self": null,
            "border": null,
            "bottom": null,
            "display": null,
            "flex": null,
            "flex_flow": null,
            "grid_area": null,
            "grid_auto_columns": null,
            "grid_auto_flow": null,
            "grid_auto_rows": null,
            "grid_column": null,
            "grid_gap": null,
            "grid_row": null,
            "grid_template_areas": null,
            "grid_template_columns": null,
            "grid_template_rows": null,
            "height": null,
            "justify_content": null,
            "justify_items": null,
            "left": null,
            "margin": null,
            "max_height": null,
            "max_width": null,
            "min_height": null,
            "min_width": null,
            "object_fit": null,
            "object_position": null,
            "order": null,
            "overflow": null,
            "overflow_x": null,
            "overflow_y": null,
            "padding": null,
            "right": null,
            "top": null,
            "visibility": null,
            "width": null
          }
        },
        "27e533353afd4a448801d8c1c97a7012": {
          "model_module": "@jupyter-widgets/controls",
          "model_name": "DescriptionStyleModel",
          "model_module_version": "1.5.0",
          "state": {
            "_model_module": "@jupyter-widgets/controls",
            "_model_module_version": "1.5.0",
            "_model_name": "DescriptionStyleModel",
            "_view_count": null,
            "_view_module": "@jupyter-widgets/base",
            "_view_module_version": "1.2.0",
            "_view_name": "StyleView",
            "description_width": ""
          }
        },
        "cb713e9334b0411f8f807ef4da336db8": {
          "model_module": "@jupyter-widgets/controls",
          "model_name": "HBoxModel",
          "model_module_version": "1.5.0",
          "state": {
            "_dom_classes": [],
            "_model_module": "@jupyter-widgets/controls",
            "_model_module_version": "1.5.0",
            "_model_name": "HBoxModel",
            "_view_count": null,
            "_view_module": "@jupyter-widgets/controls",
            "_view_module_version": "1.5.0",
            "_view_name": "HBoxView",
            "box_style": "",
            "children": [
              "IPY_MODEL_6aea51f140ec4eba9413134f02e7d2b1",
              "IPY_MODEL_44208c4de78441e69577d766d98aded8",
              "IPY_MODEL_d1637a49303140d7a4616df478411db3"
            ],
            "layout": "IPY_MODEL_19325b994ee64e05ace13d79cbcb2109"
          }
        },
        "6aea51f140ec4eba9413134f02e7d2b1": {
          "model_module": "@jupyter-widgets/controls",
          "model_name": "HTMLModel",
          "model_module_version": "1.5.0",
          "state": {
            "_dom_classes": [],
            "_model_module": "@jupyter-widgets/controls",
            "_model_module_version": "1.5.0",
            "_model_name": "HTMLModel",
            "_view_count": null,
            "_view_module": "@jupyter-widgets/controls",
            "_view_module_version": "1.5.0",
            "_view_name": "HTMLView",
            "description": "",
            "description_tooltip": null,
            "layout": "IPY_MODEL_4099d28adfee47299cfb25083ad7492e",
            "placeholder": "​",
            "style": "IPY_MODEL_4b1b9b9d5ca045ada18fc8d105cc562f",
            "value": "Downloading ISIC-2017_Training_Part1_GroundTruth.zip: 100%"
          }
        },
        "44208c4de78441e69577d766d98aded8": {
          "model_module": "@jupyter-widgets/controls",
          "model_name": "FloatProgressModel",
          "model_module_version": "1.5.0",
          "state": {
            "_dom_classes": [],
            "_model_module": "@jupyter-widgets/controls",
            "_model_module_version": "1.5.0",
            "_model_name": "FloatProgressModel",
            "_view_count": null,
            "_view_module": "@jupyter-widgets/controls",
            "_view_module_version": "1.5.0",
            "_view_name": "ProgressView",
            "bar_style": "success",
            "description": "",
            "description_tooltip": null,
            "layout": "IPY_MODEL_425e04f7a5a948f0a5fd03492d74959b",
            "max": 572320,
            "min": 0,
            "orientation": "horizontal",
            "style": "IPY_MODEL_ab25df3228ad44268e5cdda5660b2f24",
            "value": 572320
          }
        },
        "d1637a49303140d7a4616df478411db3": {
          "model_module": "@jupyter-widgets/controls",
          "model_name": "HTMLModel",
          "model_module_version": "1.5.0",
          "state": {
            "_dom_classes": [],
            "_model_module": "@jupyter-widgets/controls",
            "_model_module_version": "1.5.0",
            "_model_name": "HTMLModel",
            "_view_count": null,
            "_view_module": "@jupyter-widgets/controls",
            "_view_module_version": "1.5.0",
            "_view_name": "HTMLView",
            "description": "",
            "description_tooltip": null,
            "layout": "IPY_MODEL_3e4cdda76f4b44f5bebc3eecf9fecf7e",
            "placeholder": "​",
            "style": "IPY_MODEL_2e0351f5fb8c471090aafbfa07747791",
            "value": " 559k/559k [00:00&lt;00:00, 1.72MB/s]"
          }
        },
        "19325b994ee64e05ace13d79cbcb2109": {
          "model_module": "@jupyter-widgets/base",
          "model_name": "LayoutModel",
          "model_module_version": "1.2.0",
          "state": {
            "_model_module": "@jupyter-widgets/base",
            "_model_module_version": "1.2.0",
            "_model_name": "LayoutModel",
            "_view_count": null,
            "_view_module": "@jupyter-widgets/base",
            "_view_module_version": "1.2.0",
            "_view_name": "LayoutView",
            "align_content": null,
            "align_items": null,
            "align_self": null,
            "border": null,
            "bottom": null,
            "display": null,
            "flex": null,
            "flex_flow": null,
            "grid_area": null,
            "grid_auto_columns": null,
            "grid_auto_flow": null,
            "grid_auto_rows": null,
            "grid_column": null,
            "grid_gap": null,
            "grid_row": null,
            "grid_template_areas": null,
            "grid_template_columns": null,
            "grid_template_rows": null,
            "height": null,
            "justify_content": null,
            "justify_items": null,
            "left": null,
            "margin": null,
            "max_height": null,
            "max_width": null,
            "min_height": null,
            "min_width": null,
            "object_fit": null,
            "object_position": null,
            "order": null,
            "overflow": null,
            "overflow_x": null,
            "overflow_y": null,
            "padding": null,
            "right": null,
            "top": null,
            "visibility": null,
            "width": null
          }
        },
        "4099d28adfee47299cfb25083ad7492e": {
          "model_module": "@jupyter-widgets/base",
          "model_name": "LayoutModel",
          "model_module_version": "1.2.0",
          "state": {
            "_model_module": "@jupyter-widgets/base",
            "_model_module_version": "1.2.0",
            "_model_name": "LayoutModel",
            "_view_count": null,
            "_view_module": "@jupyter-widgets/base",
            "_view_module_version": "1.2.0",
            "_view_name": "LayoutView",
            "align_content": null,
            "align_items": null,
            "align_self": null,
            "border": null,
            "bottom": null,
            "display": null,
            "flex": null,
            "flex_flow": null,
            "grid_area": null,
            "grid_auto_columns": null,
            "grid_auto_flow": null,
            "grid_auto_rows": null,
            "grid_column": null,
            "grid_gap": null,
            "grid_row": null,
            "grid_template_areas": null,
            "grid_template_columns": null,
            "grid_template_rows": null,
            "height": null,
            "justify_content": null,
            "justify_items": null,
            "left": null,
            "margin": null,
            "max_height": null,
            "max_width": null,
            "min_height": null,
            "min_width": null,
            "object_fit": null,
            "object_position": null,
            "order": null,
            "overflow": null,
            "overflow_x": null,
            "overflow_y": null,
            "padding": null,
            "right": null,
            "top": null,
            "visibility": null,
            "width": null
          }
        },
        "4b1b9b9d5ca045ada18fc8d105cc562f": {
          "model_module": "@jupyter-widgets/controls",
          "model_name": "DescriptionStyleModel",
          "model_module_version": "1.5.0",
          "state": {
            "_model_module": "@jupyter-widgets/controls",
            "_model_module_version": "1.5.0",
            "_model_name": "DescriptionStyleModel",
            "_view_count": null,
            "_view_module": "@jupyter-widgets/base",
            "_view_module_version": "1.2.0",
            "_view_name": "StyleView",
            "description_width": ""
          }
        },
        "425e04f7a5a948f0a5fd03492d74959b": {
          "model_module": "@jupyter-widgets/base",
          "model_name": "LayoutModel",
          "model_module_version": "1.2.0",
          "state": {
            "_model_module": "@jupyter-widgets/base",
            "_model_module_version": "1.2.0",
            "_model_name": "LayoutModel",
            "_view_count": null,
            "_view_module": "@jupyter-widgets/base",
            "_view_module_version": "1.2.0",
            "_view_name": "LayoutView",
            "align_content": null,
            "align_items": null,
            "align_self": null,
            "border": null,
            "bottom": null,
            "display": null,
            "flex": null,
            "flex_flow": null,
            "grid_area": null,
            "grid_auto_columns": null,
            "grid_auto_flow": null,
            "grid_auto_rows": null,
            "grid_column": null,
            "grid_gap": null,
            "grid_row": null,
            "grid_template_areas": null,
            "grid_template_columns": null,
            "grid_template_rows": null,
            "height": null,
            "justify_content": null,
            "justify_items": null,
            "left": null,
            "margin": null,
            "max_height": null,
            "max_width": null,
            "min_height": null,
            "min_width": null,
            "object_fit": null,
            "object_position": null,
            "order": null,
            "overflow": null,
            "overflow_x": null,
            "overflow_y": null,
            "padding": null,
            "right": null,
            "top": null,
            "visibility": null,
            "width": null
          }
        },
        "ab25df3228ad44268e5cdda5660b2f24": {
          "model_module": "@jupyter-widgets/controls",
          "model_name": "ProgressStyleModel",
          "model_module_version": "1.5.0",
          "state": {
            "_model_module": "@jupyter-widgets/controls",
            "_model_module_version": "1.5.0",
            "_model_name": "ProgressStyleModel",
            "_view_count": null,
            "_view_module": "@jupyter-widgets/base",
            "_view_module_version": "1.2.0",
            "_view_name": "StyleView",
            "bar_color": null,
            "description_width": ""
          }
        },
        "3e4cdda76f4b44f5bebc3eecf9fecf7e": {
          "model_module": "@jupyter-widgets/base",
          "model_name": "LayoutModel",
          "model_module_version": "1.2.0",
          "state": {
            "_model_module": "@jupyter-widgets/base",
            "_model_module_version": "1.2.0",
            "_model_name": "LayoutModel",
            "_view_count": null,
            "_view_module": "@jupyter-widgets/base",
            "_view_module_version": "1.2.0",
            "_view_name": "LayoutView",
            "align_content": null,
            "align_items": null,
            "align_self": null,
            "border": null,
            "bottom": null,
            "display": null,
            "flex": null,
            "flex_flow": null,
            "grid_area": null,
            "grid_auto_columns": null,
            "grid_auto_flow": null,
            "grid_auto_rows": null,
            "grid_column": null,
            "grid_gap": null,
            "grid_row": null,
            "grid_template_areas": null,
            "grid_template_columns": null,
            "grid_template_rows": null,
            "height": null,
            "justify_content": null,
            "justify_items": null,
            "left": null,
            "margin": null,
            "max_height": null,
            "max_width": null,
            "min_height": null,
            "min_width": null,
            "object_fit": null,
            "object_position": null,
            "order": null,
            "overflow": null,
            "overflow_x": null,
            "overflow_y": null,
            "padding": null,
            "right": null,
            "top": null,
            "visibility": null,
            "width": null
          }
        },
        "2e0351f5fb8c471090aafbfa07747791": {
          "model_module": "@jupyter-widgets/controls",
          "model_name": "DescriptionStyleModel",
          "model_module_version": "1.5.0",
          "state": {
            "_model_module": "@jupyter-widgets/controls",
            "_model_module_version": "1.5.0",
            "_model_name": "DescriptionStyleModel",
            "_view_count": null,
            "_view_module": "@jupyter-widgets/base",
            "_view_module_version": "1.2.0",
            "_view_name": "StyleView",
            "description_width": ""
          }
        },
        "a1f7b037106f4cd894797c281a7a67c3": {
          "model_module": "@jupyter-widgets/controls",
          "model_name": "HBoxModel",
          "model_module_version": "1.5.0",
          "state": {
            "_dom_classes": [],
            "_model_module": "@jupyter-widgets/controls",
            "_model_module_version": "1.5.0",
            "_model_name": "HBoxModel",
            "_view_count": null,
            "_view_module": "@jupyter-widgets/controls",
            "_view_module_version": "1.5.0",
            "_view_name": "HBoxView",
            "box_style": "",
            "children": [
              "IPY_MODEL_0b27c0a6f41d479a8929cd880c4e5283",
              "IPY_MODEL_3adc53c2ad144dd88c2511213c2e1304",
              "IPY_MODEL_aa2ef4da2dd148ddb57f6a0b0813f843"
            ],
            "layout": "IPY_MODEL_d8a4f33518a54f999aa0fe0b8fd8836e"
          }
        },
        "0b27c0a6f41d479a8929cd880c4e5283": {
          "model_module": "@jupyter-widgets/controls",
          "model_name": "HTMLModel",
          "model_module_version": "1.5.0",
          "state": {
            "_dom_classes": [],
            "_model_module": "@jupyter-widgets/controls",
            "_model_module_version": "1.5.0",
            "_model_name": "HTMLModel",
            "_view_count": null,
            "_view_module": "@jupyter-widgets/controls",
            "_view_module_version": "1.5.0",
            "_view_name": "HTMLView",
            "description": "",
            "description_tooltip": null,
            "layout": "IPY_MODEL_99c9d8d12b684c1aba639626fd48c056",
            "placeholder": "​",
            "style": "IPY_MODEL_2ea628b7bbe7452c8e12245e08f9fde8",
            "value": "  0%"
          }
        },
        "3adc53c2ad144dd88c2511213c2e1304": {
          "model_module": "@jupyter-widgets/controls",
          "model_name": "FloatProgressModel",
          "model_module_version": "1.5.0",
          "state": {
            "_dom_classes": [],
            "_model_module": "@jupyter-widgets/controls",
            "_model_module_version": "1.5.0",
            "_model_name": "FloatProgressModel",
            "_view_count": null,
            "_view_module": "@jupyter-widgets/controls",
            "_view_module_version": "1.5.0",
            "_view_name": "ProgressView",
            "bar_style": "",
            "description": "",
            "description_tooltip": null,
            "layout": "IPY_MODEL_0bc8c9791086402aad5b1ee84a3d8c4c",
            "max": 2,
            "min": 0,
            "orientation": "horizontal",
            "style": "IPY_MODEL_f9b9f38e42d849cd8cb9cda4e7502bd7",
            "value": 0
          }
        },
        "aa2ef4da2dd148ddb57f6a0b0813f843": {
          "model_module": "@jupyter-widgets/controls",
          "model_name": "HTMLModel",
          "model_module_version": "1.5.0",
          "state": {
            "_dom_classes": [],
            "_model_module": "@jupyter-widgets/controls",
            "_model_module_version": "1.5.0",
            "_model_name": "HTMLModel",
            "_view_count": null,
            "_view_module": "@jupyter-widgets/controls",
            "_view_module_version": "1.5.0",
            "_view_name": "HTMLView",
            "description": "",
            "description_tooltip": null,
            "layout": "IPY_MODEL_a55637dbc65742c6844b668eb7b174ae",
            "placeholder": "​",
            "style": "IPY_MODEL_ee829598969a4b3891f2b94dd5d9f748",
            "value": " 0/2 [00:00&lt;?, ?it/s]"
          }
        },
        "d8a4f33518a54f999aa0fe0b8fd8836e": {
          "model_module": "@jupyter-widgets/base",
          "model_name": "LayoutModel",
          "model_module_version": "1.2.0",
          "state": {
            "_model_module": "@jupyter-widgets/base",
            "_model_module_version": "1.2.0",
            "_model_name": "LayoutModel",
            "_view_count": null,
            "_view_module": "@jupyter-widgets/base",
            "_view_module_version": "1.2.0",
            "_view_name": "LayoutView",
            "align_content": null,
            "align_items": null,
            "align_self": null,
            "border": null,
            "bottom": null,
            "display": null,
            "flex": null,
            "flex_flow": null,
            "grid_area": null,
            "grid_auto_columns": null,
            "grid_auto_flow": null,
            "grid_auto_rows": null,
            "grid_column": null,
            "grid_gap": null,
            "grid_row": null,
            "grid_template_areas": null,
            "grid_template_columns": null,
            "grid_template_rows": null,
            "height": null,
            "justify_content": null,
            "justify_items": null,
            "left": null,
            "margin": null,
            "max_height": null,
            "max_width": null,
            "min_height": null,
            "min_width": null,
            "object_fit": null,
            "object_position": null,
            "order": null,
            "overflow": null,
            "overflow_x": null,
            "overflow_y": null,
            "padding": null,
            "right": null,
            "top": null,
            "visibility": null,
            "width": null
          }
        },
        "99c9d8d12b684c1aba639626fd48c056": {
          "model_module": "@jupyter-widgets/base",
          "model_name": "LayoutModel",
          "model_module_version": "1.2.0",
          "state": {
            "_model_module": "@jupyter-widgets/base",
            "_model_module_version": "1.2.0",
            "_model_name": "LayoutModel",
            "_view_count": null,
            "_view_module": "@jupyter-widgets/base",
            "_view_module_version": "1.2.0",
            "_view_name": "LayoutView",
            "align_content": null,
            "align_items": null,
            "align_self": null,
            "border": null,
            "bottom": null,
            "display": null,
            "flex": null,
            "flex_flow": null,
            "grid_area": null,
            "grid_auto_columns": null,
            "grid_auto_flow": null,
            "grid_auto_rows": null,
            "grid_column": null,
            "grid_gap": null,
            "grid_row": null,
            "grid_template_areas": null,
            "grid_template_columns": null,
            "grid_template_rows": null,
            "height": null,
            "justify_content": null,
            "justify_items": null,
            "left": null,
            "margin": null,
            "max_height": null,
            "max_width": null,
            "min_height": null,
            "min_width": null,
            "object_fit": null,
            "object_position": null,
            "order": null,
            "overflow": null,
            "overflow_x": null,
            "overflow_y": null,
            "padding": null,
            "right": null,
            "top": null,
            "visibility": null,
            "width": null
          }
        },
        "2ea628b7bbe7452c8e12245e08f9fde8": {
          "model_module": "@jupyter-widgets/controls",
          "model_name": "DescriptionStyleModel",
          "model_module_version": "1.5.0",
          "state": {
            "_model_module": "@jupyter-widgets/controls",
            "_model_module_version": "1.5.0",
            "_model_name": "DescriptionStyleModel",
            "_view_count": null,
            "_view_module": "@jupyter-widgets/base",
            "_view_module_version": "1.2.0",
            "_view_name": "StyleView",
            "description_width": ""
          }
        },
        "0bc8c9791086402aad5b1ee84a3d8c4c": {
          "model_module": "@jupyter-widgets/base",
          "model_name": "LayoutModel",
          "model_module_version": "1.2.0",
          "state": {
            "_model_module": "@jupyter-widgets/base",
            "_model_module_version": "1.2.0",
            "_model_name": "LayoutModel",
            "_view_count": null,
            "_view_module": "@jupyter-widgets/base",
            "_view_module_version": "1.2.0",
            "_view_name": "LayoutView",
            "align_content": null,
            "align_items": null,
            "align_self": null,
            "border": null,
            "bottom": null,
            "display": null,
            "flex": null,
            "flex_flow": null,
            "grid_area": null,
            "grid_auto_columns": null,
            "grid_auto_flow": null,
            "grid_auto_rows": null,
            "grid_column": null,
            "grid_gap": null,
            "grid_row": null,
            "grid_template_areas": null,
            "grid_template_columns": null,
            "grid_template_rows": null,
            "height": null,
            "justify_content": null,
            "justify_items": null,
            "left": null,
            "margin": null,
            "max_height": null,
            "max_width": null,
            "min_height": null,
            "min_width": null,
            "object_fit": null,
            "object_position": null,
            "order": null,
            "overflow": null,
            "overflow_x": null,
            "overflow_y": null,
            "padding": null,
            "right": null,
            "top": null,
            "visibility": null,
            "width": null
          }
        },
        "f9b9f38e42d849cd8cb9cda4e7502bd7": {
          "model_module": "@jupyter-widgets/controls",
          "model_name": "ProgressStyleModel",
          "model_module_version": "1.5.0",
          "state": {
            "_model_module": "@jupyter-widgets/controls",
            "_model_module_version": "1.5.0",
            "_model_name": "ProgressStyleModel",
            "_view_count": null,
            "_view_module": "@jupyter-widgets/base",
            "_view_module_version": "1.2.0",
            "_view_name": "StyleView",
            "bar_color": null,
            "description_width": ""
          }
        },
        "a55637dbc65742c6844b668eb7b174ae": {
          "model_module": "@jupyter-widgets/base",
          "model_name": "LayoutModel",
          "model_module_version": "1.2.0",
          "state": {
            "_model_module": "@jupyter-widgets/base",
            "_model_module_version": "1.2.0",
            "_model_name": "LayoutModel",
            "_view_count": null,
            "_view_module": "@jupyter-widgets/base",
            "_view_module_version": "1.2.0",
            "_view_name": "LayoutView",
            "align_content": null,
            "align_items": null,
            "align_self": null,
            "border": null,
            "bottom": null,
            "display": null,
            "flex": null,
            "flex_flow": null,
            "grid_area": null,
            "grid_auto_columns": null,
            "grid_auto_flow": null,
            "grid_auto_rows": null,
            "grid_column": null,
            "grid_gap": null,
            "grid_row": null,
            "grid_template_areas": null,
            "grid_template_columns": null,
            "grid_template_rows": null,
            "height": null,
            "justify_content": null,
            "justify_items": null,
            "left": null,
            "margin": null,
            "max_height": null,
            "max_width": null,
            "min_height": null,
            "min_width": null,
            "object_fit": null,
            "object_position": null,
            "order": null,
            "overflow": null,
            "overflow_x": null,
            "overflow_y": null,
            "padding": null,
            "right": null,
            "top": null,
            "visibility": null,
            "width": null
          }
        },
        "ee829598969a4b3891f2b94dd5d9f748": {
          "model_module": "@jupyter-widgets/controls",
          "model_name": "DescriptionStyleModel",
          "model_module_version": "1.5.0",
          "state": {
            "_model_module": "@jupyter-widgets/controls",
            "_model_module_version": "1.5.0",
            "_model_name": "DescriptionStyleModel",
            "_view_count": null,
            "_view_module": "@jupyter-widgets/base",
            "_view_module_version": "1.2.0",
            "_view_name": "StyleView",
            "description_width": ""
          }
        }
      }
    }
  },
  "nbformat": 4,
  "nbformat_minor": 0
}