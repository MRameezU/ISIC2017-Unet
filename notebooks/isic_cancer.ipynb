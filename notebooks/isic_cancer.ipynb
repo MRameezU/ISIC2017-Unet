{
  "cells": [
    {
      "cell_type": "markdown",
      "metadata": {
        "id": "view-in-github",
        "colab_type": "text"
      },
      "source": [
        "<a href=\"https://colab.research.google.com/github/MRameezU/ISIC2017-Unet/blob/main/notebooks/isic_cancer.ipynb\" target=\"_parent\"><img src=\"https://colab.research.google.com/assets/colab-badge.svg\" alt=\"Open In Colab\"/></a>"
      ]
    },
    {
      "cell_type": "code",
      "execution_count": 1,
      "metadata": {
        "colab": {
          "base_uri": "https://localhost:8080/"
        },
        "id": "5q621Tar8oaF",
        "outputId": "11c1187f-bebb-438b-e6d3-b778b9c8eb62"
      },
      "outputs": [
        {
          "output_type": "stream",
          "name": "stdout",
          "text": [
            "/bin/bash: line 1: nvidia-smi: command not found\n"
          ]
        }
      ],
      "source": [
        "!nvidia-smi"
      ]
    },
    {
      "cell_type": "markdown",
      "metadata": {
        "id": "cqpposRHAZ2v"
      },
      "source": [
        "## 0- Get Setup"
      ]
    },
    {
      "cell_type": "code",
      "execution_count": 2,
      "metadata": {
        "colab": {
          "base_uri": "https://localhost:8080/"
        },
        "id": "3QrZrTI0AYos",
        "outputId": "4c272ae5-91c2-4825-9f8b-3b5f6d02eb6a"
      },
      "outputs": [
        {
          "output_type": "stream",
          "name": "stdout",
          "text": [
            "Requirement already satisfied: torch in /usr/local/lib/python3.10/dist-packages (2.5.1+cu121)\n",
            "Requirement already satisfied: filelock in /usr/local/lib/python3.10/dist-packages (from torch) (3.16.1)\n",
            "Requirement already satisfied: typing-extensions>=4.8.0 in /usr/local/lib/python3.10/dist-packages (from torch) (4.12.2)\n",
            "Requirement already satisfied: networkx in /usr/local/lib/python3.10/dist-packages (from torch) (3.4.2)\n",
            "Requirement already satisfied: jinja2 in /usr/local/lib/python3.10/dist-packages (from torch) (3.1.4)\n",
            "Requirement already satisfied: fsspec in /usr/local/lib/python3.10/dist-packages (from torch) (2024.10.0)\n",
            "Requirement already satisfied: sympy==1.13.1 in /usr/local/lib/python3.10/dist-packages (from torch) (1.13.1)\n",
            "Requirement already satisfied: mpmath<1.4,>=1.1.0 in /usr/local/lib/python3.10/dist-packages (from sympy==1.13.1->torch) (1.3.0)\n",
            "Requirement already satisfied: MarkupSafe>=2.0 in /usr/local/lib/python3.10/dist-packages (from jinja2->torch) (3.0.2)\n",
            "Requirement already satisfied: torchvision in /usr/local/lib/python3.10/dist-packages (0.20.1+cu121)\n",
            "Requirement already satisfied: numpy in /usr/local/lib/python3.10/dist-packages (from torchvision) (1.26.4)\n",
            "Requirement already satisfied: torch==2.5.1 in /usr/local/lib/python3.10/dist-packages (from torchvision) (2.5.1+cu121)\n",
            "Requirement already satisfied: pillow!=8.3.*,>=5.3.0 in /usr/local/lib/python3.10/dist-packages (from torchvision) (11.0.0)\n",
            "Requirement already satisfied: filelock in /usr/local/lib/python3.10/dist-packages (from torch==2.5.1->torchvision) (3.16.1)\n",
            "Requirement already satisfied: typing-extensions>=4.8.0 in /usr/local/lib/python3.10/dist-packages (from torch==2.5.1->torchvision) (4.12.2)\n",
            "Requirement already satisfied: networkx in /usr/local/lib/python3.10/dist-packages (from torch==2.5.1->torchvision) (3.4.2)\n",
            "Requirement already satisfied: jinja2 in /usr/local/lib/python3.10/dist-packages (from torch==2.5.1->torchvision) (3.1.4)\n",
            "Requirement already satisfied: fsspec in /usr/local/lib/python3.10/dist-packages (from torch==2.5.1->torchvision) (2024.10.0)\n",
            "Requirement already satisfied: sympy==1.13.1 in /usr/local/lib/python3.10/dist-packages (from torch==2.5.1->torchvision) (1.13.1)\n",
            "Requirement already satisfied: mpmath<1.4,>=1.1.0 in /usr/local/lib/python3.10/dist-packages (from sympy==1.13.1->torch==2.5.1->torchvision) (1.3.0)\n",
            "Requirement already satisfied: MarkupSafe>=2.0 in /usr/local/lib/python3.10/dist-packages (from jinja2->torch==2.5.1->torchvision) (3.0.2)\n",
            "torch version: 2.5.1+cu121\n",
            "torchvision version: 0.20.1+cu121\n"
          ]
        }
      ],
      "source": [
        "!pip install --upgrade torch\n",
        "!pip install --upgrade torchvision\n",
        "\n",
        "import torch\n",
        "import torchvision\n",
        "print(f\"torch version: {torch.__version__}\")\n",
        "print(f\"torchvision version: {torchvision.__version__}\")"
      ]
    },
    {
      "cell_type": "markdown",
      "metadata": {
        "id": "mKyWSzwRA870"
      },
      "source": [
        "device agnostic code"
      ]
    },
    {
      "cell_type": "code",
      "execution_count": 3,
      "metadata": {
        "id": "hlW2JJNeA_3C",
        "colab": {
          "base_uri": "https://localhost:8080/",
          "height": 35
        },
        "outputId": "b92b37f5-b91a-4014-d778-29e6a095019b"
      },
      "outputs": [
        {
          "output_type": "execute_result",
          "data": {
            "text/plain": [
              "'cpu'"
            ],
            "application/vnd.google.colaboratory.intrinsic+json": {
              "type": "string"
            }
          },
          "metadata": {},
          "execution_count": 3
        }
      ],
      "source": [
        "device= \"cuda\" if torch.cuda.is_available() else \"cpu\"\n",
        "device"
      ]
    },
    {
      "cell_type": "markdown",
      "metadata": {
        "id": "NAC6C5n8BNL9"
      },
      "source": [
        "## 1 - Gettting Data"
      ]
    },
    {
      "cell_type": "code",
      "execution_count": 4,
      "metadata": {
        "id": "DrgctOIJGAYu"
      },
      "outputs": [],
      "source": [
        "import requests\n",
        "import zipfile\n",
        "from pathlib import Path\n",
        "from tqdm.notebook import tqdm\n",
        "\n",
        "# path to data folder\n",
        "data_path = Path(\"data/\")\n",
        "train_data_path = data_path / \"train\"\n",
        "binary_mask_data_path = data_path / \"binary\"\n",
        "train_zip_url = \"https://isic-challenge-data.s3.amazonaws.com/2017/ISIC-2017_Training_Data.zip\"\n",
        "train_zip_file = data_path / \"ISIC-2017_Training_Data.zip\"\n",
        "# binary mask\n",
        "train_binary_zip_url = \"https://isic-challenge-data.s3.amazonaws.com/2017/ISIC-2017_Training_Part1_GroundTruth.zip\"\n",
        "train_binary_zip_file = data_path / \"ISIC-2017_Training_Part1_GroundTruth.zip\"\n",
        "\n",
        "def download_file(url, dest_path):\n",
        "    \"\"\"Downloads a file from a URL to a destination path with progress bar.\"\"\"\n",
        "    response = requests.get(url, stream=True)\n",
        "    response.raise_for_status()  # Raise an error for bad responses\n",
        "    total_size = int(response.headers.get('content-length', 0))\n",
        "    with open(dest_path, \"wb\") as file, tqdm(\n",
        "        desc=f\"Downloading {dest_path.name}\",\n",
        "        total=total_size,\n",
        "        unit=\"B\",\n",
        "        unit_scale=True,\n",
        "        unit_divisor=1024,\n",
        "    ) as bar:\n",
        "        for chunk in response.iter_content(chunk_size=1024):\n",
        "            file.write(chunk)\n",
        "            bar.update(len(chunk))\n",
        "    print(f\"Download Complete: {dest_path}\")\n",
        "\n",
        "def extract_zip(file_path, extract_to):\n",
        "    \"\"\"Extracts a zip file to the specified directory.\"\"\"\n",
        "    with zipfile.ZipFile(file_path, mode=\"r\") as zip_file:\n",
        "        print(f\"Extracting {file_path.name} to {extract_to}\")\n",
        "        zip_file.extractall(extract_to)\n",
        "    print(f\"Extraction Complete: {extract_to}\")\n"
      ]
    },
    {
      "cell_type": "code",
      "execution_count": 5,
      "metadata": {
        "colab": {
          "base_uri": "https://localhost:8080/",
          "height": 237,
          "referenced_widgets": [
            "253e34823de64d28bfe160948e26749f",
            "47a0f3df6c0d41b28603d0991407bd28",
            "a8de086ed4044ca391a7256ec15f2130",
            "1f6eda25bd3241dc8ad8cff8cc82556e",
            "f1ba67ac95114b6aafb820a1ca0c7bac",
            "d06b32c4c63349c79c8b2c9dc6bb6a61",
            "f29b5c1bca3e4db2978fc5132dfa363d",
            "0405f41142b24217acc839e1dda66b0b",
            "7ff0dbfa73d3496b8682b9d4f65b0841",
            "806eb741a8ad4a66b77376cb6c512817",
            "1db98b303e4f40af87bcc337d2dfc44c",
            "9ae862ba44b0410e96a4d5d89e760dd1",
            "530e06571e954751896b36ba46d5f09f",
            "599e148983ab499db49c66b733549901",
            "af314c72cbae4dff932217a01307b4a9",
            "594551c7b095431896dfd09dc9cbeb7e",
            "cefd43b880da407d90101cf0db7c9553",
            "ad2c16731e2447e98b8a48c58f7144c0",
            "3bf23c34d52a48c7bab0337bc0f0d39f",
            "7797dcd9fab84382ab112a6028eeef28",
            "84fb9ab682d24b1e922169f7661fe19d",
            "aa1c25fe2b9643f0ab4340d82d8659b0"
          ]
        },
        "id": "wKpRiks2GAYv",
        "outputId": "816a3c57-743c-4dab-9c0b-906577ec5a4a"
      },
      "outputs": [
        {
          "output_type": "stream",
          "name": "stdout",
          "text": [
            "Preparing data directories at data\n",
            "Downloading Training Data from: https://isic-challenge-data.s3.amazonaws.com/2017/ISIC-2017_Training_Data.zip\n"
          ]
        },
        {
          "output_type": "display_data",
          "data": {
            "text/plain": [
              "Downloading ISIC-2017_Training_Data.zip:   0%|          | 0.00/5.80G [00:00<?, ?B/s]"
            ],
            "application/vnd.jupyter.widget-view+json": {
              "version_major": 2,
              "version_minor": 0,
              "model_id": "253e34823de64d28bfe160948e26749f"
            }
          },
          "metadata": {}
        },
        {
          "output_type": "stream",
          "name": "stdout",
          "text": [
            "Download Complete: data/ISIC-2017_Training_Data.zip\n",
            "Extracting ISIC-2017_Training_Data.zip to data/train\n",
            "Extraction Complete: data/train\n",
            "Downloading Binary Mask Data from: https://isic-challenge-data.s3.amazonaws.com/2017/ISIC-2017_Training_Part1_GroundTruth.zip\n"
          ]
        },
        {
          "output_type": "display_data",
          "data": {
            "text/plain": [
              "Downloading ISIC-2017_Training_Part1_GroundTruth.zip:   0%|          | 0.00/8.89M [00:00<?, ?B/s]"
            ],
            "application/vnd.jupyter.widget-view+json": {
              "version_major": 2,
              "version_minor": 0,
              "model_id": "9ae862ba44b0410e96a4d5d89e760dd1"
            }
          },
          "metadata": {}
        },
        {
          "output_type": "stream",
          "name": "stdout",
          "text": [
            "Download Complete: data/ISIC-2017_Training_Part1_GroundTruth.zip\n",
            "Extracting ISIC-2017_Training_Part1_GroundTruth.zip to data/binary\n",
            "Extraction Complete: data/binary\n"
          ]
        }
      ],
      "source": [
        "# Main script\n",
        "if train_data_path.is_dir() and binary_mask_data_path.is_dir():\n",
        "    print(f\"{train_data_path} and {binary_mask_data_path} directories already exist.\")\n",
        "else:\n",
        "    print(f\"Preparing data directories at {data_path}\")\n",
        "    train_data_path.mkdir(parents=True, exist_ok=True)\n",
        "\n",
        "    # Download training data\n",
        "    print(f\"Downloading Training Data from: {train_zip_url}\")\n",
        "    download_file(train_zip_url, train_zip_file)\n",
        "\n",
        "    # Extract the zip file\n",
        "    extract_zip(train_zip_file, train_data_path)\n",
        "\n",
        "    binary_mask_data_path.mkdir(parents=True,exist_ok=True)\n",
        "    # Download training data\n",
        "    print(f\"Downloading Binary Mask Data from: {train_binary_zip_url}\")\n",
        "    download_file(train_binary_zip_url, train_binary_zip_file)\n",
        "\n",
        "    # Extract the zip file\n",
        "    extract_zip(train_binary_zip_file, binary_mask_data_path)"
      ]
    },
    {
      "cell_type": "markdown",
      "metadata": {
        "id": "SpbR4FGDGAYw"
      },
      "source": [
        "the data contain the Images and their respective Superpixel mask and we have to download Binary mask seperately"
      ]
    },
    {
      "cell_type": "markdown",
      "metadata": {
        "id": "QVCs8M53GQY5"
      },
      "source": [
        "## 1.1 Seperating the Inputs and Ouputs\n",
        "our train data folder contain both Training Images and SuperPixel mask therfore seperating them into different folders"
      ]
    },
    {
      "cell_type": "code",
      "execution_count": 6,
      "metadata": {
        "colab": {
          "base_uri": "https://localhost:8080/"
        },
        "id": "iABOH3KcGmu0",
        "outputId": "292420cf-0c99-4635-acf9-f0929cebb347"
      },
      "outputs": [
        {
          "output_type": "stream",
          "name": "stdout",
          "text": [
            "Files have been organized. Images moved to ISIC-2017_Data/Images, masks to ISIC-2017_Data/Superpixel.\n"
          ]
        }
      ],
      "source": [
        "import os\n",
        "from pathlib import Path\n",
        "import shutil\n",
        "\n",
        "\n",
        "def organize_files(dataset_folder, image_output_folder, superpixel_output_folder):\n",
        "    \"\"\"\n",
        "    Organize files by separating images and superpixel masks into different folders.\n",
        "\n",
        "    Args:\n",
        "        dataset_folder (str or Path): Path to the folder containing both images and masks.\n",
        "        image_output_folder (str or Path): Path to the folder where images will be moved.\n",
        "        superpixel_output_folder (str or Path): Path to the folder where superpixel masks will be moved.\n",
        "    \"\"\"\n",
        "    # Convert paths to Path objects\n",
        "    dataset_folder = Path(dataset_folder)\n",
        "    image_output_folder = Path(image_output_folder)\n",
        "    superpixel_output_folder = Path(superpixel_output_folder)\n",
        "\n",
        "    # Create output folders if they don't exist\n",
        "    image_output_folder.mkdir(parents=True, exist_ok=True)\n",
        "    superpixel_output_folder.mkdir(parents=True, exist_ok=True)\n",
        "\n",
        "    # Iterate through all files in the dataset folder\n",
        "    for file in dataset_folder.iterdir():\n",
        "        if file.is_file():\n",
        "            if file.name.endswith(\".jpg\"):\n",
        "                # Move image file\n",
        "                shutil.move(str(file), str(image_output_folder / file.name))\n",
        "            elif file.name.endswith(\"_superpixels.png\"):\n",
        "                # Move superpixel mask file\n",
        "                shutil.move(str(file), str(superpixel_output_folder / file.name))\n",
        "\n",
        "    print(f\"Files have been organized. Images moved to {image_output_folder}, masks to {superpixel_output_folder}.\")\n",
        "\n",
        "if __name__ == \"__main__\":\n",
        "    dataset_folder=train_data_path / \"ISIC-2017_Training_Data\"   #\"data/train/ISIC-2017_Training_Data\"\n",
        "    image_output_folder=\"ISIC-2017_Data/Images\"\n",
        "    superpixel_output_folder=\"ISIC-2017_Data/Superpixel\"\n",
        "\n",
        "    organize_files(dataset_folder=dataset_folder,\n",
        "                   image_output_folder=image_output_folder,\n",
        "                   superpixel_output_folder=superpixel_output_folder)\n"
      ]
    },
    {
      "cell_type": "markdown",
      "metadata": {
        "id": "jZe4lYgoIjTb"
      },
      "source": [
        "Moving Binary masks"
      ]
    },
    {
      "cell_type": "code",
      "execution_count": 7,
      "metadata": {
        "id": "DFV5Y5mxKZD6"
      },
      "outputs": [],
      "source": [
        "import shutil\n",
        "# moving file to a consolidated location\n",
        "source_dir = binary_mask_data_path / \"ISIC-2017_Training_Part1_GroundTruth\" #Path(\"data/train/ISIC-2017_Training_Part1_GroundTruth\")\n",
        "destination_dir = Path(\"ISIC-2017_Data/Binary\")\n",
        "# Create the destination directory if it doesn't exist\n",
        "destination_dir.mkdir(parents=True, exist_ok=True)\n",
        "for file in source_dir.iterdir():\n",
        "  if file.is_file():\n",
        "    shutil.move(str(file),str(destination_dir/file.name))"
      ]
    },
    {
      "cell_type": "markdown",
      "metadata": {
        "id": "_YKNO7ODdu-w"
      },
      "source": [
        "## Deleting the Extras\n",
        "Deleting the `data_path` folder to save storage"
      ]
    },
    {
      "cell_type": "code",
      "execution_count": 8,
      "metadata": {
        "colab": {
          "base_uri": "https://localhost:8080/"
        },
        "id": "v5lyaxEYVRoL",
        "outputId": "0fe1bef6-cfbb-4663-aa6d-1365dd66f0c7"
      },
      "outputs": [
        {
          "output_type": "stream",
          "name": "stdout",
          "text": [
            "Folder 'data' and all its subdirectories have been deleted.\n"
          ]
        }
      ],
      "source": [
        "# Deleting our data_path after getting our desizerd ouput to free storage\n",
        "if data_path.exists() and data_path.is_dir():\n",
        "    shutil.rmtree(data_path)\n",
        "    print(f\"Folder '{data_path}' and all its subdirectories have been deleted.\")\n",
        "else:\n",
        "    print(f\"Folder '{data_path}' does not exist.\")"
      ]
    },
    {
      "cell_type": "markdown",
      "metadata": {
        "id": "-T9Liv6oGAYy"
      },
      "source": [
        "## Result\n",
        " ISIC-2017_Data This folder contains the dataset for the ISIC 2017 skin cancer segmentation project. The dataset is organized into the following subfolders:\n",
        " ## Structure\n",
        "\n",
        "### Subfolders\n",
        "\n",
        "1. **Images/**\n",
        "   - Contains the original images used for training and validation.\n",
        "\n",
        "2. **Superpixel/**\n",
        "   - Contains the superpixel masks generated for each image.\n",
        "\n",
        "3. **Binary/**\n",
        "   - Contains the binary masks indicating the regions of interest in each image.\n"
      ]
    },
    {
      "cell_type": "markdown",
      "metadata": {
        "id": "QhFwyiB0h5WX"
      },
      "source": [
        "## 2 - Become one with the data (data preparation and exploration)"
      ]
    },
    {
      "cell_type": "code",
      "execution_count": 9,
      "metadata": {
        "id": "BjJghcgqh-aD"
      },
      "outputs": [],
      "source": [
        "import os\n",
        "def walk_through(dir_path:str):\n",
        "  for dirpath, dirnames, filenames in os.walk(dir_path):\n",
        "    print(f\"There are {len(dirnames)} directories and {len(filenames)} images in '{dirpath}'.\")"
      ]
    },
    {
      "cell_type": "code",
      "execution_count": 10,
      "metadata": {
        "colab": {
          "base_uri": "https://localhost:8080/"
        },
        "id": "e5I0LWzFiAmw",
        "outputId": "40766b48-e0fb-4ee3-9b06-1f14d9c2239f"
      },
      "outputs": [
        {
          "output_type": "stream",
          "name": "stdout",
          "text": [
            "There are 3 directories and 0 images in 'ISIC-2017_Data'.\n",
            "There are 0 directories and 2000 images in 'ISIC-2017_Data/Binary'.\n",
            "There are 0 directories and 2000 images in 'ISIC-2017_Data/Superpixel'.\n",
            "There are 0 directories and 2000 images in 'ISIC-2017_Data/Images'.\n"
          ]
        }
      ],
      "source": [
        "data_path=Path(\"ISIC-2017_Data\")\n",
        "walk_through(data_path)"
      ]
    },
    {
      "cell_type": "markdown",
      "metadata": {
        "id": "-gTqd6KYif3X"
      },
      "source": [
        "### 2.1 Visualize Images\n",
        "Let's write some code to:\n",
        "\n",
        "1. Get all of the image paths using `pathlib.Path.glob()` to find all of the files ending in .jpg.\n",
        "2. Pick a random image path using Python's `random.choice()`.\n",
        "3. And since we're working with images, we'll open the random image path using `PIL.Image.open()` (PIL stands for Python Image Library).\n"
      ]
    },
    {
      "cell_type": "code",
      "execution_count": null,
      "metadata": {
        "id": "6NmCDxeUjdsg"
      },
      "outputs": [],
      "source": [
        "import random\n",
        "from PIL import Image\n",
        "\n",
        "# creating a list of all the images\n",
        "image_path_list=list(data_path.glob(\"*/*.jpg\"))\n",
        "len(image_path_list)\n",
        "\n",
        "# select a random image path\n",
        "random_image_path = random.choice(image_path_list)\n",
        "\n",
        "# open Image\n",
        "img = Image.open(fp=random_image_path)\n",
        "print(f\"Random Image Path: {random_image_path}\")\n",
        "print(f\"Image height: {img.height}\")\n",
        "print(f\"Image width: {img.width}\")\n",
        "\n",
        "# Display the image\n",
        "img"
      ]
    },
    {
      "cell_type": "code",
      "execution_count": 12,
      "metadata": {
        "id": "BIJrb-pglHvB",
        "colab": {
          "base_uri": "https://localhost:8080/"
        },
        "outputId": "fd84461f-3e7f-49dd-fb61-3aaf7735a2dd"
      },
      "outputs": [
        {
          "output_type": "execute_result",
          "data": {
            "text/plain": [
              "[404, 1953, 942]"
            ]
          },
          "metadata": {},
          "execution_count": 12
        }
      ],
      "source": [
        "random_images_path_idx=random.sample(population=range(len(image_path_list)),k=3)\n",
        "random_images_path_idx"
      ]
    },
    {
      "cell_type": "code",
      "source": [
        "# list for inut images\n",
        "image_path_list=sorted(list(data_path.glob(\"*/*.jpg\")))\n",
        "# list for binary masks\n",
        "binary_mask_list=sorted(list(data_path.glob(\"Binary/*.png\")))\n",
        "# list for superpixel mask\n",
        "superpixel_mask_list=sorted(list(data_path.glob(\"Superpixel/*.png\")))\n",
        "len(binary_mask_list),len(superpixel_mask_list)"
      ],
      "metadata": {
        "colab": {
          "base_uri": "https://localhost:8080/"
        },
        "id": "Xmbz1UViqG2N",
        "outputId": "305ffda7-0d9f-43b9-ac61-1024cad442e2"
      },
      "execution_count": 13,
      "outputs": [
        {
          "output_type": "execute_result",
          "data": {
            "text/plain": [
              "(2000, 2000)"
            ]
          },
          "metadata": {},
          "execution_count": 13
        }
      ]
    },
    {
      "cell_type": "code",
      "source": [
        "import random\n",
        "from PIL import Image\n",
        "import matplotlib.pyplot as plt\n",
        "from typing import List\n",
        "\n",
        "def plot_random_images(\n",
        "    image_list: List[str],\n",
        "    binary_mask_list: List[str],\n",
        "    superpixel_mask_list: List[str],\n",
        "    num_samples: int = 3\n",
        "):\n",
        "    \"\"\"\n",
        "    Plots a specified number of random images alongside their binary and superpixel masks.\n",
        "\n",
        "    Args:\n",
        "        image_list (List[str]): List of file paths to input images.\n",
        "        binary_mask_list (List[str]): List of file paths to binary mask images.\n",
        "        superpixel_mask_list (List[str]): List of file paths to superpixel mask images.\n",
        "        num_samples (int, optional): Number of random samples to display. Defaults to 3.\n",
        "\n",
        "    Raises:\n",
        "        ValueError: If the lengths of `image_list`, `binary_mask_list`, and `superpixel_mask_list` are not equal.\n",
        "        ValueError: If `num_samples` is greater than the number of available images.\n",
        "\n",
        "    Example:\n",
        "        ```python\n",
        "        plot_random_images(\n",
        "            image_list=[\"image1.jpg\", \"image2.jpg\"],\n",
        "            binary_mask_list=[\"binary1.png\", \"binary2.png\"],\n",
        "            superpixel_mask_list=[\"superpixel1.png\", \"superpixel2.png\"],\n",
        "            num_samples=2\n",
        "        )\n",
        "        ```\n",
        "    \"\"\"\n",
        "    # Check for consistency in list lengths\n",
        "    if len(image_list) != len(binary_mask_list) or len(image_list) != len(superpixel_mask_list):\n",
        "        raise ValueError(\"All input lists must have the same length.\")\n",
        "\n",
        "    # Ensure the number of samples is valid\n",
        "    if num_samples > len(image_list):\n",
        "        raise ValueError(\"num_samples cannot be greater than the number of images available.\")\n",
        "\n",
        "    # Randomly sample indices\n",
        "    idx = random.sample(range(len(image_list)), num_samples)\n",
        "\n",
        "    # Create subplots\n",
        "    fig, axes = plt.subplots(nrows=num_samples, ncols=3, figsize=(15, 5 * num_samples))\n",
        "\n",
        "    # Ensure axes is a list of lists, even for single sample\n",
        "    if num_samples == 1:\n",
        "        axes = [axes]\n",
        "\n",
        "    for i, sample_idx in enumerate(idx):\n",
        "        # Open images and masks\n",
        "        img = Image.open(image_list[sample_idx])\n",
        "        superpixel_mask = Image.open(superpixel_mask_list[sample_idx])\n",
        "        binary_mask = Image.open(binary_mask_list[sample_idx])\n",
        "\n",
        "        # Plot the original image\n",
        "        axes[i][0].imshow(img)\n",
        "        axes[i][0].set_title(f\"Image: {sample_idx},Size:{img.size}\")\n",
        "        axes[i][0].axis(\"off\")\n",
        "\n",
        "        # Plot the binary mask\n",
        "        axes[i][1].imshow(binary_mask)\n",
        "        axes[i][1].set_title(f\"Binary Mask: {sample_idx},Size:{binary_mask.size}\")\n",
        "        axes[i][1].axis(\"off\")\n",
        "\n",
        "        # Plot the superpixel mask\n",
        "        axes[i][2].imshow(superpixel_mask)\n",
        "        axes[i][2].set_title(f\"Superpixel Mask: {sample_idx},Size:{superpixel_mask.size}\")\n",
        "        axes[i][2].axis(\"off\")\n",
        "\n",
        "    # Adjust layout and display\n",
        "    plt.tight_layout()\n",
        "    plt.show()\n"
      ],
      "metadata": {
        "id": "Wt-W8GxksGMS"
      },
      "execution_count": 14,
      "outputs": []
    },
    {
      "cell_type": "code",
      "source": [
        "plot_random_images(image_list=image_path_list,\n",
        "                   binary_mask_list=binary_mask_list,\n",
        "                   superpixel_mask_list=superpixel_mask_list,\n",
        "                   num_samples=3)"
      ],
      "metadata": {
        "id": "uNJnt8eUwRSB"
      },
      "execution_count": null,
      "outputs": []
    },
    {
      "cell_type": "markdown",
      "source": [
        "### 2.2 - Combining Masks\n",
        "1. Weighted Average or Overlaying\n",
        "2. Union\n",
        "3. Intersection\n",
        "4. Boundary Enhancement"
      ],
      "metadata": {
        "id": "wUFrpvNS6gF3"
      }
    },
    {
      "cell_type": "code",
      "source": [
        "import cv2\n",
        "def load_masks(binary_mask_path_list, superpixel_mask_path_list,):\n",
        "  # Randomly sample indices\n",
        "  # Check for consistency in list lengths\n",
        "  if len(binary_mask_path_list) != len(superpixel_mask_path_list):\n",
        "      raise ValueError(\"The binary and superpixel mask lists must have the same length.\")\n",
        "\n",
        "  # Randomly select a single index\n",
        "  idx = random.choice(range(len(binary_mask_path_list)))\n",
        "\n",
        "  # Load masks as grayscale images\n",
        "  binary_mask = cv2.imread(binary_mask_path_list[idx], cv2.IMREAD_GRAYSCALE)\n",
        "  superpixel_mask = cv2.imread(superpixel_mask_path_list[idx], cv2.IMREAD_GRAYSCALE)\n",
        "\n",
        "  return binary_mask, superpixel_mask\n",
        "\n",
        "bm, sm = load_masks(\n",
        "    binary_mask_path_list=binary_mask_list,\n",
        "    superpixel_mask_path_list=superpixel_mask_list\n",
        ")"
      ],
      "metadata": {
        "id": "YBQZsca38u2h"
      },
      "execution_count": 17,
      "outputs": []
    },
    {
      "cell_type": "code",
      "source": [
        "from google.colab.patches import cv2_imshow\n",
        "cv2_imshow(bm)"
      ],
      "metadata": {
        "id": "nkn-4yYF_OK3"
      },
      "execution_count": null,
      "outputs": []
    },
    {
      "cell_type": "code",
      "source": [
        "from google.colab.patches import cv2_imshow\n",
        "cv2_imshow(sm)"
      ],
      "metadata": {
        "id": "S6Sz0pjg98KE"
      },
      "execution_count": null,
      "outputs": []
    },
    {
      "cell_type": "markdown",
      "source": [
        "### 3.1 - Weighted average or Overlaying"
      ],
      "metadata": {
        "id": "RHJ1tQ_o6_8Q"
      }
    },
    {
      "cell_type": "code",
      "source": [
        "import cv2\n",
        "import numpy as np\n",
        "from pathlib import Path\n",
        "\n",
        "def weighted_average_combination(binary_mask,superpixel_mask,alpha=0.5):\n",
        "  # Normalize masks to range [0, 1]\n",
        "  binary_mask = binary_mask.astype(np.float32) / 255.0\n",
        "  superpixel_mask = superpixel_mask.astype(np.float32) / 255.0\n",
        "\n",
        "  # Compute weighted average\n",
        "  combined_mask = alpha * binary_mask + (1 - alpha) * superpixel_mask\n",
        "\n",
        "  # Clip values to [0, 1] and scale back to [0, 255]\n",
        "  combined_mask = np.clip(combined_mask, 0, 1)\n",
        "  return (combined_mask * 255).astype(np.uint8)"
      ],
      "metadata": {
        "id": "hnuz2Hr_7RYX"
      },
      "execution_count": 20,
      "outputs": []
    },
    {
      "cell_type": "code",
      "source": [
        "wac=weighted_average_combination(bm,sm)\n",
        "cv2_imshow(wac)"
      ],
      "metadata": {
        "id": "rNAdsGO9_k5h"
      },
      "execution_count": null,
      "outputs": []
    },
    {
      "cell_type": "markdown",
      "source": [
        "lets try and overlay the orignal image with each mask and try to better understand our data"
      ],
      "metadata": {
        "id": "C4p6b1NLJekV"
      }
    },
    {
      "cell_type": "markdown",
      "source": [
        "overlaying binary mask with orignal image"
      ],
      "metadata": {
        "id": "ZVivYDe8Jy-x"
      }
    },
    {
      "cell_type": "code",
      "source": [
        "bm,img=load_masks(\n",
        "    binary_mask_path_list=binary_mask_list,\n",
        "    superpixel_mask_path_list=image_path_list,#insted of superpixel_mask_path_list we are send the image paths list\n",
        ")"
      ],
      "metadata": {
        "id": "-CA-EeuGKGdF"
      },
      "execution_count": 28,
      "outputs": []
    },
    {
      "cell_type": "code",
      "source": [
        "cv2_imshow(img)"
      ],
      "metadata": {
        "id": "CoSNWRzUKR8q"
      },
      "execution_count": null,
      "outputs": []
    },
    {
      "cell_type": "code",
      "source": [
        "wac=weighted_average_combination(bm,img)\n",
        "cv2_imshow(wac)"
      ],
      "metadata": {
        "id": "ELyFy4q1Ktiz"
      },
      "execution_count": null,
      "outputs": []
    },
    {
      "cell_type": "markdown",
      "source": [
        "overlaying subinaryperpixel mask with orignal image"
      ],
      "metadata": {
        "id": "iLCeFbEeLYx3"
      }
    },
    {
      "cell_type": "code",
      "source": [
        "img,sm=load_masks(\n",
        "    binary_mask_path_list=image_path_list,#insted of binary_mask_path_list we are send the image paths list\n",
        "    superpixel_mask_path_list=superpixel_mask_list)"
      ],
      "metadata": {
        "id": "cCVVmnJsLh3M"
      },
      "execution_count": 32,
      "outputs": []
    },
    {
      "cell_type": "code",
      "source": [
        "wac=weighted_average_combination(img,sm)\n",
        "cv2_imshow(wac)"
      ],
      "metadata": {
        "id": "VvEQrQyHMAhy"
      },
      "execution_count": null,
      "outputs": []
    },
    {
      "cell_type": "markdown",
      "source": [
        "## 3 - Creating our model"
      ],
      "metadata": {
        "id": "f9Gxh9j8UEet"
      }
    },
    {
      "cell_type": "code",
      "source": [
        "import torch\n",
        "import torch.nn as nn\n",
        "\n",
        "\n",
        "class conv_block(nn.Module):\n",
        "  def __init__(self,ch_in,ch_out):\n",
        "    super().__init__()\n",
        "    self.conv = nn.Sequential(\n",
        "        nn.Conv2d(in_channels=ch_in,out_channels=ch_out,kernel_size=3,stride=1,padding=1,bias=True),\n",
        "        nn.BatchNorm2d(ch_out),\n",
        "        nn.Relu(inplace=True),\n",
        "        nn.Conv2d(ch_out,ch_out,kernel_size=3,stride=1,padding=1,bias=1),\n",
        "        nn.BatchNorm2d(ch_out),\n",
        "        nn.ReLU(inplace=True)\n",
        "    )\n",
        "  def forward(self,x):\n",
        "    return self.conv(x)\n",
        "\n",
        "class conv_transpose(nn.Module):\n",
        "  def __init__(self,ch_in,ch_out):\n",
        "    super().__init__()\n",
        "    self.cov_trans=nn.Sequential(\n",
        "        nn.Upsample(scale_factor=2),\n",
        "        nn.Conv2d(ch_in,ch_out,kernel_size=3,stride=1,padding=1,bias=True),\n",
        "        nn.BatchNorm2d(ch_out),\n",
        "        nn.ReLU(inplace=True)\n",
        "    )\n",
        "\n",
        "  def forward(self,x):\n",
        "    return self.cov_trans(x)"
      ],
      "metadata": {
        "id": "cttpbc3-UicG"
      },
      "execution_count": null,
      "outputs": []
    },
    {
      "cell_type": "code",
      "source": [
        "from collections import OrderedDict\n",
        "import torch\n",
        "import torch.nn as nn\n",
        "\n",
        "class UNET (nn.Module):\n",
        "  def __init__(self,in_channels=3,out_channels=1,init_features=32):\n",
        "    super().__init__()\n",
        "\n",
        "    features=init_features\n",
        "    self.encoder1=UNET._block(in_channels,features,name=\"encoder_1\")\n",
        "    self.pool1=nn.MaxPool2d(kernel_size=2,stride=2)\n",
        "    self.encoder2=UNET._block(features,features*2,name=\"encoder_2\")\n",
        "    self.pool2=nn.MaxPool2d(kernel_size=2,stride=2)\n",
        "    self.encoder3=UNET._block(features*2,features*4,name=\"encoder_3\")\n",
        "    self.pool3=nn.MaxPool2d(kernel_size=2,stride=2),\n",
        "    self.encoder4=UNET._block(features*4,features*8,name=\"encoder_4\")\n",
        "    self.pool4=nn.MaxPool2d(kernel_size=2,stride=2)\n",
        "\n",
        "    # bottle neck\n",
        "    self.bottleneck=UNET._block(features*8,features*16,name=\"bottleneck\")\n",
        "\n",
        "    # Decoer\n",
        "    self.upconv4=nn.ConvTranspose2d(in_channels=features*16,out_channels=features*8,kernel_size=2,stride=2)\n",
        "    self.decoder4=UNET._block((features*8)*2,features*8,name=\"decoder_4\")\n",
        "\n",
        "    self.upconv3=nn.ConvTranspose2d(in_channels=features*8,out_channels=features*4,kernel_size=2,stride=2)\n",
        "    self.decoder3=UNET._block((features*4)*2,features*4,name=\"decoder_3\")\n",
        "\n",
        "    self.upconv2=nn.ConvTranspose2d(in_channels=features*4,out_channels=features*2,kernel_size=2,stride=2)\n",
        "    self.decoder2=UNET._block((features*2)*2,features*2,name=\"decoder_2\")\n",
        "\n",
        "    self.upconv1=nn.ConvTranspose2d(in_channels=features*2,out_channels=features,kernel_size=2,stride=2)\n",
        "    self.decoder1=UNET._block(features*2,features,name=\"decoder_1\")\n",
        "\n",
        "    # output\n",
        "    self.conv=nn.Conv2d(in_channels=features,out_channels=out_channels,kernel_size=1)\n",
        "\n",
        "  def forward(self,x):\n",
        "    # encoder\n",
        "    encoder_1=self.encoder1(x)\n",
        "    encoder_2=self.encoder2(self.pool1(encoder_1))\n",
        "    encoder_3=self.encoder3(self.pool2(encoder_2))\n",
        "    encoder_4=self.encoder4(self.pool3(encoder_3))\n",
        "    # bottleneck\n",
        "    bottleneck=self.bottleneck(self.pool4(encoder_4))\n",
        "    # decoder\n",
        "    decoder_4=self.upconv4(bottleneck)\n",
        "    decoder_4=torch.cat((decoder_4,encoder_4),dim=1)\n",
        "    decoder_4=self.decoder4(decoder_4)\n",
        "\n",
        "    decoder_3=self.upconv3(decoder_4)\n",
        "    decoder_3=torch.cat(tensors=(decoder_3,encoder_3),dim=1)\n",
        "    decoder_3=self.decoder3(decoder_3)\n",
        "\n",
        "    decoder_2=self.upconv2(decoder_3)\n",
        "    decoder_2=torch.cat(tensors=(decoder_2,encoder_2),dim=1)\n",
        "    decoder_2=self.decoder2(decoder_3)\n",
        "\n",
        "    decoder_1=self.upconv1(decoder_2)\n",
        "    decoder_1=torch.cat(tensors=(decoder_1,encoder_1),dim=1)\n",
        "    decoder_1=self.decoder1(decoder_1)\n",
        "    # final segmentation map\n",
        "    return torch.sigmoid(self.conv(decoder_1))\n",
        "\n",
        "  def _block(in_channels,features,name):\n",
        "\n",
        "    seq=nn.Sequential(\n",
        "        OrderedDict([\n",
        "            (name + \"conv1\",nn.Conv2d(in_channels=in_channels,out_channels=features,kernel_size=3,padding=1,bias=False)),\n",
        "            (name + \"norm1\",nn.BatchNorm2d(num_features=features)),\n",
        "            (name + \"relu1\",nn.ReLU(inplace=True)),\n",
        "\n",
        "            (name + \"conv2\",nn.Conv2d(in_channels=features,out_channels=features,kernel_size=3,padding=1,bias=False)),\n",
        "            (name + \"norm2\",nn.BatchNorm2d(num_features=features)),\n",
        "            (name + \"relu2\",nn.ReLU(inplace=True)),\n",
        "        ])\n",
        "    )\n",
        "    return seq\n",
        "\n"
      ],
      "metadata": {
        "id": "V7poyfhLoOlb"
      },
      "execution_count": 35,
      "outputs": []
    },
    {
      "cell_type": "code",
      "source": [],
      "metadata": {
        "id": "Fws_45w93yi_"
      },
      "execution_count": null,
      "outputs": []
    }
  ],
  "metadata": {
    "colab": {
      "provenance": [],
      "include_colab_link": true
    },
    "kaggle": {
      "accelerator": "none",
      "dataSources": [],
      "dockerImageVersionId": 30786,
      "isGpuEnabled": false,
      "isInternetEnabled": true,
      "language": "python",
      "sourceType": "notebook"
    },
    "kernelspec": {
      "display_name": "Python 3",
      "language": "python",
      "name": "python3"
    },
    "language_info": {
      "codemirror_mode": {
        "name": "ipython",
        "version": 3
      },
      "file_extension": ".py",
      "mimetype": "text/x-python",
      "name": "python",
      "nbconvert_exporter": "python",
      "pygments_lexer": "ipython3",
      "version": "3.10.14"
    },
    "widgets": {
      "application/vnd.jupyter.widget-state+json": {
        "253e34823de64d28bfe160948e26749f": {
          "model_module": "@jupyter-widgets/controls",
          "model_name": "HBoxModel",
          "model_module_version": "1.5.0",
          "state": {
            "_dom_classes": [],
            "_model_module": "@jupyter-widgets/controls",
            "_model_module_version": "1.5.0",
            "_model_name": "HBoxModel",
            "_view_count": null,
            "_view_module": "@jupyter-widgets/controls",
            "_view_module_version": "1.5.0",
            "_view_name": "HBoxView",
            "box_style": "",
            "children": [
              "IPY_MODEL_47a0f3df6c0d41b28603d0991407bd28",
              "IPY_MODEL_a8de086ed4044ca391a7256ec15f2130",
              "IPY_MODEL_1f6eda25bd3241dc8ad8cff8cc82556e"
            ],
            "layout": "IPY_MODEL_f1ba67ac95114b6aafb820a1ca0c7bac"
          }
        },
        "47a0f3df6c0d41b28603d0991407bd28": {
          "model_module": "@jupyter-widgets/controls",
          "model_name": "HTMLModel",
          "model_module_version": "1.5.0",
          "state": {
            "_dom_classes": [],
            "_model_module": "@jupyter-widgets/controls",
            "_model_module_version": "1.5.0",
            "_model_name": "HTMLModel",
            "_view_count": null,
            "_view_module": "@jupyter-widgets/controls",
            "_view_module_version": "1.5.0",
            "_view_name": "HTMLView",
            "description": "",
            "description_tooltip": null,
            "layout": "IPY_MODEL_d06b32c4c63349c79c8b2c9dc6bb6a61",
            "placeholder": "​",
            "style": "IPY_MODEL_f29b5c1bca3e4db2978fc5132dfa363d",
            "value": "Downloading ISIC-2017_Training_Data.zip: 100%"
          }
        },
        "a8de086ed4044ca391a7256ec15f2130": {
          "model_module": "@jupyter-widgets/controls",
          "model_name": "FloatProgressModel",
          "model_module_version": "1.5.0",
          "state": {
            "_dom_classes": [],
            "_model_module": "@jupyter-widgets/controls",
            "_model_module_version": "1.5.0",
            "_model_name": "FloatProgressModel",
            "_view_count": null,
            "_view_module": "@jupyter-widgets/controls",
            "_view_module_version": "1.5.0",
            "_view_name": "ProgressView",
            "bar_style": "success",
            "description": "",
            "description_tooltip": null,
            "layout": "IPY_MODEL_0405f41142b24217acc839e1dda66b0b",
            "max": 6229496702,
            "min": 0,
            "orientation": "horizontal",
            "style": "IPY_MODEL_7ff0dbfa73d3496b8682b9d4f65b0841",
            "value": 6229496702
          }
        },
        "1f6eda25bd3241dc8ad8cff8cc82556e": {
          "model_module": "@jupyter-widgets/controls",
          "model_name": "HTMLModel",
          "model_module_version": "1.5.0",
          "state": {
            "_dom_classes": [],
            "_model_module": "@jupyter-widgets/controls",
            "_model_module_version": "1.5.0",
            "_model_name": "HTMLModel",
            "_view_count": null,
            "_view_module": "@jupyter-widgets/controls",
            "_view_module_version": "1.5.0",
            "_view_name": "HTMLView",
            "description": "",
            "description_tooltip": null,
            "layout": "IPY_MODEL_806eb741a8ad4a66b77376cb6c512817",
            "placeholder": "​",
            "style": "IPY_MODEL_1db98b303e4f40af87bcc337d2dfc44c",
            "value": " 5.80G/5.80G [02:03&lt;00:00, 56.2MB/s]"
          }
        },
        "f1ba67ac95114b6aafb820a1ca0c7bac": {
          "model_module": "@jupyter-widgets/base",
          "model_name": "LayoutModel",
          "model_module_version": "1.2.0",
          "state": {
            "_model_module": "@jupyter-widgets/base",
            "_model_module_version": "1.2.0",
            "_model_name": "LayoutModel",
            "_view_count": null,
            "_view_module": "@jupyter-widgets/base",
            "_view_module_version": "1.2.0",
            "_view_name": "LayoutView",
            "align_content": null,
            "align_items": null,
            "align_self": null,
            "border": null,
            "bottom": null,
            "display": null,
            "flex": null,
            "flex_flow": null,
            "grid_area": null,
            "grid_auto_columns": null,
            "grid_auto_flow": null,
            "grid_auto_rows": null,
            "grid_column": null,
            "grid_gap": null,
            "grid_row": null,
            "grid_template_areas": null,
            "grid_template_columns": null,
            "grid_template_rows": null,
            "height": null,
            "justify_content": null,
            "justify_items": null,
            "left": null,
            "margin": null,
            "max_height": null,
            "max_width": null,
            "min_height": null,
            "min_width": null,
            "object_fit": null,
            "object_position": null,
            "order": null,
            "overflow": null,
            "overflow_x": null,
            "overflow_y": null,
            "padding": null,
            "right": null,
            "top": null,
            "visibility": null,
            "width": null
          }
        },
        "d06b32c4c63349c79c8b2c9dc6bb6a61": {
          "model_module": "@jupyter-widgets/base",
          "model_name": "LayoutModel",
          "model_module_version": "1.2.0",
          "state": {
            "_model_module": "@jupyter-widgets/base",
            "_model_module_version": "1.2.0",
            "_model_name": "LayoutModel",
            "_view_count": null,
            "_view_module": "@jupyter-widgets/base",
            "_view_module_version": "1.2.0",
            "_view_name": "LayoutView",
            "align_content": null,
            "align_items": null,
            "align_self": null,
            "border": null,
            "bottom": null,
            "display": null,
            "flex": null,
            "flex_flow": null,
            "grid_area": null,
            "grid_auto_columns": null,
            "grid_auto_flow": null,
            "grid_auto_rows": null,
            "grid_column": null,
            "grid_gap": null,
            "grid_row": null,
            "grid_template_areas": null,
            "grid_template_columns": null,
            "grid_template_rows": null,
            "height": null,
            "justify_content": null,
            "justify_items": null,
            "left": null,
            "margin": null,
            "max_height": null,
            "max_width": null,
            "min_height": null,
            "min_width": null,
            "object_fit": null,
            "object_position": null,
            "order": null,
            "overflow": null,
            "overflow_x": null,
            "overflow_y": null,
            "padding": null,
            "right": null,
            "top": null,
            "visibility": null,
            "width": null
          }
        },
        "f29b5c1bca3e4db2978fc5132dfa363d": {
          "model_module": "@jupyter-widgets/controls",
          "model_name": "DescriptionStyleModel",
          "model_module_version": "1.5.0",
          "state": {
            "_model_module": "@jupyter-widgets/controls",
            "_model_module_version": "1.5.0",
            "_model_name": "DescriptionStyleModel",
            "_view_count": null,
            "_view_module": "@jupyter-widgets/base",
            "_view_module_version": "1.2.0",
            "_view_name": "StyleView",
            "description_width": ""
          }
        },
        "0405f41142b24217acc839e1dda66b0b": {
          "model_module": "@jupyter-widgets/base",
          "model_name": "LayoutModel",
          "model_module_version": "1.2.0",
          "state": {
            "_model_module": "@jupyter-widgets/base",
            "_model_module_version": "1.2.0",
            "_model_name": "LayoutModel",
            "_view_count": null,
            "_view_module": "@jupyter-widgets/base",
            "_view_module_version": "1.2.0",
            "_view_name": "LayoutView",
            "align_content": null,
            "align_items": null,
            "align_self": null,
            "border": null,
            "bottom": null,
            "display": null,
            "flex": null,
            "flex_flow": null,
            "grid_area": null,
            "grid_auto_columns": null,
            "grid_auto_flow": null,
            "grid_auto_rows": null,
            "grid_column": null,
            "grid_gap": null,
            "grid_row": null,
            "grid_template_areas": null,
            "grid_template_columns": null,
            "grid_template_rows": null,
            "height": null,
            "justify_content": null,
            "justify_items": null,
            "left": null,
            "margin": null,
            "max_height": null,
            "max_width": null,
            "min_height": null,
            "min_width": null,
            "object_fit": null,
            "object_position": null,
            "order": null,
            "overflow": null,
            "overflow_x": null,
            "overflow_y": null,
            "padding": null,
            "right": null,
            "top": null,
            "visibility": null,
            "width": null
          }
        },
        "7ff0dbfa73d3496b8682b9d4f65b0841": {
          "model_module": "@jupyter-widgets/controls",
          "model_name": "ProgressStyleModel",
          "model_module_version": "1.5.0",
          "state": {
            "_model_module": "@jupyter-widgets/controls",
            "_model_module_version": "1.5.0",
            "_model_name": "ProgressStyleModel",
            "_view_count": null,
            "_view_module": "@jupyter-widgets/base",
            "_view_module_version": "1.2.0",
            "_view_name": "StyleView",
            "bar_color": null,
            "description_width": ""
          }
        },
        "806eb741a8ad4a66b77376cb6c512817": {
          "model_module": "@jupyter-widgets/base",
          "model_name": "LayoutModel",
          "model_module_version": "1.2.0",
          "state": {
            "_model_module": "@jupyter-widgets/base",
            "_model_module_version": "1.2.0",
            "_model_name": "LayoutModel",
            "_view_count": null,
            "_view_module": "@jupyter-widgets/base",
            "_view_module_version": "1.2.0",
            "_view_name": "LayoutView",
            "align_content": null,
            "align_items": null,
            "align_self": null,
            "border": null,
            "bottom": null,
            "display": null,
            "flex": null,
            "flex_flow": null,
            "grid_area": null,
            "grid_auto_columns": null,
            "grid_auto_flow": null,
            "grid_auto_rows": null,
            "grid_column": null,
            "grid_gap": null,
            "grid_row": null,
            "grid_template_areas": null,
            "grid_template_columns": null,
            "grid_template_rows": null,
            "height": null,
            "justify_content": null,
            "justify_items": null,
            "left": null,
            "margin": null,
            "max_height": null,
            "max_width": null,
            "min_height": null,
            "min_width": null,
            "object_fit": null,
            "object_position": null,
            "order": null,
            "overflow": null,
            "overflow_x": null,
            "overflow_y": null,
            "padding": null,
            "right": null,
            "top": null,
            "visibility": null,
            "width": null
          }
        },
        "1db98b303e4f40af87bcc337d2dfc44c": {
          "model_module": "@jupyter-widgets/controls",
          "model_name": "DescriptionStyleModel",
          "model_module_version": "1.5.0",
          "state": {
            "_model_module": "@jupyter-widgets/controls",
            "_model_module_version": "1.5.0",
            "_model_name": "DescriptionStyleModel",
            "_view_count": null,
            "_view_module": "@jupyter-widgets/base",
            "_view_module_version": "1.2.0",
            "_view_name": "StyleView",
            "description_width": ""
          }
        },
        "9ae862ba44b0410e96a4d5d89e760dd1": {
          "model_module": "@jupyter-widgets/controls",
          "model_name": "HBoxModel",
          "model_module_version": "1.5.0",
          "state": {
            "_dom_classes": [],
            "_model_module": "@jupyter-widgets/controls",
            "_model_module_version": "1.5.0",
            "_model_name": "HBoxModel",
            "_view_count": null,
            "_view_module": "@jupyter-widgets/controls",
            "_view_module_version": "1.5.0",
            "_view_name": "HBoxView",
            "box_style": "",
            "children": [
              "IPY_MODEL_530e06571e954751896b36ba46d5f09f",
              "IPY_MODEL_599e148983ab499db49c66b733549901",
              "IPY_MODEL_af314c72cbae4dff932217a01307b4a9"
            ],
            "layout": "IPY_MODEL_594551c7b095431896dfd09dc9cbeb7e"
          }
        },
        "530e06571e954751896b36ba46d5f09f": {
          "model_module": "@jupyter-widgets/controls",
          "model_name": "HTMLModel",
          "model_module_version": "1.5.0",
          "state": {
            "_dom_classes": [],
            "_model_module": "@jupyter-widgets/controls",
            "_model_module_version": "1.5.0",
            "_model_name": "HTMLModel",
            "_view_count": null,
            "_view_module": "@jupyter-widgets/controls",
            "_view_module_version": "1.5.0",
            "_view_name": "HTMLView",
            "description": "",
            "description_tooltip": null,
            "layout": "IPY_MODEL_cefd43b880da407d90101cf0db7c9553",
            "placeholder": "​",
            "style": "IPY_MODEL_ad2c16731e2447e98b8a48c58f7144c0",
            "value": "Downloading ISIC-2017_Training_Part1_GroundTruth.zip: 100%"
          }
        },
        "599e148983ab499db49c66b733549901": {
          "model_module": "@jupyter-widgets/controls",
          "model_name": "FloatProgressModel",
          "model_module_version": "1.5.0",
          "state": {
            "_dom_classes": [],
            "_model_module": "@jupyter-widgets/controls",
            "_model_module_version": "1.5.0",
            "_model_name": "FloatProgressModel",
            "_view_count": null,
            "_view_module": "@jupyter-widgets/controls",
            "_view_module_version": "1.5.0",
            "_view_name": "ProgressView",
            "bar_style": "success",
            "description": "",
            "description_tooltip": null,
            "layout": "IPY_MODEL_3bf23c34d52a48c7bab0337bc0f0d39f",
            "max": 9321981,
            "min": 0,
            "orientation": "horizontal",
            "style": "IPY_MODEL_7797dcd9fab84382ab112a6028eeef28",
            "value": 9321981
          }
        },
        "af314c72cbae4dff932217a01307b4a9": {
          "model_module": "@jupyter-widgets/controls",
          "model_name": "HTMLModel",
          "model_module_version": "1.5.0",
          "state": {
            "_dom_classes": [],
            "_model_module": "@jupyter-widgets/controls",
            "_model_module_version": "1.5.0",
            "_model_name": "HTMLModel",
            "_view_count": null,
            "_view_module": "@jupyter-widgets/controls",
            "_view_module_version": "1.5.0",
            "_view_name": "HTMLView",
            "description": "",
            "description_tooltip": null,
            "layout": "IPY_MODEL_84fb9ab682d24b1e922169f7661fe19d",
            "placeholder": "​",
            "style": "IPY_MODEL_aa1c25fe2b9643f0ab4340d82d8659b0",
            "value": " 8.89M/8.89M [00:00&lt;00:00, 32.4MB/s]"
          }
        },
        "594551c7b095431896dfd09dc9cbeb7e": {
          "model_module": "@jupyter-widgets/base",
          "model_name": "LayoutModel",
          "model_module_version": "1.2.0",
          "state": {
            "_model_module": "@jupyter-widgets/base",
            "_model_module_version": "1.2.0",
            "_model_name": "LayoutModel",
            "_view_count": null,
            "_view_module": "@jupyter-widgets/base",
            "_view_module_version": "1.2.0",
            "_view_name": "LayoutView",
            "align_content": null,
            "align_items": null,
            "align_self": null,
            "border": null,
            "bottom": null,
            "display": null,
            "flex": null,
            "flex_flow": null,
            "grid_area": null,
            "grid_auto_columns": null,
            "grid_auto_flow": null,
            "grid_auto_rows": null,
            "grid_column": null,
            "grid_gap": null,
            "grid_row": null,
            "grid_template_areas": null,
            "grid_template_columns": null,
            "grid_template_rows": null,
            "height": null,
            "justify_content": null,
            "justify_items": null,
            "left": null,
            "margin": null,
            "max_height": null,
            "max_width": null,
            "min_height": null,
            "min_width": null,
            "object_fit": null,
            "object_position": null,
            "order": null,
            "overflow": null,
            "overflow_x": null,
            "overflow_y": null,
            "padding": null,
            "right": null,
            "top": null,
            "visibility": null,
            "width": null
          }
        },
        "cefd43b880da407d90101cf0db7c9553": {
          "model_module": "@jupyter-widgets/base",
          "model_name": "LayoutModel",
          "model_module_version": "1.2.0",
          "state": {
            "_model_module": "@jupyter-widgets/base",
            "_model_module_version": "1.2.0",
            "_model_name": "LayoutModel",
            "_view_count": null,
            "_view_module": "@jupyter-widgets/base",
            "_view_module_version": "1.2.0",
            "_view_name": "LayoutView",
            "align_content": null,
            "align_items": null,
            "align_self": null,
            "border": null,
            "bottom": null,
            "display": null,
            "flex": null,
            "flex_flow": null,
            "grid_area": null,
            "grid_auto_columns": null,
            "grid_auto_flow": null,
            "grid_auto_rows": null,
            "grid_column": null,
            "grid_gap": null,
            "grid_row": null,
            "grid_template_areas": null,
            "grid_template_columns": null,
            "grid_template_rows": null,
            "height": null,
            "justify_content": null,
            "justify_items": null,
            "left": null,
            "margin": null,
            "max_height": null,
            "max_width": null,
            "min_height": null,
            "min_width": null,
            "object_fit": null,
            "object_position": null,
            "order": null,
            "overflow": null,
            "overflow_x": null,
            "overflow_y": null,
            "padding": null,
            "right": null,
            "top": null,
            "visibility": null,
            "width": null
          }
        },
        "ad2c16731e2447e98b8a48c58f7144c0": {
          "model_module": "@jupyter-widgets/controls",
          "model_name": "DescriptionStyleModel",
          "model_module_version": "1.5.0",
          "state": {
            "_model_module": "@jupyter-widgets/controls",
            "_model_module_version": "1.5.0",
            "_model_name": "DescriptionStyleModel",
            "_view_count": null,
            "_view_module": "@jupyter-widgets/base",
            "_view_module_version": "1.2.0",
            "_view_name": "StyleView",
            "description_width": ""
          }
        },
        "3bf23c34d52a48c7bab0337bc0f0d39f": {
          "model_module": "@jupyter-widgets/base",
          "model_name": "LayoutModel",
          "model_module_version": "1.2.0",
          "state": {
            "_model_module": "@jupyter-widgets/base",
            "_model_module_version": "1.2.0",
            "_model_name": "LayoutModel",
            "_view_count": null,
            "_view_module": "@jupyter-widgets/base",
            "_view_module_version": "1.2.0",
            "_view_name": "LayoutView",
            "align_content": null,
            "align_items": null,
            "align_self": null,
            "border": null,
            "bottom": null,
            "display": null,
            "flex": null,
            "flex_flow": null,
            "grid_area": null,
            "grid_auto_columns": null,
            "grid_auto_flow": null,
            "grid_auto_rows": null,
            "grid_column": null,
            "grid_gap": null,
            "grid_row": null,
            "grid_template_areas": null,
            "grid_template_columns": null,
            "grid_template_rows": null,
            "height": null,
            "justify_content": null,
            "justify_items": null,
            "left": null,
            "margin": null,
            "max_height": null,
            "max_width": null,
            "min_height": null,
            "min_width": null,
            "object_fit": null,
            "object_position": null,
            "order": null,
            "overflow": null,
            "overflow_x": null,
            "overflow_y": null,
            "padding": null,
            "right": null,
            "top": null,
            "visibility": null,
            "width": null
          }
        },
        "7797dcd9fab84382ab112a6028eeef28": {
          "model_module": "@jupyter-widgets/controls",
          "model_name": "ProgressStyleModel",
          "model_module_version": "1.5.0",
          "state": {
            "_model_module": "@jupyter-widgets/controls",
            "_model_module_version": "1.5.0",
            "_model_name": "ProgressStyleModel",
            "_view_count": null,
            "_view_module": "@jupyter-widgets/base",
            "_view_module_version": "1.2.0",
            "_view_name": "StyleView",
            "bar_color": null,
            "description_width": ""
          }
        },
        "84fb9ab682d24b1e922169f7661fe19d": {
          "model_module": "@jupyter-widgets/base",
          "model_name": "LayoutModel",
          "model_module_version": "1.2.0",
          "state": {
            "_model_module": "@jupyter-widgets/base",
            "_model_module_version": "1.2.0",
            "_model_name": "LayoutModel",
            "_view_count": null,
            "_view_module": "@jupyter-widgets/base",
            "_view_module_version": "1.2.0",
            "_view_name": "LayoutView",
            "align_content": null,
            "align_items": null,
            "align_self": null,
            "border": null,
            "bottom": null,
            "display": null,
            "flex": null,
            "flex_flow": null,
            "grid_area": null,
            "grid_auto_columns": null,
            "grid_auto_flow": null,
            "grid_auto_rows": null,
            "grid_column": null,
            "grid_gap": null,
            "grid_row": null,
            "grid_template_areas": null,
            "grid_template_columns": null,
            "grid_template_rows": null,
            "height": null,
            "justify_content": null,
            "justify_items": null,
            "left": null,
            "margin": null,
            "max_height": null,
            "max_width": null,
            "min_height": null,
            "min_width": null,
            "object_fit": null,
            "object_position": null,
            "order": null,
            "overflow": null,
            "overflow_x": null,
            "overflow_y": null,
            "padding": null,
            "right": null,
            "top": null,
            "visibility": null,
            "width": null
          }
        },
        "aa1c25fe2b9643f0ab4340d82d8659b0": {
          "model_module": "@jupyter-widgets/controls",
          "model_name": "DescriptionStyleModel",
          "model_module_version": "1.5.0",
          "state": {
            "_model_module": "@jupyter-widgets/controls",
            "_model_module_version": "1.5.0",
            "_model_name": "DescriptionStyleModel",
            "_view_count": null,
            "_view_module": "@jupyter-widgets/base",
            "_view_module_version": "1.2.0",
            "_view_name": "StyleView",
            "description_width": ""
          }
        }
      }
    }
  },
  "nbformat": 4,
  "nbformat_minor": 0
}